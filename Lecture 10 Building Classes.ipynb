{
 "cells": [
  {
   "cell_type": "markdown",
   "id": "7f15d6d0",
   "metadata": {},
   "source": [
    "# Object Oriented Programming\n",
    "\n",
    "Data and functions are bundled together into “objects”.\n",
    "\n",
    "A class definition is a blueprint for a particular class of objects (e.g., lists, strings or complex numbers).\n",
    "\n",
    "It describes\n",
    "\n",
    "* What kind of data the class stores\n",
    "\n",
    "* What methods it has for acting on these data\n",
    "\n",
    "An **object** or **instance** is a realization of the class, created from the blueprint\n",
    "\n",
    "Each instance has its own unique data.\n",
    "\n",
    "**Methods** set out in the class definition act on this (and other) data.\n",
    "\n",
    "In Python, the data and methods of an object are collectively referred to as **attributes**.\n",
    "\n",
    "Attributes are accessed via “dotted attribute notation”"
   ]
  },
  {
   "cell_type": "code",
   "execution_count": 1,
   "id": "7a2673bb",
   "metadata": {},
   "outputs": [],
   "source": [
    "import numpy as np\n",
    "import matplotlib.pyplot as plt"
   ]
  },
  {
   "cell_type": "code",
   "execution_count": 2,
   "id": "557c3674",
   "metadata": {},
   "outputs": [],
   "source": [
    "x = [1, 4, 6]"
   ]
  },
  {
   "cell_type": "code",
   "execution_count": 3,
   "id": "8cb83814",
   "metadata": {},
   "outputs": [],
   "source": [
    "x.sort()"
   ]
  },
  {
   "cell_type": "code",
   "execution_count": 4,
   "id": "9f9499a6",
   "metadata": {},
   "outputs": [
    {
     "data": {
      "text/plain": [
       "list"
      ]
     },
     "execution_count": 4,
     "metadata": {},
     "output_type": "execute_result"
    }
   ],
   "source": [
    "x.__class__"
   ]
  },
  {
   "cell_type": "code",
   "execution_count": 5,
   "id": "d1148192",
   "metadata": {},
   "outputs": [
    {
     "data": {
      "text/plain": [
       "['__add__',\n",
       " '__class__',\n",
       " '__contains__',\n",
       " '__delattr__',\n",
       " '__delitem__',\n",
       " '__dir__',\n",
       " '__doc__',\n",
       " '__eq__',\n",
       " '__format__',\n",
       " '__ge__',\n",
       " '__getattribute__',\n",
       " '__getitem__',\n",
       " '__gt__',\n",
       " '__hash__',\n",
       " '__iadd__',\n",
       " '__imul__',\n",
       " '__init__',\n",
       " '__init_subclass__',\n",
       " '__iter__',\n",
       " '__le__',\n",
       " '__len__',\n",
       " '__lt__',\n",
       " '__mul__',\n",
       " '__ne__',\n",
       " '__new__',\n",
       " '__reduce__',\n",
       " '__reduce_ex__',\n",
       " '__repr__',\n",
       " '__reversed__',\n",
       " '__rmul__',\n",
       " '__setattr__',\n",
       " '__setitem__',\n",
       " '__sizeof__',\n",
       " '__str__',\n",
       " '__subclasshook__',\n",
       " 'append',\n",
       " 'clear',\n",
       " 'copy',\n",
       " 'count',\n",
       " 'extend',\n",
       " 'index',\n",
       " 'insert',\n",
       " 'pop',\n",
       " 'remove',\n",
       " 'reverse',\n",
       " 'sort']"
      ]
     },
     "execution_count": 5,
     "metadata": {},
     "output_type": "execute_result"
    }
   ],
   "source": [
    "dir(x)"
   ]
  },
  {
   "cell_type": "code",
   "execution_count": 7,
   "id": "40d663ac",
   "metadata": {},
   "outputs": [],
   "source": [
    "class Consumer:\n",
    "    def __init__(self,w):\n",
    "        'Initialize consumer with w dollars of wealth'\n",
    "        self.wealth = w\n",
    "    \n",
    "    def earn(self,y):\n",
    "        'The consumer earns y dollars'\n",
    "        self.wealth = self.wealth + y\n",
    "    \n",
    "    def spend(self,x):\n",
    "        'The consumer spends x dollars if feasible'\n",
    "        new_wealth = self.wealth - x\n",
    "        if new_wealth < 0:\n",
    "            print('Insufficient funds')\n",
    "        else:\n",
    "            self.wealth = new_wealth"
   ]
  },
  {
   "cell_type": "code",
   "execution_count": 8,
   "id": "3bb927ec",
   "metadata": {},
   "outputs": [],
   "source": [
    "c1 = Consumer(10)"
   ]
  },
  {
   "cell_type": "code",
   "execution_count": 9,
   "id": "134011bd",
   "metadata": {},
   "outputs": [
    {
     "data": {
      "text/plain": [
       "10"
      ]
     },
     "execution_count": 9,
     "metadata": {},
     "output_type": "execute_result"
    }
   ],
   "source": [
    "c1.wealth"
   ]
  },
  {
   "cell_type": "code",
   "execution_count": 10,
   "id": "66342eb4",
   "metadata": {},
   "outputs": [],
   "source": [
    "c1.spend(5)"
   ]
  },
  {
   "cell_type": "code",
   "execution_count": 11,
   "id": "320fbe1b",
   "metadata": {},
   "outputs": [
    {
     "data": {
      "text/plain": [
       "5"
      ]
     },
     "execution_count": 11,
     "metadata": {},
     "output_type": "execute_result"
    }
   ],
   "source": [
    "c1.wealth"
   ]
  },
  {
   "cell_type": "code",
   "execution_count": 12,
   "id": "2b1dfca2",
   "metadata": {},
   "outputs": [],
   "source": [
    "c1.earn(3)"
   ]
  },
  {
   "cell_type": "code",
   "execution_count": 13,
   "id": "7f2bab96",
   "metadata": {},
   "outputs": [
    {
     "data": {
      "text/plain": [
       "8"
      ]
     },
     "execution_count": 13,
     "metadata": {},
     "output_type": "execute_result"
    }
   ],
   "source": [
    "c1.wealth"
   ]
  },
  {
   "cell_type": "code",
   "execution_count": 14,
   "id": "a789a98c",
   "metadata": {},
   "outputs": [
    {
     "name": "stdout",
     "output_type": "stream",
     "text": [
      "Insufficient funds\n"
     ]
    }
   ],
   "source": [
    "c1.spend(100)"
   ]
  },
  {
   "cell_type": "code",
   "execution_count": 15,
   "id": "859d3b69",
   "metadata": {},
   "outputs": [
    {
     "data": {
      "text/plain": [
       "8"
      ]
     },
     "execution_count": 15,
     "metadata": {},
     "output_type": "execute_result"
    }
   ],
   "source": [
    "c1.wealth"
   ]
  },
  {
   "cell_type": "code",
   "execution_count": 16,
   "id": "7cc5b601",
   "metadata": {},
   "outputs": [
    {
     "data": {
      "text/plain": [
       "{'wealth': 8}"
      ]
     },
     "execution_count": 16,
     "metadata": {},
     "output_type": "execute_result"
    }
   ],
   "source": [
    "c1.__dict__"
   ]
  },
  {
   "cell_type": "markdown",
   "id": "785a7145",
   "metadata": {},
   "source": [
    "### Exercise\n",
    "Define an animal class with three attributes and one method. \n",
    "\n",
    "* Attributes: name, color, location\n",
    "* Method: getLocation, get the location of the animal, a string 'home' or 'not home'"
   ]
  },
  {
   "cell_type": "markdown",
   "id": "e22986ab",
   "metadata": {},
   "source": [
    "## Inheritance"
   ]
  },
  {
   "cell_type": "code",
   "execution_count": 17,
   "id": "68f719db",
   "metadata": {},
   "outputs": [],
   "source": [
    "class Animal:\n",
    "    def __init__(self,name,color):\n",
    "        self.name = name\n",
    "        self.color = color\n",
    "        self._location = 'home' # weakly private attribute\n",
    "        self.__age = 3 # strongly private attribute, truly not accessible from outside\n",
    "        \n",
    "    def getLocation(self):\n",
    "        return self._location"
   ]
  },
  {
   "cell_type": "code",
   "execution_count": 18,
   "id": "712f981a",
   "metadata": {},
   "outputs": [],
   "source": [
    "dog = Animal('Martie','black')"
   ]
  },
  {
   "cell_type": "code",
   "execution_count": 19,
   "id": "a1940337",
   "metadata": {},
   "outputs": [
    {
     "data": {
      "text/plain": [
       "'black'"
      ]
     },
     "execution_count": 19,
     "metadata": {},
     "output_type": "execute_result"
    }
   ],
   "source": [
    "dog.color"
   ]
  },
  {
   "cell_type": "code",
   "execution_count": 20,
   "id": "cb325c52",
   "metadata": {},
   "outputs": [
    {
     "data": {
      "text/plain": [
       "'Martie'"
      ]
     },
     "execution_count": 20,
     "metadata": {},
     "output_type": "execute_result"
    }
   ],
   "source": [
    "dog.name"
   ]
  },
  {
   "cell_type": "code",
   "execution_count": 21,
   "id": "24d801a7",
   "metadata": {},
   "outputs": [
    {
     "data": {
      "text/plain": [
       "'home'"
      ]
     },
     "execution_count": 21,
     "metadata": {},
     "output_type": "execute_result"
    }
   ],
   "source": [
    "dog._location"
   ]
  },
  {
   "cell_type": "code",
   "execution_count": 22,
   "id": "689a81a0",
   "metadata": {},
   "outputs": [
    {
     "ename": "AttributeError",
     "evalue": "'Animal' object has no attribute '__age'",
     "output_type": "error",
     "traceback": [
      "\u001b[0;31m---------------------------------------------------------------------------\u001b[0m",
      "\u001b[0;31mAttributeError\u001b[0m                            Traceback (most recent call last)",
      "Input \u001b[0;32mIn [22]\u001b[0m, in \u001b[0;36m<cell line: 1>\u001b[0;34m()\u001b[0m\n\u001b[0;32m----> 1\u001b[0m \u001b[43mdog\u001b[49m\u001b[38;5;241;43m.\u001b[39;49m\u001b[43m__age\u001b[49m\n",
      "\u001b[0;31mAttributeError\u001b[0m: 'Animal' object has no attribute '__age'"
     ]
    }
   ],
   "source": [
    "dog.__age"
   ]
  },
  {
   "cell_type": "code",
   "execution_count": 23,
   "id": "fc925a90",
   "metadata": {},
   "outputs": [
    {
     "data": {
      "text/plain": [
       "3"
      ]
     },
     "execution_count": 23,
     "metadata": {},
     "output_type": "execute_result"
    }
   ],
   "source": [
    "dog._Animal__age"
   ]
  },
  {
   "cell_type": "code",
   "execution_count": 24,
   "id": "c162b1a8",
   "metadata": {},
   "outputs": [],
   "source": [
    "class Cat(Animal):\n",
    "    def purr(self):\n",
    "        print('Purrrrr ...')"
   ]
  },
  {
   "cell_type": "code",
   "execution_count": 25,
   "id": "6c5a1823",
   "metadata": {},
   "outputs": [],
   "source": [
    "Teddy = Cat('Teddy','Gray')"
   ]
  },
  {
   "cell_type": "code",
   "execution_count": 26,
   "id": "f6bc35b7",
   "metadata": {},
   "outputs": [
    {
     "data": {
      "text/plain": [
       "'Gray'"
      ]
     },
     "execution_count": 26,
     "metadata": {},
     "output_type": "execute_result"
    }
   ],
   "source": [
    "Teddy.color"
   ]
  },
  {
   "cell_type": "code",
   "execution_count": 27,
   "id": "2890e048",
   "metadata": {},
   "outputs": [
    {
     "data": {
      "text/plain": [
       "'home'"
      ]
     },
     "execution_count": 27,
     "metadata": {},
     "output_type": "execute_result"
    }
   ],
   "source": [
    "Teddy.getLocation()"
   ]
  },
  {
   "cell_type": "code",
   "execution_count": 28,
   "id": "3b0eb375",
   "metadata": {},
   "outputs": [
    {
     "name": "stdout",
     "output_type": "stream",
     "text": [
      "Purrrrr ...\n"
     ]
    }
   ],
   "source": [
    "Teddy.purr()"
   ]
  },
  {
   "cell_type": "code",
   "execution_count": 29,
   "id": "fc96dfe1",
   "metadata": {},
   "outputs": [
    {
     "ename": "AttributeError",
     "evalue": "'Animal' object has no attribute 'purr'",
     "output_type": "error",
     "traceback": [
      "\u001b[0;31m---------------------------------------------------------------------------\u001b[0m",
      "\u001b[0;31mAttributeError\u001b[0m                            Traceback (most recent call last)",
      "Input \u001b[0;32mIn [29]\u001b[0m, in \u001b[0;36m<cell line: 1>\u001b[0;34m()\u001b[0m\n\u001b[0;32m----> 1\u001b[0m \u001b[43mdog\u001b[49m\u001b[38;5;241;43m.\u001b[39;49m\u001b[43mpurr\u001b[49m()\n",
      "\u001b[0;31mAttributeError\u001b[0m: 'Animal' object has no attribute 'purr'"
     ]
    }
   ],
   "source": [
    "dog.purr()"
   ]
  },
  {
   "cell_type": "code",
   "execution_count": 30,
   "id": "de60cb7c",
   "metadata": {},
   "outputs": [
    {
     "data": {
      "text/plain": [
       "'home'"
      ]
     },
     "execution_count": 30,
     "metadata": {},
     "output_type": "execute_result"
    }
   ],
   "source": [
    "Teddy._location"
   ]
  },
  {
   "cell_type": "code",
   "execution_count": null,
   "id": "056ad5bd",
   "metadata": {},
   "outputs": [],
   "source": []
  }
 ],
 "metadata": {
  "kernelspec": {
   "display_name": "Python 3 (ipykernel)",
   "language": "python",
   "name": "python3"
  },
  "language_info": {
   "codemirror_mode": {
    "name": "ipython",
    "version": 3
   },
   "file_extension": ".py",
   "mimetype": "text/x-python",
   "name": "python",
   "nbconvert_exporter": "python",
   "pygments_lexer": "ipython3",
   "version": "3.8.11"
  }
 },
 "nbformat": 4,
 "nbformat_minor": 5
}
