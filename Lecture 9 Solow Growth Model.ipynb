{
 "cells": [
  {
   "cell_type": "code",
   "execution_count": 1,
   "id": "f4fae984",
   "metadata": {},
   "outputs": [],
   "source": [
    "import numpy as np\n",
    "import matplotlib.pyplot as plt"
   ]
  },
  {
   "cell_type": "markdown",
   "id": "883d02ef",
   "metadata": {},
   "source": [
    "$$ Y = A K^\\alpha L^{1-\\alpha} $$"
   ]
  },
  {
   "cell_type": "code",
   "execution_count": 2,
   "id": "dffdfa00",
   "metadata": {},
   "outputs": [],
   "source": [
    "α = 1/3"
   ]
  },
  {
   "cell_type": "code",
   "execution_count": 6,
   "id": "ad351fb4",
   "metadata": {},
   "outputs": [],
   "source": [
    "def F(A,K,L):\n",
    "    return A*K**α*L**(1-α)"
   ]
  },
  {
   "cell_type": "code",
   "execution_count": 7,
   "id": "e2afb12e",
   "metadata": {},
   "outputs": [],
   "source": [
    "K = np.linspace(0,40,60)"
   ]
  },
  {
   "cell_type": "code",
   "execution_count": 8,
   "id": "d00fe8ef",
   "metadata": {},
   "outputs": [
    {
     "data": {
      "text/plain": [
       "[<matplotlib.lines.Line2D at 0x7fb3ba4d5940>]"
      ]
     },
     "execution_count": 8,
     "metadata": {},
     "output_type": "execute_result"
    },
    {
     "data": {
      "image/png": "[encoded data removed]",
      "text/plain": [
       "<Figure size 432x288 with 1 Axes>"
      ]
     },
     "metadata": {
      "needs_background": "light"
     },
     "output_type": "display_data"
    }
   ],
   "source": [
    "fig, ax = plt.subplots()\n",
    "ax.plot(K, F(1,K,8))"
   ]
  },
  {
   "cell_type": "code",
   "execution_count": 9,
   "id": "a39459aa",
   "metadata": {},
   "outputs": [
    {
     "name": "stdout",
     "output_type": "stream",
     "text": [
      "10.48296557683559\n"
     ]
    }
   ],
   "source": [
    "K1 = 8\n",
    "L1 = 12\n",
    "Y1 = F(1,K1,L1)\n",
    "print(Y1)"
   ]
  },
  {
   "cell_type": "code",
   "execution_count": 10,
   "id": "82c88fb8",
   "metadata": {},
   "outputs": [
    {
     "name": "stdout",
     "output_type": "stream",
     "text": [
      "20.96593115367118\n"
     ]
    }
   ],
   "source": [
    "K2 = 16\n",
    "L2 = 24\n",
    "Y2 = F(1,K2,L2)\n",
    "print(Y2)"
   ]
  },
  {
   "cell_type": "code",
   "execution_count": 11,
   "id": "8b82838e",
   "metadata": {},
   "outputs": [
    {
     "data": {
      "text/plain": [
       "2.0"
      ]
     },
     "execution_count": 11,
     "metadata": {},
     "output_type": "execute_result"
    }
   ],
   "source": [
    "Y2/Y1"
   ]
  },
  {
   "cell_type": "code",
   "execution_count": null,
   "id": "5988df3b",
   "metadata": {},
   "outputs": [],
   "source": []
  }
 ],
 "metadata": {
  "kernelspec": {
   "display_name": "Python 3 (ipykernel)",
   "language": "python",
   "name": "python3"
  },
  "language_info": {
   "codemirror_mode": {
    "name": "ipython",
    "version": 3
   },
   "file_extension": ".py",
   "mimetype": "text/x-python",
   "name": "python",
   "nbconvert_exporter": "python",
   "pygments_lexer": "ipython3",
   "version": "3.8.11"
  }
 },
 "nbformat": 4,
 "nbformat_minor": 5
}
