{
 "cells": [
  {
   "cell_type": "code",
   "execution_count": 1,
   "id": "f4fae984",
   "metadata": {},
   "outputs": [],
   "source": [
    "import numpy as np\n",
    "import matplotlib.pyplot as plt"
   ]
  },
  {
   "cell_type": "markdown",
   "id": "883d02ef",
   "metadata": {},
   "source": [
    "$$ Y = A K^\\alpha L^{1-\\alpha} $$"
   ]
  },
  {
   "cell_type": "code",
   "execution_count": 2,
   "id": "dffdfa00",
   "metadata": {},
   "outputs": [],
   "source": [
    "α = 1/3"
   ]
  },
  {
   "cell_type": "code",
   "execution_count": 6,
   "id": "ad351fb4",
   "metadata": {},
   "outputs": [],
   "source": [
    "def F(A,K,L):\n",
    "    return A*K**α*L**(1-α)"
   ]
  },
  {
   "cell_type": "code",
   "execution_count": 7,
   "id": "e2afb12e",
   "metadata": {},
   "outputs": [],
   "source": [
    "K = np.linspace(0,40,60)"
   ]
  },
  {
   "cell_type": "code",
   "execution_count": 8,
   "id": "d00fe8ef",
   "metadata": {},
   "outputs": [
    {
     "data": {
      "text/plain": [
       "[<matplotlib.lines.Line2D at 0x7fb3ba4d5940>]"
      ]
     },
     "execution_count": 8,
     "metadata": {},
     "output_type": "execute_result"
    },
    {
     "data": {
      "image/png": "[encoded data removed]",
      "text/plain": [
       "<Figure size 432x288 with 1 Axes>"
      ]
     },
     "metadata": {
      "needs_background": "light"
     },
     "output_type": "display_data"
    }
   ],
   "source": [
    "fig, ax = plt.subplots()\n",
    "ax.plot(K, F(1,K,8))"
   ]
  },
  {
   "cell_type": "code",
   "execution_count": 9,
   "id": "a39459aa",
   "metadata": {},
   "outputs": [
    {
     "name": "stdout",
     "output_type": "stream",
     "text": [
      "10.48296557683559\n"
     ]
    }
   ],
   "source": [
    "K1 = 8\n",
    "L1 = 12\n",
    "Y1 = F(1,K1,L1)\n",
    "print(Y1)"
   ]
  },
  {
   "cell_type": "code",
   "execution_count": 10,
   "id": "82c88fb8",
   "metadata": {},
   "outputs": [
    {
     "name": "stdout",
     "output_type": "stream",
     "text": [
      "20.96593115367118\n"
     ]
    }
   ],
   "source": [
    "K2 = 16\n",
    "L2 = 24\n",
    "Y2 = F(1,K2,L2)\n",
    "print(Y2)"
   ]
  },
  {
   "cell_type": "code",
   "execution_count": 11,
   "id": "8b82838e",
   "metadata": {},
   "outputs": [
    {
     "data": {
      "text/plain": [
       "2.0"
      ]
     },
     "execution_count": 11,
     "metadata": {},
     "output_type": "execute_result"
    }
   ],
   "source": [
    "Y2/Y1"
   ]
  },
  {
   "cell_type": "markdown",
   "id": "1a31c416",
   "metadata": {},
   "source": [
    "## Production per worker"
   ]
  },
  {
   "cell_type": "code",
   "execution_count": 3,
   "id": "c99a7365",
   "metadata": {},
   "outputs": [],
   "source": [
    "α = 1/3\n",
    "n = .02\n",
    "δ = .1\n",
    "s = .2"
   ]
  },
  {
   "cell_type": "code",
   "execution_count": 2,
   "id": "4b4c2808",
   "metadata": {},
   "outputs": [],
   "source": [
    "def f(A,k):\n",
    "    return A*k**α"
   ]
  },
  {
   "cell_type": "code",
   "execution_count": 4,
   "id": "1e40c382",
   "metadata": {},
   "outputs": [],
   "source": [
    "k = np.linspace(0,10,20)"
   ]
  },
  {
   "cell_type": "markdown",
   "id": "1599c2aa",
   "metadata": {},
   "source": [
    "$$ \\Delta k = s f(k) - (n+\\delta) k $$"
   ]
  },
  {
   "cell_type": "code",
   "execution_count": 12,
   "id": "bcbebb41",
   "metadata": {},
   "outputs": [
    {
     "data": {
      "text/plain": [
       "<matplotlib.legend.Legend at 0x7fc0b2878040>"
      ]
     },
     "execution_count": 12,
     "metadata": {},
     "output_type": "execute_result"
    },
    {
     "data": {
      "image/png": "[encoded data removed]",
      "text/plain": [
       "<Figure size 432x288 with 1 Axes>"
      ]
     },
     "metadata": {
      "needs_background": "light"
     },
     "output_type": "display_data"
    }
   ],
   "source": [
    "fig, ax = plt.subplots()\n",
    "# ax.plot(k,f(1,k),label='f(k)')\n",
    "ax.plot(k,s*f(1,k),label='investment')\n",
    "ax.plot(k,2*s*f(1,k),label='higher investment')\n",
    "ax.plot(k, (n+δ)*k,label='(n+δ)k')\n",
    "ax.legend()"
   ]
  },
  {
   "cell_type": "markdown",
   "id": "fc72e649",
   "metadata": {},
   "source": [
    "## A digression: using symbols"
   ]
  },
  {
   "cell_type": "code",
   "execution_count": 13,
   "id": "cf0f1812",
   "metadata": {},
   "outputs": [],
   "source": [
    "from sympy import *"
   ]
  },
  {
   "cell_type": "code",
   "execution_count": 14,
   "id": "ef918dbb",
   "metadata": {},
   "outputs": [],
   "source": [
    "A, K, L, α = symbols('A K L α')"
   ]
  },
  {
   "cell_type": "code",
   "execution_count": 15,
   "id": "2c2ccca7",
   "metadata": {},
   "outputs": [],
   "source": [
    "F = A*K**α*L**(1-α)"
   ]
  },
  {
   "cell_type": "code",
   "execution_count": 16,
   "id": "b5149cb7",
   "metadata": {},
   "outputs": [
    {
     "data": {
      "text/latex": [
       "$\\displaystyle A K^{α} L^{1 - α}$"
      ],
      "text/plain": [
       "A*K**α*L**(1 - α)"
      ]
     },
     "execution_count": 16,
     "metadata": {},
     "output_type": "execute_result"
    }
   ],
   "source": [
    "F"
   ]
  },
  {
   "cell_type": "code",
   "execution_count": 17,
   "id": "f833b009",
   "metadata": {},
   "outputs": [],
   "source": [
    "MPK = diff(F,K)"
   ]
  },
  {
   "cell_type": "code",
   "execution_count": 18,
   "id": "79c8ac51",
   "metadata": {},
   "outputs": [
    {
     "data": {
      "text/latex": [
       "$\\displaystyle \\frac{A K^{α} L^{1 - α} α}{K}$"
      ],
      "text/plain": [
       "A*K**α*L**(1 - α)*α/K"
      ]
     },
     "execution_count": 18,
     "metadata": {},
     "output_type": "execute_result"
    }
   ],
   "source": [
    "MPK"
   ]
  },
  {
   "cell_type": "code",
   "execution_count": 19,
   "id": "400632e0",
   "metadata": {},
   "outputs": [
    {
     "data": {
      "text/latex": [
       "$\\displaystyle A K^{α - 1} L^{1 - α} α$"
      ],
      "text/plain": [
       "A*K**(α - 1)*L**(1 - α)*α"
      ]
     },
     "execution_count": 19,
     "metadata": {},
     "output_type": "execute_result"
    }
   ],
   "source": [
    "simplify(MPK)"
   ]
  },
  {
   "cell_type": "code",
   "execution_count": 20,
   "id": "92974944",
   "metadata": {},
   "outputs": [
    {
     "data": {
      "text/latex": [
       "$\\displaystyle K$"
      ],
      "text/plain": [
       "K"
      ]
     },
     "execution_count": 20,
     "metadata": {},
     "output_type": "execute_result"
    }
   ],
   "source": [
    "K"
   ]
  },
  {
   "cell_type": "code",
   "execution_count": 21,
   "id": "cc29dd2e",
   "metadata": {},
   "outputs": [],
   "source": [
    "K_values = np.linspace(0,40,60)"
   ]
  },
  {
   "cell_type": "code",
   "execution_count": 22,
   "id": "16ae5bf3",
   "metadata": {},
   "outputs": [],
   "source": [
    "Y=np.zeros(60)"
   ]
  },
  {
   "cell_type": "code",
   "execution_count": 23,
   "id": "5c1f9913",
   "metadata": {},
   "outputs": [
    {
     "data": {
      "text/latex": [
       "$\\displaystyle 5.03968419957949$"
      ],
      "text/plain": [
       "5.03968419957949"
      ]
     },
     "execution_count": 23,
     "metadata": {},
     "output_type": "execute_result"
    }
   ],
   "source": [
    "F.subs([(A,1),(K,2),(L,8),(α,1/3)])"
   ]
  },
  {
   "cell_type": "code",
   "execution_count": 24,
   "id": "d5945fa4",
   "metadata": {},
   "outputs": [],
   "source": [
    "Y = [ F.subs([(A,1),(K,K_value),(L,8),(α,1/3)]) for K_value in K_values  ]"
   ]
  },
  {
   "cell_type": "code",
   "execution_count": 25,
   "id": "0b05a13e",
   "metadata": {},
   "outputs": [
    {
     "data": {
      "text/plain": [
       "[<matplotlib.lines.Line2D at 0x7fc08008f400>]"
      ]
     },
     "execution_count": 25,
     "metadata": {},
     "output_type": "execute_result"
    },
    {
     "data": {
      "image/png": "[encoded data removed]",
      "text/plain": [
       "<Figure size 432x288 with 1 Axes>"
      ]
     },
     "metadata": {
      "needs_background": "light"
     },
     "output_type": "display_data"
    }
   ],
   "source": [
    "fig, ax = plt.subplots()\n",
    "ax.plot(K_values, Y)"
   ]
  },
  {
   "cell_type": "code",
   "execution_count": null,
   "id": "e14bad86",
   "metadata": {},
   "outputs": [],
   "source": []
  }
 ],
 "metadata": {
  "kernelspec": {
   "display_name": "Python 3 (ipykernel)",
   "language": "python",
   "name": "python3"
  },
  "language_info": {
   "codemirror_mode": {
    "name": "ipython",
    "version": 3
   },
   "file_extension": ".py",
   "mimetype": "text/x-python",
   "name": "python",
   "nbconvert_exporter": "python",
   "pygments_lexer": "ipython3",
   "version": "3.8.11"
  }
 },
 "nbformat": 4,
 "nbformat_minor": 5
}
