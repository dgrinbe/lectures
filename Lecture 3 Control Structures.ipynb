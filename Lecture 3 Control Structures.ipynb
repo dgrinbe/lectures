{
 "cells": [
  {
   "cell_type": "markdown",
   "id": "0e636ac8",
   "metadata": {},
   "source": [
    "# Control Structures"
   ]
  },
  {
   "cell_type": "markdown",
   "id": "2b9c7b64",
   "metadata": {},
   "source": [
    "## Conditional statements\n",
    "\n",
    "if condition:\n",
    "\n",
    "    code to run when condition is True\n",
    "\n",
    "else:\n",
    "\n",
    "    code to run if no conditions above are True"
   ]
  },
  {
   "cell_type": "code",
   "execution_count": 3,
   "id": "33f0e024",
   "metadata": {},
   "outputs": [],
   "source": [
    "num = 2"
   ]
  },
  {
   "cell_type": "code",
   "execution_count": 5,
   "id": "ac1a89ca",
   "metadata": {},
   "outputs": [
    {
     "name": "stdout",
     "output_type": "stream",
     "text": [
      "smaller than 3\n"
     ]
    }
   ],
   "source": [
    "if num < 3:\n",
    "    print('smaller than 3')"
   ]
  },
  {
   "cell_type": "code",
   "execution_count": 6,
   "id": "4e2aca43",
   "metadata": {},
   "outputs": [
    {
     "name": "stdout",
     "output_type": "stream",
     "text": [
      "not bigger than 5\n"
     ]
    }
   ],
   "source": [
    "if num > 5:\n",
    "    print('bigger than 5')\n",
    "else:\n",
    "    print('not bigger than 5')"
   ]
  },
  {
   "cell_type": "code",
   "execution_count": 12,
   "id": "6f07a7e6",
   "metadata": {},
   "outputs": [
    {
     "name": "stdout",
     "output_type": "stream",
     "text": [
      "smaller than 3\n"
     ]
    }
   ],
   "source": [
    "num = 2\n",
    "if num > 5:\n",
    "    print('bigger than 5')\n",
    "elif num < 3:\n",
    "    print('smaller than 3')\n",
    "else:\n",
    "    print('neither')\n",
    "print('general')"
   ]
  },
  {
   "cell_type": "code",
   "execution_count": 13,
   "id": "1b4b8b71",
   "metadata": {},
   "outputs": [
    {
     "name": "stdout",
     "output_type": "stream",
     "text": [
      "This is where `False` code is run\n",
      "More else code\n",
      "Code runs after 'if' block, regardless of val\n"
     ]
    }
   ],
   "source": [
    "val = (num < 1)\n",
    "if val is True:\n",
    "    print(\"This is where `True` code is run\")\n",
    "else:\n",
    "    print(\"This is where `False` code is run\")\n",
    "    print(\"More else code\")\n",
    "\n",
    "print(\"Code runs after 'if' block, regardless of val\")"
   ]
  },
  {
   "cell_type": "code",
   "execution_count": 15,
   "id": "61056fa3",
   "metadata": {},
   "outputs": [
    {
     "data": {
      "text/plain": [
       "2"
      ]
     },
     "execution_count": 15,
     "metadata": {},
     "output_type": "execute_result"
    }
   ],
   "source": [
    "num"
   ]
  },
  {
   "cell_type": "code",
   "execution_count": 16,
   "id": "8582168c",
   "metadata": {},
   "outputs": [
    {
     "name": "stdout",
     "output_type": "stream",
     "text": [
      "Last condition\n"
     ]
    }
   ],
   "source": [
    "num2 = 6\n",
    "if num > 2 and num2 > 6:\n",
    "    print('both')\n",
    "elif num > 3 or num2 > 6:\n",
    "    print('condition 2')\n",
    "elif not num > 3:\n",
    "    print('Last condition')        "
   ]
  },
  {
   "cell_type": "code",
   "execution_count": 17,
   "id": "83093a51",
   "metadata": {},
   "outputs": [
    {
     "name": "stdout",
     "output_type": "stream",
     "text": [
      "42\n"
     ]
    }
   ],
   "source": [
    "a = 4\n",
    "b = 1 if a>=5 else 42\n",
    "print(b)"
   ]
  },
  {
   "cell_type": "markdown",
   "id": "96ddfe6c",
   "metadata": {},
   "source": [
    "### Exercise\n",
    "rewrite the above code using \"normal\" conditional statements"
   ]
  },
  {
   "cell_type": "code",
   "execution_count": 18,
   "id": "531a40aa",
   "metadata": {},
   "outputs": [
    {
     "name": "stdout",
     "output_type": "stream",
     "text": [
      "42\n"
     ]
    }
   ],
   "source": [
    "a = 4\n",
    "if a>=5:\n",
    "    b = 1\n",
    "else:\n",
    "    b = 42\n",
    "print(b)"
   ]
  },
  {
   "cell_type": "markdown",
   "id": "19a62bbc",
   "metadata": {},
   "source": [
    "## Iterations\n",
    "Lists, tuples, dicts, and range/zip/enumerate objects are all iterables.\n",
    "\n",
    "### `for` loops"
   ]
  },
  {
   "cell_type": "code",
   "execution_count": null,
   "id": "099d4d43",
   "metadata": {},
   "outputs": [],
   "source": [
    "#for item in iterable:\n",
    "    #operation 1 with item\n",
    "    #operation 2 with item\n",
    "    #...\n",
    "    #operation N with item"
   ]
  },
  {
   "cell_type": "markdown",
   "id": "2c957b73",
   "metadata": {},
   "source": [
    "what is the square root of each element in a list?"
   ]
  },
  {
   "cell_type": "code",
   "execution_count": 19,
   "id": "57c25cad",
   "metadata": {},
   "outputs": [],
   "source": [
    "x = [16, 36, 81, 256]"
   ]
  },
  {
   "cell_type": "code",
   "execution_count": 21,
   "id": "beaecdb1",
   "metadata": {},
   "outputs": [],
   "source": [
    "import math"
   ]
  },
  {
   "cell_type": "code",
   "execution_count": 22,
   "id": "1559837d",
   "metadata": {},
   "outputs": [
    {
     "data": {
      "text/plain": [
       "4.0"
      ]
     },
     "execution_count": 22,
     "metadata": {},
     "output_type": "execute_result"
    }
   ],
   "source": [
    "math.sqrt(16)"
   ]
  },
  {
   "cell_type": "code",
   "execution_count": 23,
   "id": "2179c9e9",
   "metadata": {},
   "outputs": [
    {
     "data": {
      "text/plain": [
       "4.0"
      ]
     },
     "execution_count": 23,
     "metadata": {},
     "output_type": "execute_result"
    }
   ],
   "source": [
    "math.sqrt(x[0])"
   ]
  },
  {
   "cell_type": "code",
   "execution_count": 24,
   "id": "13680900",
   "metadata": {},
   "outputs": [
    {
     "data": {
      "text/plain": [
       "6.0"
      ]
     },
     "execution_count": 24,
     "metadata": {},
     "output_type": "execute_result"
    }
   ],
   "source": [
    "math.sqrt(x[1])"
   ]
  },
  {
   "cell_type": "code",
   "execution_count": 25,
   "id": "b9ed96b4",
   "metadata": {},
   "outputs": [
    {
     "data": {
      "text/plain": [
       "9.0"
      ]
     },
     "execution_count": 25,
     "metadata": {},
     "output_type": "execute_result"
    }
   ],
   "source": [
    "math.sqrt(x[2])"
   ]
  },
  {
   "cell_type": "code",
   "execution_count": 26,
   "id": "921f85bd",
   "metadata": {},
   "outputs": [
    {
     "name": "stdout",
     "output_type": "stream",
     "text": [
      "4.0\n",
      "6.0\n",
      "9.0\n",
      "16.0\n"
     ]
    }
   ],
   "source": [
    "for number in x:\n",
    "    print(math.sqrt(number))"
   ]
  },
  {
   "cell_type": "code",
   "execution_count": 27,
   "id": "bca853c5",
   "metadata": {},
   "outputs": [],
   "source": [
    "cities = [\"Phoenix\", \"Austin\", \"San Diego\", \"New York\"]"
   ]
  },
  {
   "cell_type": "markdown",
   "id": "6f818f24",
   "metadata": {},
   "source": [
    "with a `for` loop, print out: city 0 is Phoenix, city 1 is Austin ..."
   ]
  },
  {
   "cell_type": "code",
   "execution_count": 28,
   "id": "399a7ad8",
   "metadata": {},
   "outputs": [
    {
     "data": {
      "text/plain": [
       "[0, 1, 2, 3]"
      ]
     },
     "execution_count": 28,
     "metadata": {},
     "output_type": "execute_result"
    }
   ],
   "source": [
    "list(range(4))"
   ]
  },
  {
   "cell_type": "code",
   "execution_count": 30,
   "id": "e23cf54c",
   "metadata": {},
   "outputs": [
    {
     "name": "stdout",
     "output_type": "stream",
     "text": [
      "city 0 is Phoenix\n",
      "city 1 is Austin\n",
      "city 2 is San Diego\n",
      "city 3 is New York\n"
     ]
    }
   ],
   "source": [
    "for i in range(4):\n",
    "    print(f'city {i} is {cities[i]}')"
   ]
  },
  {
   "cell_type": "code",
   "execution_count": 31,
   "id": "42df7bc3",
   "metadata": {},
   "outputs": [],
   "source": [
    "cities = [\"Phoenix\", \"Austin\", \"San Diego\", \"New York\"]\n",
    "states = [\"Arizona\", \"Texas\", \"California\", \"New York\"]"
   ]
  },
  {
   "cell_type": "markdown",
   "id": "0c87517a",
   "metadata": {},
   "source": [
    "### Exercise\n",
    "Print out \n",
    "\n",
    "state 0 is Arizona, and city 0 is Phoenix\n",
    "\n",
    "state 1 is Texas, and city 1 is Austin\n",
    "\n",
    "state 2 is California, and city 2 is San Diego\n",
    "\n",
    "state 3 is New York, and city 3 is New York"
   ]
  },
  {
   "cell_type": "code",
   "execution_count": 32,
   "id": "b0199291",
   "metadata": {},
   "outputs": [
    {
     "name": "stdout",
     "output_type": "stream",
     "text": [
      "state 0 is Arizona, and city 0 is Phoenix\n",
      "state 1 is Texas, and city 1 is Austin\n",
      "state 2 is California, and city 2 is San Diego\n",
      "state 3 is New York, and city 3 is New York\n"
     ]
    }
   ],
   "source": [
    "for i in range(4):\n",
    "    print(f'state {i} is {states[i]}, and city {i} is {cities[i]}')"
   ]
  },
  {
   "cell_type": "code",
   "execution_count": 33,
   "id": "4667fe4f",
   "metadata": {},
   "outputs": [
    {
     "name": "stdout",
     "output_type": "stream",
     "text": [
      "[(0, 'Phoenix'), (1, 'Austin'), (2, 'San Diego'), (3, 'New York')]\n"
     ]
    }
   ],
   "source": [
    "temp = enumerate(cities)\n",
    "print(list(temp))"
   ]
  },
  {
   "cell_type": "markdown",
   "id": "e799391e",
   "metadata": {},
   "source": [
    "### Exercise\n",
    "Use the `enumerate` command and a `for` loop, print out:\n",
    "\n",
    "Phoenix is in Arizona\n",
    "\n",
    "Austin is in Texas\n",
    "\n",
    "San Diego is in California\n",
    "\n",
    "New York is in New York\n",
    "\n",
    "Do NOT use `range` command"
   ]
  },
  {
   "cell_type": "code",
   "execution_count": 34,
   "id": "d68c71dc",
   "metadata": {},
   "outputs": [
    {
     "name": "stdout",
     "output_type": "stream",
     "text": [
      "Phoenix is in Arizona\n",
      "Austin is in Texas\n",
      "San Diego is in California\n",
      "New York is in New York\n"
     ]
    }
   ],
   "source": [
    "for index, city in enumerate(cities):\n",
    "    print(f'{city} is in {states[index]}')"
   ]
  },
  {
   "cell_type": "markdown",
   "id": "e69278e6",
   "metadata": {},
   "source": [
    "### Exercise\n",
    "Same as the above, but this time, only print out a statement if the state name is longer than 5 characters"
   ]
  },
  {
   "cell_type": "code",
   "execution_count": 35,
   "id": "ee5e0ed2",
   "metadata": {},
   "outputs": [
    {
     "name": "stdout",
     "output_type": "stream",
     "text": [
      "Phoenix is in Arizona\n",
      "San Diego is in California\n",
      "New York is in New York\n"
     ]
    }
   ],
   "source": [
    "for index, city in enumerate(cities):\n",
    "    if len(states[index])>5:\n",
    "        print(f\"{city} is in {states[index]}\")"
   ]
  },
  {
   "cell_type": "markdown",
   "id": "55a2a8f3",
   "metadata": {},
   "source": [
    "### Exercise\n",
    "Same as the above, but this time, use the `zip` command"
   ]
  },
  {
   "cell_type": "code",
   "execution_count": 37,
   "id": "2a1caf62",
   "metadata": {},
   "outputs": [
    {
     "data": {
      "text/plain": [
       "[('Phoenix', 'Arizona'),\n",
       " ('Austin', 'Texas'),\n",
       " ('San Diego', 'California'),\n",
       " ('New York', 'New York')]"
      ]
     },
     "execution_count": 37,
     "metadata": {},
     "output_type": "execute_result"
    }
   ],
   "source": [
    "list(zip(cities, states))"
   ]
  },
  {
   "cell_type": "code",
   "execution_count": 1,
   "id": "d484e542",
   "metadata": {},
   "outputs": [],
   "source": [
    "cities = [\"Phoenix\", \"Austin\", \"San Diego\", \"New York\"]\n",
    "states = [\"Arizona\", \"Texas\", \"California\", \"New York\"]"
   ]
  },
  {
   "cell_type": "code",
   "execution_count": 2,
   "id": "14118520",
   "metadata": {},
   "outputs": [
    {
     "name": "stdout",
     "output_type": "stream",
     "text": [
      "Phoenix is in Arizona\n",
      "San Diego is in California\n",
      "New York is in New York\n"
     ]
    }
   ],
   "source": [
    "for state, city in zip(states, cities):\n",
    "    if len(state)>5:\n",
    "        print(f'{city} is in {state}')"
   ]
  },
  {
   "cell_type": "markdown",
   "id": "0b51c2f2",
   "metadata": {},
   "source": [
    "A special feature of `zip` and `enumerate`: \n",
    "**the output of them is depleted after one use**"
   ]
  },
  {
   "cell_type": "code",
   "execution_count": 3,
   "id": "270c7bb0",
   "metadata": {},
   "outputs": [],
   "source": [
    "zipped = zip(states, cities)"
   ]
  },
  {
   "cell_type": "code",
   "execution_count": 4,
   "id": "f9f5cc79",
   "metadata": {},
   "outputs": [
    {
     "name": "stdout",
     "output_type": "stream",
     "text": [
      "Arizona Phoenix\n",
      "Texas Austin\n",
      "California San Diego\n",
      "New York New York\n"
     ]
    }
   ],
   "source": [
    "for state, city in zipped:\n",
    "    print(state, city)"
   ]
  },
  {
   "cell_type": "code",
   "execution_count": 5,
   "id": "f945c95c",
   "metadata": {},
   "outputs": [],
   "source": [
    "for state, city in zipped:\n",
    "    print(state, city)"
   ]
  },
  {
   "cell_type": "code",
   "execution_count": 6,
   "id": "ccd57e43",
   "metadata": {},
   "outputs": [
    {
     "data": {
      "text/plain": [
       "[]"
      ]
     },
     "execution_count": 6,
     "metadata": {},
     "output_type": "execute_result"
    }
   ],
   "source": [
    "list(zipped)"
   ]
  },
  {
   "cell_type": "code",
   "execution_count": 9,
   "id": "8e549492",
   "metadata": {},
   "outputs": [
    {
     "name": "stdout",
     "output_type": "stream",
     "text": [
      "Arizona\n",
      "Texas\n",
      "California\n",
      "New York\n"
     ]
    }
   ],
   "source": [
    "for state in states:\n",
    "    print(state)"
   ]
  },
  {
   "cell_type": "markdown",
   "id": "0e4e3d1e",
   "metadata": {},
   "source": [
    "## `while` loops\n",
    "``` python\n",
    "while True_condition:\n",
    "    # repeat these steps\n",
    "```"
   ]
  },
  {
   "cell_type": "code",
   "execution_count": 10,
   "id": "2578ee02",
   "metadata": {},
   "outputs": [
    {
     "name": "stdout",
     "output_type": "stream",
     "text": [
      "Phoenix\n",
      "Austin\n"
     ]
    }
   ],
   "source": [
    "i = 0\n",
    "while i < 2:\n",
    "    print(cities[i])\n",
    "    i = i + 1"
   ]
  },
  {
   "cell_type": "markdown",
   "id": "0502a30b",
   "metadata": {},
   "source": [
    "### Exercise\n",
    "Print out the following statement using a `while` loop\n",
    "\n",
    "state 0 is Arizona, and city 0 is Phoenix\n",
    "\n",
    "state 1 is Texas, and city 1 is Austin\n",
    "\n",
    "state 2 is California, and city 2 is San Diego\n",
    "\n",
    "state 3 is New York, and city 3 is New York"
   ]
  },
  {
   "cell_type": "code",
   "execution_count": 11,
   "id": "3170d09e",
   "metadata": {},
   "outputs": [
    {
     "name": "stdout",
     "output_type": "stream",
     "text": [
      "state 0 is Arizona, and city 0 is Phoenix\n",
      "state 1 is Texas, and city 1 is Austin\n",
      "state 2 is California, and city 2 is San Diego\n",
      "state 3 is New York, and city 3 is New York\n"
     ]
    }
   ],
   "source": [
    "i = 0\n",
    "while i < 4:\n",
    "    print(f'state {i} is {states[i]}, and city {i} is {cities[i]}')\n",
    "    i +=1 # i = i+1"
   ]
  },
  {
   "cell_type": "markdown",
   "id": "a44122a5",
   "metadata": {},
   "source": [
    "## `break` and `continue`"
   ]
  },
  {
   "cell_type": "code",
   "execution_count": 14,
   "id": "abeb9fa9",
   "metadata": {},
   "outputs": [
    {
     "name": "stdout",
     "output_type": "stream",
     "text": [
      "unbroken\n",
      "unbroken\n",
      "unbroken\n",
      "unbroken\n",
      "unbroken\n",
      "unbroken\n",
      "got here\n"
     ]
    }
   ],
   "source": [
    "for i in range(10):\n",
    "    if i == 6:\n",
    "        print('got here')\n",
    "        break\n",
    "        print(i)\n",
    "    else:\n",
    "        print('unbroken')"
   ]
  },
  {
   "cell_type": "code",
   "execution_count": 15,
   "id": "6780f72b",
   "metadata": {},
   "outputs": [
    {
     "name": "stdout",
     "output_type": "stream",
     "text": [
      "unbroken\n",
      "unbroken\n",
      "unbroken\n",
      "unbroken\n",
      "unbroken\n",
      "unbroken\n",
      "got here\n",
      "unbroken\n",
      "unbroken\n",
      "unbroken\n"
     ]
    }
   ],
   "source": [
    "for i in range(10):\n",
    "    if i == 6:\n",
    "        print('got here')\n",
    "        continue\n",
    "        print(i)\n",
    "    else:\n",
    "        print('unbroken')"
   ]
  },
  {
   "cell_type": "markdown",
   "id": "ac4a13b1",
   "metadata": {},
   "source": [
    "### Exercise\n",
    "print out every number between 0 and 9 except 5"
   ]
  },
  {
   "cell_type": "code",
   "execution_count": 16,
   "id": "55e81d35",
   "metadata": {},
   "outputs": [
    {
     "name": "stdout",
     "output_type": "stream",
     "text": [
      "0\n",
      "1\n",
      "2\n",
      "3\n",
      "4\n",
      "6\n",
      "7\n",
      "8\n",
      "9\n"
     ]
    }
   ],
   "source": [
    "for i in range(10):\n",
    "    if i == 5:\n",
    "        continue\n",
    "    print(i)"
   ]
  },
  {
   "cell_type": "markdown",
   "id": "568f9396",
   "metadata": {},
   "source": [
    "## Comprehension"
   ]
  },
  {
   "cell_type": "code",
   "execution_count": 17,
   "id": "427e0126",
   "metadata": {},
   "outputs": [],
   "source": [
    "x = [ 1, 2, 4, 57]"
   ]
  },
  {
   "cell_type": "markdown",
   "id": "530a6698",
   "metadata": {},
   "source": [
    "Task: use a loop to create a new list, each element of which is the squared of x"
   ]
  },
  {
   "cell_type": "code",
   "execution_count": 18,
   "id": "23457746",
   "metadata": {},
   "outputs": [],
   "source": [
    "x_2 = []"
   ]
  },
  {
   "cell_type": "code",
   "execution_count": 19,
   "id": "75983744",
   "metadata": {},
   "outputs": [],
   "source": [
    "for x_val in x:\n",
    "    x_2.append(x_val**2)"
   ]
  },
  {
   "cell_type": "code",
   "execution_count": 21,
   "id": "d3d0a391",
   "metadata": {},
   "outputs": [
    {
     "data": {
      "text/plain": [
       "[1, 4, 16, 3249]"
      ]
     },
     "execution_count": 21,
     "metadata": {},
     "output_type": "execute_result"
    }
   ],
   "source": [
    "x_2"
   ]
  },
  {
   "cell_type": "code",
   "execution_count": 22,
   "id": "b9c27b1d",
   "metadata": {},
   "outputs": [],
   "source": [
    "x2_comp = [ x_val**2 for x_val in x ]"
   ]
  },
  {
   "cell_type": "code",
   "execution_count": 23,
   "id": "f57117b1",
   "metadata": {},
   "outputs": [
    {
     "data": {
      "text/plain": [
       "[1, 4, 16, 3249]"
      ]
     },
     "execution_count": 23,
     "metadata": {},
     "output_type": "execute_result"
    }
   ],
   "source": [
    "x2_comp"
   ]
  },
  {
   "cell_type": "code",
   "execution_count": 24,
   "id": "ea24a098",
   "metadata": {},
   "outputs": [],
   "source": [
    "doubles = [ 2*x for x in range(8)]"
   ]
  },
  {
   "cell_type": "code",
   "execution_count": 25,
   "id": "aaf315d8",
   "metadata": {},
   "outputs": [
    {
     "data": {
      "text/plain": [
       "[0, 2, 4, 6, 8, 10, 12, 14]"
      ]
     },
     "execution_count": 25,
     "metadata": {},
     "output_type": "execute_result"
    }
   ],
   "source": [
    "doubles"
   ]
  },
  {
   "cell_type": "code",
   "execution_count": 26,
   "id": "0bd23d94",
   "metadata": {},
   "outputs": [],
   "source": [
    "animals = ['dog','cat','bird']"
   ]
  },
  {
   "cell_type": "code",
   "execution_count": 27,
   "id": "c374e2b0",
   "metadata": {},
   "outputs": [],
   "source": [
    "plurals = [ animal+'s' for animal in animals ]"
   ]
  },
  {
   "cell_type": "code",
   "execution_count": 28,
   "id": "f5e43f55",
   "metadata": {},
   "outputs": [
    {
     "data": {
      "text/plain": [
       "['dogs', 'cats', 'birds']"
      ]
     },
     "execution_count": 28,
     "metadata": {},
     "output_type": "execute_result"
    }
   ],
   "source": [
    "plurals"
   ]
  }
 ],
 "metadata": {
  "kernelspec": {
   "display_name": "Python 3 (ipykernel)",
   "language": "python",
   "name": "python3"
  },
  "language_info": {
   "codemirror_mode": {
    "name": "ipython",
    "version": 3
   },
   "file_extension": ".py",
   "mimetype": "text/x-python",
   "name": "python",
   "nbconvert_exporter": "python",
   "pygments_lexer": "ipython3",
   "version": "3.8.11"
  }
 },
 "nbformat": 4,
 "nbformat_minor": 5
}
