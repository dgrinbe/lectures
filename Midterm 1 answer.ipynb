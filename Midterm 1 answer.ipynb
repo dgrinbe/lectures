{
 "cells": [
  {
   "cell_type": "markdown",
   "id": "da6ae30e",
   "metadata": {},
   "source": [
    "## Econ 481F Midterm Exam 1 answer key"
   ]
  },
  {
   "cell_type": "markdown",
   "id": "6e18b46c",
   "metadata": {},
   "source": [
    "## Part 1. Python questions"
   ]
  },
  {
   "cell_type": "markdown",
   "id": "d159576b",
   "metadata": {},
   "source": [
    "1. Predict and write down the output of the following Python code (2 points each, 20 points total)"
   ]
  },
  {
   "cell_type": "code",
   "execution_count": 1,
   "id": "dbddc16f-a807-483a-a0cf-0f80ba76db1b",
   "metadata": {},
   "outputs": [],
   "source": [
    "mylist = ['eggs', 'ham', '16', True ]"
   ]
  },
  {
   "cell_type": "code",
   "execution_count": 2,
   "id": "63863957-391d-4314-817b-b50b762a1729",
   "metadata": {},
   "outputs": [
    {
     "data": {
      "text/plain": [
       "'ham'"
      ]
     },
     "execution_count": 2,
     "metadata": {},
     "output_type": "execute_result"
    }
   ],
   "source": [
    "mylist[1]"
   ]
  },
  {
   "cell_type": "code",
   "execution_count": 3,
   "id": "88364ca6-ab7e-4d89-8072-d824e970e234",
   "metadata": {},
   "outputs": [
    {
     "data": {
      "text/plain": [
       "True"
      ]
     },
     "execution_count": 3,
     "metadata": {},
     "output_type": "execute_result"
    }
   ],
   "source": [
    "mylist[-1]"
   ]
  },
  {
   "cell_type": "code",
   "execution_count": 4,
   "id": "1e70b84b",
   "metadata": {},
   "outputs": [
    {
     "data": {
      "text/plain": [
       "['ham', '16']"
      ]
     },
     "execution_count": 4,
     "metadata": {},
     "output_type": "execute_result"
    }
   ],
   "source": [
    "mylist[1:3]"
   ]
  },
  {
   "cell_type": "code",
   "execution_count": 5,
   "id": "db151eaa",
   "metadata": {},
   "outputs": [
    {
     "data": {
      "text/plain": [
       "['eggs', 'ham', '16']"
      ]
     },
     "execution_count": 5,
     "metadata": {},
     "output_type": "execute_result"
    }
   ],
   "source": [
    "mylist[-4:-1]"
   ]
  },
  {
   "cell_type": "code",
   "execution_count": 6,
   "id": "e7deb5d7",
   "metadata": {},
   "outputs": [
    {
     "data": {
      "text/plain": [
       "['eggs', 'ham', '16', True]"
      ]
     },
     "execution_count": 6,
     "metadata": {},
     "output_type": "execute_result"
    }
   ],
   "source": [
    "mylist[-4:]"
   ]
  },
  {
   "cell_type": "code",
   "execution_count": 7,
   "id": "6b45d227",
   "metadata": {},
   "outputs": [
    {
     "data": {
      "text/plain": [
       "str"
      ]
     },
     "execution_count": 7,
     "metadata": {},
     "output_type": "execute_result"
    }
   ],
   "source": [
    "type(mylist[2])"
   ]
  },
  {
   "cell_type": "code",
   "execution_count": 8,
   "id": "14c37e07",
   "metadata": {},
   "outputs": [
    {
     "data": {
      "text/plain": [
       "False"
      ]
     },
     "execution_count": 8,
     "metadata": {},
     "output_type": "execute_result"
    }
   ],
   "source": [
    "mylist[1]=='eggs'"
   ]
  },
  {
   "cell_type": "code",
   "execution_count": 9,
   "id": "7d338b03",
   "metadata": {},
   "outputs": [
    {
     "data": {
      "text/plain": [
       "int"
      ]
     },
     "execution_count": 9,
     "metadata": {},
     "output_type": "execute_result"
    }
   ],
   "source": [
    "mylist[2] = 15\n",
    "type(mylist[2])"
   ]
  },
  {
   "cell_type": "code",
   "execution_count": 10,
   "id": "3534e976",
   "metadata": {},
   "outputs": [
    {
     "data": {
      "text/plain": [
       "5"
      ]
     },
     "execution_count": 10,
     "metadata": {},
     "output_type": "execute_result"
    }
   ],
   "source": [
    "mylist.append(7)\n",
    "len(mylist)"
   ]
  },
  {
   "cell_type": "code",
   "execution_count": 11,
   "id": "84b2c7ef",
   "metadata": {},
   "outputs": [
    {
     "data": {
      "text/plain": [
       "tuple"
      ]
     },
     "execution_count": 11,
     "metadata": {},
     "output_type": "execute_result"
    }
   ],
   "source": [
    "x = ('USA',\"Russia\")\n",
    "type(x)"
   ]
  },
  {
   "cell_type": "markdown",
   "id": "090d494b",
   "metadata": {},
   "source": [
    "    2. Write a block of code to print out the following output (assuming that the list has not been altered). Use a loop. (5 points)\n",
    "    \n",
    "`Element 1 of mylist is eggs`\n",
    "    \n",
    "`Element 2 of mylist is ham`\n",
    "    \n",
    "`Element 3 of mylist is 16`\n",
    "    \n",
    "`Element 4 of mylist is True`"
   ]
  },
  {
   "cell_type": "code",
   "execution_count": 14,
   "id": "be6f3acd-0116-49b9-9466-7d838e732e89",
   "metadata": {},
   "outputs": [
    {
     "name": "stdout",
     "output_type": "stream",
     "text": [
      "Element 1 of mylist is eggs\n",
      "Element 2 of mylist is ham\n",
      "Element 3 of mylist is 16\n",
      "Element 4 of mylist is True\n"
     ]
    }
   ],
   "source": [
    "mylist = ['eggs', 'ham', '16', True ]\n",
    "for i, item in enumerate(mylist):\n",
    "    print(f'Element {i+1} of mylist is {mylist[i]}')"
   ]
  },
  {
   "cell_type": "markdown",
   "id": "8f6918d5",
   "metadata": {},
   "source": [
    "    3. Unpack the first two elements of \"mylist\" into two variables, called \"food1\" and \"food2\" with one line of code. (5 points)"
   ]
  },
  {
   "cell_type": "code",
   "execution_count": 15,
   "id": "379d25e2-dbf5-4c15-8bf9-3cf8dabeced2",
   "metadata": {},
   "outputs": [],
   "source": [
    "food1, food2 = mylist[:2]"
   ]
  },
  {
   "cell_type": "code",
   "execution_count": 16,
   "id": "a975c031-bdc3-4ed4-8c97-b03096417083",
   "metadata": {},
   "outputs": [
    {
     "name": "stdout",
     "output_type": "stream",
     "text": [
      "eggs ham\n"
     ]
    }
   ],
   "source": [
    "print(food1, food2) # to confirm, not required"
   ]
  },
  {
   "cell_type": "markdown",
   "id": "83be9e4b",
   "metadata": {},
   "source": [
    "    4. Use a loop to create a new list named \"mylist2\". Each element of \"mylist2\" should contain the length of the corresponding element in \"mylist1\". (5 points)"
   ]
  },
  {
   "cell_type": "code",
   "execution_count": 25,
   "id": "8dbe8273-4132-4789-8dd3-c8110802b91e",
   "metadata": {},
   "outputs": [],
   "source": [
    "# The question did not say what mylist1 is. The following line is not required. \n",
    "# However, please note that mylist1 needs to contain elements that have their own length,\n",
    "# such as a string. \n",
    "mylist1 = ['teacher','dog','cats']"
   ]
  },
  {
   "cell_type": "code",
   "execution_count": 26,
   "id": "4a654874-2f01-4f16-bebe-32dd6d6fcda5",
   "metadata": {},
   "outputs": [],
   "source": [
    "mylist2 = []\n",
    "for i, item in enumerate(mylist1):\n",
    "    mylist2.append(len(item))"
   ]
  },
  {
   "cell_type": "code",
   "execution_count": 27,
   "id": "3fb0653c-922e-437d-8569-67f17e89edf5",
   "metadata": {},
   "outputs": [
    {
     "data": {
      "text/plain": [
       "[7, 3, 4]"
      ]
     },
     "execution_count": 27,
     "metadata": {},
     "output_type": "execute_result"
    }
   ],
   "source": [
    "mylist2"
   ]
  },
  {
   "cell_type": "markdown",
   "id": "8fb7fd61",
   "metadata": {},
   "source": [
    "    5. Use zip and a loop to print out:\n",
    "    \n",
    "`The length of XXX is YYY` \n",
    "    \n",
    "    for each element in \"mylist1\". Note that \"XXX\" is the element of mylist1, and \"YYY\" is the corresponding element in mylist2. (5 points)"
   ]
  },
  {
   "cell_type": "code",
   "execution_count": 28,
   "id": "fa65b60b-6c74-41e7-9745-57228d3c0dd7",
   "metadata": {},
   "outputs": [
    {
     "name": "stdout",
     "output_type": "stream",
     "text": [
      "The length of teacher is 7\n",
      "The length of dog is 3\n",
      "The length of cats is 4\n"
     ]
    }
   ],
   "source": [
    "for item, length in zip(mylist1, mylist2):\n",
    "    print(f'The length of {item} is {length}')"
   ]
  },
  {
   "cell_type": "markdown",
   "id": "bae2a3b9",
   "metadata": {},
   "source": [
    "    6. Predict the output of the following code (5 points)\n",
    "```\n",
    "for x in range(6):\n",
    "    if x**3 == 64:\n",
    "        continue\n",
    "    else:\n",
    "        print(x**3)\n",
    "```"
   ]
  },
  {
   "cell_type": "code",
   "execution_count": 29,
   "id": "1060af17-574e-4c69-80f2-6010d55c4492",
   "metadata": {},
   "outputs": [
    {
     "name": "stdout",
     "output_type": "stream",
     "text": [
      "0\n",
      "1\n",
      "8\n",
      "27\n",
      "125\n"
     ]
    }
   ],
   "source": [
    "for x in range(6):\n",
    "    if x**3 == 64:\n",
    "        continue\n",
    "    else:\n",
    "        print(x**3)"
   ]
  },
  {
   "cell_type": "markdown",
   "id": "6cc297bd",
   "metadata": {},
   "source": [
    "    7. The following code is problematic. Fix it. (5 points)\n",
    "\n",
    "```\n",
    "    newlist = list(range(10))\n",
    "    i = 0\n",
    "    while i<10:\n",
    "       print(newlist[i])\n",
    "```"
   ]
  },
  {
   "cell_type": "code",
   "execution_count": 30,
   "id": "a4496941-3e31-4759-901a-47275e77ce5f",
   "metadata": {},
   "outputs": [
    {
     "name": "stdout",
     "output_type": "stream",
     "text": [
      "0\n",
      "1\n",
      "2\n",
      "3\n",
      "4\n",
      "5\n",
      "6\n",
      "7\n",
      "8\n",
      "9\n"
     ]
    }
   ],
   "source": [
    "newlist = list(range(10))\n",
    "i = 0\n",
    "while i<10:\n",
    "    print(newlist[i])\n",
    "    i += 1 # without this line, the loop will run indefinitely because i will always be 0"
   ]
  },
  {
   "cell_type": "markdown",
   "id": "c0335b81",
   "metadata": {},
   "source": [
    "    8. Write a function to complete the following: if the input is a float or an integer, calculate its square root; if the input is a string, print \"this is a string\"; if the input is a list, print the list. (8 points)\n",
    "\n",
    "Hint: if `x` is a float, then `type(x) is float` returns `True`."
   ]
  },
  {
   "cell_type": "code",
   "execution_count": 31,
   "id": "052a3d93-b768-41b9-b971-835c1ceee244",
   "metadata": {},
   "outputs": [],
   "source": [
    "import numpy as np"
   ]
  },
  {
   "cell_type": "code",
   "execution_count": 36,
   "id": "0027234c-9da0-4269-b3eb-b8e348c144ab",
   "metadata": {},
   "outputs": [],
   "source": [
    "def f(x):\n",
    "    if type(x) is int or type(x) is float:\n",
    "        return np.sqrt(x)\n",
    "    elif type(x) is str:\n",
    "        print('this is a string')\n",
    "    elif type(x) is list:\n",
    "        print(x)"
   ]
  },
  {
   "cell_type": "code",
   "execution_count": 37,
   "id": "cc212486-dc78-4098-929a-e78c4c739a54",
   "metadata": {},
   "outputs": [
    {
     "name": "stdout",
     "output_type": "stream",
     "text": [
      "2.0\n"
     ]
    }
   ],
   "source": [
    "print(f(4))"
   ]
  },
  {
   "cell_type": "code",
   "execution_count": 38,
   "id": "95aba9d7-c863-4932-8dd4-0e16c479c053",
   "metadata": {},
   "outputs": [
    {
     "name": "stdout",
     "output_type": "stream",
     "text": [
      "this is a string\n"
     ]
    }
   ],
   "source": [
    "f('hello')"
   ]
  },
  {
   "cell_type": "code",
   "execution_count": 39,
   "id": "35f75655-2c37-4b04-9430-bbc9433a2d1c",
   "metadata": {},
   "outputs": [
    {
     "name": "stdout",
     "output_type": "stream",
     "text": [
      "['eggs', 'ham', '16', True]\n"
     ]
    }
   ],
   "source": [
    "f(mylist)"
   ]
  },
  {
   "cell_type": "markdown",
   "id": "65a91821",
   "metadata": {},
   "source": [
    "    9. Predict the result of the following code (8 points).\n",
    "\n",
    "```\n",
    "v1 = np.array([4, 2, 9])\n",
    "v2 = np.array([2, 5, 1])\n",
    "```"
   ]
  },
  {
   "cell_type": "code",
   "execution_count": 41,
   "id": "91479758",
   "metadata": {},
   "outputs": [],
   "source": [
    "v1 = np.array([4, 2, 9])\n",
    "v2 = np.array([2, 5, 1])"
   ]
  },
  {
   "cell_type": "code",
   "execution_count": 42,
   "id": "5cb501ca",
   "metadata": {},
   "outputs": [
    {
     "data": {
      "text/plain": [
       "array([ 8, 10,  9])"
      ]
     },
     "execution_count": 42,
     "metadata": {},
     "output_type": "execute_result"
    }
   ],
   "source": [
    "v1 * v2"
   ]
  },
  {
   "cell_type": "code",
   "execution_count": 43,
   "id": "7336a674-d539-418e-9420-1884b786f702",
   "metadata": {},
   "outputs": [
    {
     "data": {
      "text/plain": [
       "27"
      ]
     },
     "execution_count": 43,
     "metadata": {},
     "output_type": "execute_result"
    }
   ],
   "source": [
    "v1 @ v2"
   ]
  },
  {
   "cell_type": "markdown",
   "id": "587120a3",
   "metadata": {},
   "source": [
    "    10. Consider these two matrices: \n",
    "$ A = \n",
    "\\begin{bmatrix}\n",
    "1 & 7 \\\\\n",
    "2 & 4\n",
    "\\end{bmatrix},\n",
    "B= \n",
    "\\begin{bmatrix}\n",
    "3 & 3 \\\\\n",
    "5 & 2\n",
    "\\end{bmatrix}.\n",
    "$"
   ]
  },
  {
   "cell_type": "markdown",
   "id": "77a0ba4f",
   "metadata": {},
   "source": [
    "a. Calculate $A \\times B$ by hand. Show all your work (8 points)\n",
    "<br>\n",
    "<br>\n",
    "<br>\n",
    "<br>\n",
    "<br>\n",
    "<br>\n",
    "<br>\n",
    "<br>\n",
    "<br>"
   ]
  },
  {
   "cell_type": "code",
   "execution_count": 44,
   "id": "2346e883-0746-42b7-a9ae-5039a60f1f21",
   "metadata": {},
   "outputs": [],
   "source": [
    "# Verify with Python:\n",
    "A = np.array([[1,7],[2,4]])\n",
    "B = np.array([[3,3],[5,2]])"
   ]
  },
  {
   "cell_type": "code",
   "execution_count": 45,
   "id": "77653f64-f1e2-46e2-958f-bbd7913bd190",
   "metadata": {},
   "outputs": [
    {
     "data": {
      "text/plain": [
       "array([[38, 17],\n",
       "       [26, 14]])"
      ]
     },
     "execution_count": 45,
     "metadata": {},
     "output_type": "execute_result"
    }
   ],
   "source": [
    "A @ B"
   ]
  },
  {
   "cell_type": "markdown",
   "id": "404cc946",
   "metadata": {},
   "source": [
    "b. Write code to solve the following equations.(5 points)\n",
    "$$\n",
    "x + 7 y = 3 \\\\\n",
    "2x + 4 y = 5\n",
    "$$"
   ]
  },
  {
   "cell_type": "code",
   "execution_count": 47,
   "id": "30a00360-d9f5-4dec-b702-ee76416ec0c7",
   "metadata": {},
   "outputs": [
    {
     "data": {
      "text/plain": [
       "array([2.3, 0.1])"
      ]
     },
     "execution_count": 47,
     "metadata": {},
     "output_type": "execute_result"
    }
   ],
   "source": [
    "np.linalg.inv(A) @ B[:,0]"
   ]
  },
  {
   "cell_type": "markdown",
   "id": "15825bfa",
   "metadata": {},
   "source": [
    "## Part 2. Economics with Python"
   ]
  },
  {
   "cell_type": "markdown",
   "id": "d9a17e6c",
   "metadata": {},
   "source": [
    "1. Suppose you purchase a coupon bond with 20 years to maturity for \\\\$950. It pays coupons of \\\\$70 a year. The face value is \\$1000. "
   ]
  },
  {
   "cell_type": "markdown",
   "id": "274694df",
   "metadata": {},
   "source": [
    "a. Write down the formula that you would use to calculate the yield to maturity of this bond: (4 points)\n",
    "$$\n",
    "950 = \\sum_{t=1}^{20} \\frac{70}{(1+i)^t} + \\frac{1000}{(1+i)^{20}}\n",
    "$$"
   ]
  },
  {
   "cell_type": "markdown",
   "id": "a807261f",
   "metadata": {},
   "source": [
    "b. Show how you would use Python to compute the yield to maturity. Show all your code, including defining funtions and importing packages, etc. (5 points)  \n",
    "your code:"
   ]
  },
  {
   "cell_type": "code",
   "execution_count": 58,
   "id": "23acb466-c65d-4bae-a130-8091b5002e7b",
   "metadata": {},
   "outputs": [],
   "source": [
    "from scipy.optimize import newton"
   ]
  },
  {
   "cell_type": "code",
   "execution_count": 76,
   "id": "6f34ef73-6d93-428c-bbbb-48afff4e4bfc",
   "metadata": {},
   "outputs": [],
   "source": [
    "def get_PV2(FP,i,n):\n",
    "    discount = np.array([(1 / (1+i))**(t+1) for t in range(n)])\n",
    "    stream = np.ones((1,n))*FP\n",
    "    return stream @ discount.reshape(n,1)"
   ]
  },
  {
   "cell_type": "code",
   "execution_count": 77,
   "id": "8b855588-c0fc-4558-865e-b5c689bd26eb",
   "metadata": {},
   "outputs": [],
   "source": [
    "def g(i):\n",
    "    return get_PV2(FP,i,n)+1000/(1+i)**20 - 950"
   ]
  },
  {
   "cell_type": "code",
   "execution_count": 78,
   "id": "06ff9181-2475-4d89-acca-a6cbb90c6700",
   "metadata": {},
   "outputs": [
    {
     "data": {
      "text/plain": [
       "array([[0.07490091]])"
      ]
     },
     "execution_count": 78,
     "metadata": {},
     "output_type": "execute_result"
    }
   ],
   "source": [
    "FP = 70\n",
    "n = 20\n",
    "newton(g,0.1)"
   ]
  },
  {
   "cell_type": "markdown",
   "id": "09cc3c77",
   "metadata": {},
   "source": [
    "c. Suppose after 1 year, you must sell the bond to pay for tuition. Further suppose that the interest rate has risen and the price of the bond has fallen to $850. What is the size of the capital gain or loss? What is your rate of return for holding the bond for 1 year? show all your calculations. (5 points)"
   ]
  },
  {
   "cell_type": "markdown",
   "id": "3386408b-3697-4251-a2ef-58d4033e8d69",
   "metadata": {},
   "source": [
    "* The capital loss is $950-850=100$\n",
    "* The rate of return is:\n",
    "\n",
    "$$\n",
    "\\frac{70+850-950}{950} = -3.2\\%\n",
    "$$\n",
    "\n"
   ]
  },
  {
   "cell_type": "code",
   "execution_count": 80,
   "id": "18811720-b441-48be-b6b9-db24d7d1ce20",
   "metadata": {},
   "outputs": [
    {
     "data": {
      "text/plain": [
       "-0.031578947368421054"
      ]
     },
     "execution_count": 80,
     "metadata": {},
     "output_type": "execute_result"
    }
   ],
   "source": [
    "(70+850-950)/950"
   ]
  },
  {
   "cell_type": "markdown",
   "id": "68fb1c79",
   "metadata": {},
   "source": [
    "2.In recent months, market predictions for future inflation has risen. Use the demand and supply model for bonds, predict what happens to bond prices and interest rates. Make sure to draw a diagram to support your answer (8 points)"
   ]
  },
  {
   "cell_type": "markdown",
   "id": "fcb9ed85",
   "metadata": {},
   "source": [
    "Higher inflation lowers buyers’ expected real interest rate, and reduces bond demand. It also lowers the real cost of borrowing for the issuer, and therefore increases bond supply. The prediction is that bond prices will decrease, and the interest rate rises. "
   ]
  },
  {
   "cell_type": "markdown",
   "id": "1b4bee1e-5dee-4434-b1ba-8552162c68bf",
   "metadata": {},
   "source": [
    "Here is a [diagram](https://drive.google.com/file/d/1IYeJjR0iDSPZAaRhiwmEbNe1KRKmPsnU/view?usp=sharing)"
   ]
  }
 ],
 "metadata": {
  "kernelspec": {
   "display_name": "Python 3",
   "language": "python",
   "name": "python3"
  },
  "language_info": {
   "codemirror_mode": {
    "name": "ipython",
    "version": 3
   },
   "file_extension": ".py",
   "mimetype": "text/x-python",
   "name": "python",
   "nbconvert_exporter": "python",
   "pygments_lexer": "ipython3",
   "version": "3.8.8"
  }
 },
 "nbformat": 4,
 "nbformat_minor": 5
}
