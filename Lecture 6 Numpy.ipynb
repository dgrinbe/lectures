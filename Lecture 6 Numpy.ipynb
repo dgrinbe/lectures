{
 "cells": [
  {
   "cell_type": "markdown",
   "id": "44b679ab",
   "metadata": {},
   "source": [
    "# Numpy"
   ]
  },
  {
   "cell_type": "code",
   "execution_count": 1,
   "id": "6d3a44a7",
   "metadata": {},
   "outputs": [],
   "source": [
    "import numpy as np"
   ]
  },
  {
   "cell_type": "markdown",
   "id": "3599c5e0",
   "metadata": {},
   "source": [
    "Numpy’s core contribution is a new data-type called an **array**.\n",
    "\n",
    "An array is similar to a list, but numpy imposes some additional restrictions on how the data inside is organized.\n",
    "\n",
    "NumPy arrays are somewhat like native Python lists, except that **Data must be homogeneous (all elements of the same type).**\n",
    "\n",
    "These types must be one of the data types (dtypes) provided by NumPy:\n",
    "\n",
    "* float64: 64 bit floating-point number\n",
    "* int64: 64 bit integer\n",
    "* bool: 8 bit True or False"
   ]
  },
  {
   "cell_type": "code",
   "execution_count": 4,
   "id": "a815beee",
   "metadata": {},
   "outputs": [],
   "source": [
    "x_1d = np.array([1,2,3]) # creat an array from a list"
   ]
  },
  {
   "cell_type": "code",
   "execution_count": 5,
   "id": "959dc1a7",
   "metadata": {},
   "outputs": [
    {
     "data": {
      "text/plain": [
       "array([1, 2, 3])"
      ]
     },
     "execution_count": 5,
     "metadata": {},
     "output_type": "execute_result"
    }
   ],
   "source": [
    "x_1d"
   ]
  },
  {
   "cell_type": "code",
   "execution_count": 6,
   "id": "c679845f",
   "metadata": {},
   "outputs": [
    {
     "data": {
      "text/plain": [
       "numpy.ndarray"
      ]
     },
     "execution_count": 6,
     "metadata": {},
     "output_type": "execute_result"
    }
   ],
   "source": [
    "type(x_1d)"
   ]
  },
  {
   "cell_type": "code",
   "execution_count": 7,
   "id": "27c107ff",
   "metadata": {},
   "outputs": [
    {
     "data": {
      "text/plain": [
       "1"
      ]
     },
     "execution_count": 7,
     "metadata": {},
     "output_type": "execute_result"
    }
   ],
   "source": [
    "x_1d[0] # the first element"
   ]
  },
  {
   "cell_type": "markdown",
   "id": "ff2db38a",
   "metadata": {},
   "source": [
    "### Indexing"
   ]
  },
  {
   "cell_type": "markdown",
   "id": "3c25fe4c",
   "metadata": {},
   "source": [
    "m:n means [m,n)"
   ]
  },
  {
   "cell_type": "code",
   "execution_count": 10,
   "id": "65d1a5e6",
   "metadata": {},
   "outputs": [
    {
     "name": "stdout",
     "output_type": "stream",
     "text": [
      "[1 2]\n"
     ]
    }
   ],
   "source": [
    "print(x_1d[:2]) # from the beginning to position 2, which is always not included"
   ]
  },
  {
   "cell_type": "code",
   "execution_count": 11,
   "id": "22f0438c",
   "metadata": {},
   "outputs": [
    {
     "name": "stdout",
     "output_type": "stream",
     "text": [
      "[2]\n"
     ]
    }
   ],
   "source": [
    "print(x_1d[1:2]) # from position 1 to position 2 (not included)"
   ]
  },
  {
   "cell_type": "code",
   "execution_count": 12,
   "id": "55880040",
   "metadata": {},
   "outputs": [
    {
     "name": "stdout",
     "output_type": "stream",
     "text": [
      "3\n"
     ]
    }
   ],
   "source": [
    "print(x_1d[-1]) # the last element"
   ]
  },
  {
   "cell_type": "code",
   "execution_count": 13,
   "id": "120fbc4e",
   "metadata": {},
   "outputs": [
    {
     "name": "stdout",
     "output_type": "stream",
     "text": [
      "[1 2]\n"
     ]
    }
   ],
   "source": [
    "print(x_1d[-3:-1]) # from the third-to-last element to the last element (not included)"
   ]
  },
  {
   "cell_type": "code",
   "execution_count": 14,
   "id": "01ffc2cd",
   "metadata": {},
   "outputs": [
    {
     "name": "stdout",
     "output_type": "stream",
     "text": [
      "[1 2 3]\n"
     ]
    }
   ],
   "source": [
    "print(x_1d[-3:]) # from the third-to-last element all the way to the end"
   ]
  },
  {
   "cell_type": "markdown",
   "id": "50a5ad93",
   "metadata": {},
   "source": [
    "### The shape matters"
   ]
  },
  {
   "cell_type": "code",
   "execution_count": 15,
   "id": "6fe8ebbb",
   "metadata": {
    "scrolled": true
   },
   "outputs": [
    {
     "data": {
      "text/plain": [
       "(3,)"
      ]
     },
     "execution_count": 15,
     "metadata": {},
     "output_type": "execute_result"
    }
   ],
   "source": [
    "x_1d.shape"
   ]
  },
  {
   "cell_type": "code",
   "execution_count": 16,
   "id": "b2c1f86a",
   "metadata": {},
   "outputs": [],
   "source": [
    "y_1d = x_1d.reshape((3,1)) # This does not change x_1d"
   ]
  },
  {
   "cell_type": "code",
   "execution_count": 17,
   "id": "9df9fcd5",
   "metadata": {},
   "outputs": [
    {
     "data": {
      "text/plain": [
       "array([[1],\n",
       "       [2],\n",
       "       [3]])"
      ]
     },
     "execution_count": 17,
     "metadata": {},
     "output_type": "execute_result"
    }
   ],
   "source": [
    "y_1d"
   ]
  },
  {
   "cell_type": "code",
   "execution_count": 18,
   "id": "b46d5abf",
   "metadata": {},
   "outputs": [],
   "source": [
    "z_1d = x_1d.reshape((1,3))"
   ]
  },
  {
   "cell_type": "code",
   "execution_count": 19,
   "id": "ad9259fb",
   "metadata": {},
   "outputs": [
    {
     "data": {
      "text/plain": [
       "array([[1, 2, 3]])"
      ]
     },
     "execution_count": 19,
     "metadata": {},
     "output_type": "execute_result"
    }
   ],
   "source": [
    "z_1d"
   ]
  },
  {
   "cell_type": "code",
   "execution_count": 20,
   "id": "db7e7d30",
   "metadata": {},
   "outputs": [
    {
     "data": {
      "text/plain": [
       "array([1, 2, 3])"
      ]
     },
     "execution_count": 20,
     "metadata": {},
     "output_type": "execute_result"
    }
   ],
   "source": [
    "x_1d"
   ]
  },
  {
   "cell_type": "code",
   "execution_count": 21,
   "id": "1a43c8cb",
   "metadata": {},
   "outputs": [
    {
     "data": {
      "text/plain": [
       "(3,)"
      ]
     },
     "execution_count": 21,
     "metadata": {},
     "output_type": "execute_result"
    }
   ],
   "source": [
    "x_1d.shape # x_1d itself has not been changed by the reshape command"
   ]
  },
  {
   "cell_type": "code",
   "execution_count": 22,
   "id": "7a600228",
   "metadata": {},
   "outputs": [
    {
     "data": {
      "text/plain": [
       "(1, 3)"
      ]
     },
     "execution_count": 22,
     "metadata": {},
     "output_type": "execute_result"
    }
   ],
   "source": [
    "z_1d.shape"
   ]
  },
  {
   "cell_type": "markdown",
   "id": "2c2e0681",
   "metadata": {},
   "source": [
    "### Operations"
   ]
  },
  {
   "cell_type": "code",
   "execution_count": 23,
   "id": "6e592199",
   "metadata": {},
   "outputs": [
    {
     "data": {
      "text/plain": [
       "array([[2, 4, 6]])"
      ]
     },
     "execution_count": 23,
     "metadata": {},
     "output_type": "execute_result"
    }
   ],
   "source": [
    "x_1d+z_1d"
   ]
  },
  {
   "cell_type": "code",
   "execution_count": 24,
   "id": "eb5ca920",
   "metadata": {},
   "outputs": [
    {
     "data": {
      "text/plain": [
       "array([[0, 0, 0]])"
      ]
     },
     "execution_count": 24,
     "metadata": {},
     "output_type": "execute_result"
    }
   ],
   "source": [
    "x_1d-z_1d"
   ]
  },
  {
   "cell_type": "code",
   "execution_count": 25,
   "id": "f84d0aea",
   "metadata": {},
   "outputs": [
    {
     "data": {
      "text/plain": [
       "array([3, 6, 9])"
      ]
     },
     "execution_count": 25,
     "metadata": {},
     "output_type": "execute_result"
    }
   ],
   "source": [
    "3*x_1d"
   ]
  },
  {
   "cell_type": "code",
   "execution_count": 26,
   "id": "5cd8a841",
   "metadata": {},
   "outputs": [
    {
     "data": {
      "text/plain": [
       "array([0.33333333, 0.66666667, 1.        ])"
      ]
     },
     "execution_count": 26,
     "metadata": {},
     "output_type": "execute_result"
    }
   ],
   "source": [
    "x_1d/3"
   ]
  },
  {
   "cell_type": "code",
   "execution_count": 31,
   "id": "e217aa4b",
   "metadata": {},
   "outputs": [
    {
     "data": {
      "text/plain": [
       "array([[1],\n",
       "       [2],\n",
       "       [3]])"
      ]
     },
     "execution_count": 31,
     "metadata": {},
     "output_type": "execute_result"
    }
   ],
   "source": [
    "y_1d"
   ]
  },
  {
   "cell_type": "code",
   "execution_count": 32,
   "id": "e9b8b652",
   "metadata": {},
   "outputs": [
    {
     "data": {
      "text/plain": [
       "array([[1, 2, 3]])"
      ]
     },
     "execution_count": 32,
     "metadata": {},
     "output_type": "execute_result"
    }
   ],
   "source": [
    "y_1d.T #transpose"
   ]
  },
  {
   "cell_type": "code",
   "execution_count": 33,
   "id": "b6c35410",
   "metadata": {},
   "outputs": [
    {
     "data": {
      "text/plain": [
       "array([[1],\n",
       "       [2],\n",
       "       [3]])"
      ]
     },
     "execution_count": 33,
     "metadata": {},
     "output_type": "execute_result"
    }
   ],
   "source": [
    "y_1d"
   ]
  },
  {
   "cell_type": "code",
   "execution_count": 34,
   "id": "e931849a",
   "metadata": {},
   "outputs": [
    {
     "data": {
      "text/plain": [
       "array([[1, 2, 3]])"
      ]
     },
     "execution_count": 34,
     "metadata": {},
     "output_type": "execute_result"
    }
   ],
   "source": [
    "z_1d"
   ]
  },
  {
   "cell_type": "code",
   "execution_count": 35,
   "id": "594a7b42",
   "metadata": {},
   "outputs": [
    {
     "data": {
      "text/plain": [
       "array([[14]])"
      ]
     },
     "execution_count": 35,
     "metadata": {},
     "output_type": "execute_result"
    }
   ],
   "source": [
    "z_1d @ y_1d # dot product"
   ]
  },
  {
   "cell_type": "code",
   "execution_count": 36,
   "id": "bd6f8dcf",
   "metadata": {},
   "outputs": [
    {
     "data": {
      "text/plain": [
       "array([1, 2, 3])"
      ]
     },
     "execution_count": 36,
     "metadata": {},
     "output_type": "execute_result"
    }
   ],
   "source": [
    "x_1d"
   ]
  },
  {
   "cell_type": "code",
   "execution_count": 37,
   "id": "55fcb47a",
   "metadata": {},
   "outputs": [
    {
     "data": {
      "text/plain": [
       "(3,)"
      ]
     },
     "execution_count": 37,
     "metadata": {},
     "output_type": "execute_result"
    }
   ],
   "source": [
    "x_1d.shape"
   ]
  },
  {
   "cell_type": "code",
   "execution_count": 38,
   "id": "f58c3587",
   "metadata": {},
   "outputs": [
    {
     "data": {
      "text/plain": [
       "array([14])"
      ]
     },
     "execution_count": 38,
     "metadata": {},
     "output_type": "execute_result"
    }
   ],
   "source": [
    "z_1d@x_1d"
   ]
  },
  {
   "cell_type": "code",
   "execution_count": 39,
   "id": "4d194964",
   "metadata": {},
   "outputs": [
    {
     "data": {
      "text/plain": [
       "array([[1, 2, 3],\n",
       "       [2, 4, 6],\n",
       "       [3, 6, 9]])"
      ]
     },
     "execution_count": 39,
     "metadata": {},
     "output_type": "execute_result"
    }
   ],
   "source": [
    "y_1d@z_1d # matrix multiplication, not dot product"
   ]
  },
  {
   "cell_type": "markdown",
   "id": "017d5c63",
   "metadata": {},
   "source": [
    "### Element-wise operations\n",
    "\n",
    "Not math, just Python specific operations"
   ]
  },
  {
   "cell_type": "code",
   "execution_count": 40,
   "id": "82a75c28",
   "metadata": {},
   "outputs": [
    {
     "data": {
      "text/plain": [
       "array([[1, 4, 9]])"
      ]
     },
     "execution_count": 40,
     "metadata": {},
     "output_type": "execute_result"
    }
   ],
   "source": [
    "z_1d * x_1d"
   ]
  },
  {
   "cell_type": "code",
   "execution_count": 41,
   "id": "035f8070",
   "metadata": {},
   "outputs": [
    {
     "data": {
      "text/plain": [
       "array([[1., 1., 1.]])"
      ]
     },
     "execution_count": 41,
     "metadata": {},
     "output_type": "execute_result"
    }
   ],
   "source": [
    "z_1d/x_1d"
   ]
  },
  {
   "cell_type": "code",
   "execution_count": 42,
   "id": "704c5634",
   "metadata": {},
   "outputs": [
    {
     "data": {
      "text/plain": [
       "array([4, 5, 6])"
      ]
     },
     "execution_count": 42,
     "metadata": {},
     "output_type": "execute_result"
    }
   ],
   "source": [
    "x_1d+3"
   ]
  },
  {
   "cell_type": "markdown",
   "id": "cce3a4d1",
   "metadata": {},
   "source": [
    "### Creating arrays"
   ]
  },
  {
   "cell_type": "code",
   "execution_count": 43,
   "id": "3ccbc117",
   "metadata": {},
   "outputs": [],
   "source": [
    "# create an array from a list. Can do this with one line - no need to name a \n",
    "# list first if you don't plan to use it later\n",
    "mylist = [ 0.5, 0.25, 3]\n",
    "x = np.array(mylist)"
   ]
  },
  {
   "cell_type": "code",
   "execution_count": 44,
   "id": "7406b07c",
   "metadata": {},
   "outputs": [
    {
     "data": {
      "text/plain": [
       "array([0.5 , 0.25, 3.  ])"
      ]
     },
     "execution_count": 44,
     "metadata": {},
     "output_type": "execute_result"
    }
   ],
   "source": [
    "x"
   ]
  },
  {
   "cell_type": "code",
   "execution_count": 45,
   "id": "66699747",
   "metadata": {},
   "outputs": [],
   "source": [
    "a = np.zeros(5)"
   ]
  },
  {
   "cell_type": "code",
   "execution_count": 46,
   "id": "b5504558",
   "metadata": {},
   "outputs": [
    {
     "data": {
      "text/plain": [
       "array([0., 0., 0., 0., 0.])"
      ]
     },
     "execution_count": 46,
     "metadata": {},
     "output_type": "execute_result"
    }
   ],
   "source": [
    "a"
   ]
  },
  {
   "cell_type": "code",
   "execution_count": 47,
   "id": "358f43cf",
   "metadata": {},
   "outputs": [],
   "source": [
    "a = np.zeros(3,dtype=int)"
   ]
  },
  {
   "cell_type": "code",
   "execution_count": 48,
   "id": "6e0c7d19",
   "metadata": {},
   "outputs": [
    {
     "data": {
      "text/plain": [
       "array([0, 0, 0])"
      ]
     },
     "execution_count": 48,
     "metadata": {},
     "output_type": "execute_result"
    }
   ],
   "source": [
    "a"
   ]
  },
  {
   "cell_type": "code",
   "execution_count": 49,
   "id": "c96c23cb",
   "metadata": {},
   "outputs": [
    {
     "data": {
      "text/plain": [
       "numpy.int64"
      ]
     },
     "execution_count": 49,
     "metadata": {},
     "output_type": "execute_result"
    }
   ],
   "source": [
    "type(a[1])"
   ]
  },
  {
   "cell_type": "code",
   "execution_count": 50,
   "id": "a18a8641",
   "metadata": {},
   "outputs": [
    {
     "data": {
      "text/plain": [
       "(3,)"
      ]
     },
     "execution_count": 50,
     "metadata": {},
     "output_type": "execute_result"
    }
   ],
   "source": [
    "a.shape"
   ]
  },
  {
   "cell_type": "code",
   "execution_count": 51,
   "id": "8d44db86",
   "metadata": {},
   "outputs": [],
   "source": [
    "b = np.ones(5)"
   ]
  },
  {
   "cell_type": "code",
   "execution_count": 52,
   "id": "a2f637a1",
   "metadata": {},
   "outputs": [
    {
     "data": {
      "text/plain": [
       "array([1., 1., 1., 1., 1.])"
      ]
     },
     "execution_count": 52,
     "metadata": {},
     "output_type": "execute_result"
    }
   ],
   "source": [
    "b"
   ]
  },
  {
   "cell_type": "code",
   "execution_count": 53,
   "id": "3f175295",
   "metadata": {},
   "outputs": [],
   "source": [
    "c = np.empty(6)"
   ]
  },
  {
   "cell_type": "code",
   "execution_count": 54,
   "id": "45a357ce",
   "metadata": {},
   "outputs": [
    {
     "data": {
      "text/plain": [
       "array([0.0e+000, 1.5e-323, 0.0e+000, 0.0e+000, 0.0e+000, 0.0e+000])"
      ]
     },
     "execution_count": 54,
     "metadata": {},
     "output_type": "execute_result"
    }
   ],
   "source": [
    "c # the array is not really empty. It contain garbage values to hold the places. "
   ]
  },
  {
   "cell_type": "markdown",
   "id": "dcdedacb",
   "metadata": {},
   "source": [
    "## Exercise\n",
    "\n",
    "Task: re-write the get_PV function using dot products"
   ]
  },
  {
   "cell_type": "markdown",
   "id": "3e9924a5",
   "metadata": {},
   "source": [
    "A dot product is\n",
    "$$ \n",
    "(x_1 x_2 ... x_n) \n",
    "\\begin{pmatrix}\n",
    "y_1 \\\\\n",
    "y_2 \\\\\n",
    "... \\\\\n",
    "y_n\n",
    "\\end{pmatrix}\n",
    "= \\sum_{i=1}^n x_i y_i\n",
    "$$"
   ]
  },
  {
   "cell_type": "code",
   "execution_count": 57,
   "id": "d0a5f824",
   "metadata": {},
   "outputs": [],
   "source": [
    "def get_PV(FP,i,n):\n",
    "    total = 0\n",
    "    for j in range(n):\n",
    "        total = total + FP/(1+i)**(j+1)\n",
    "    return total"
   ]
  },
  {
   "cell_type": "code",
   "execution_count": 58,
   "id": "1dc63fce",
   "metadata": {},
   "outputs": [
    {
     "data": {
      "text/plain": [
       "1143.7070422968989"
      ]
     },
     "execution_count": 58,
     "metadata": {},
     "output_type": "execute_result"
    }
   ],
   "source": [
    "get_PV(126,0.10, 25)"
   ]
  },
  {
   "cell_type": "code",
   "execution_count": 66,
   "id": "f4db95b5",
   "metadata": {},
   "outputs": [],
   "source": [
    "def get_PV2(FP,i,n):\n",
    "    streams = FP*np.ones((1,n))\n",
    "    # The following line uses comprehension. You can certainly do this with a regular for loop\n",
    "    discount = np.array([(1/(1+i)**(t+1)) for t in range(n)]) \n",
    "    return streams@discount"
   ]
  },
  {
   "cell_type": "code",
   "execution_count": 67,
   "id": "0a778082",
   "metadata": {},
   "outputs": [
    {
     "data": {
      "text/plain": [
       "array([1143.7070423])"
      ]
     },
     "execution_count": 67,
     "metadata": {},
     "output_type": "execute_result"
    }
   ],
   "source": [
    "get_PV2(126,0.1,25)"
   ]
  },
  {
   "cell_type": "markdown",
   "id": "63ada0ce",
   "metadata": {},
   "source": [
    "## Matrices"
   ]
  },
  {
   "cell_type": "code",
   "execution_count": 69,
   "id": "991bc381",
   "metadata": {},
   "outputs": [],
   "source": [
    "mylist = [[1,2,3],[4,5,6],[7,8,9]]"
   ]
  },
  {
   "cell_type": "code",
   "execution_count": 70,
   "id": "02cebf77",
   "metadata": {},
   "outputs": [
    {
     "data": {
      "text/plain": [
       "[[1, 2, 3], [4, 5, 6], [7, 8, 9]]"
      ]
     },
     "execution_count": 70,
     "metadata": {},
     "output_type": "execute_result"
    }
   ],
   "source": [
    "mylist"
   ]
  },
  {
   "cell_type": "code",
   "execution_count": 71,
   "id": "8730aecc",
   "metadata": {},
   "outputs": [],
   "source": [
    "x_2d = np.array(mylist) # again, this is for illustration. Can do it with one line. No need to create a new list first."
   ]
  },
  {
   "cell_type": "code",
   "execution_count": 72,
   "id": "e15e0750",
   "metadata": {},
   "outputs": [
    {
     "data": {
      "text/plain": [
       "array([[1, 2, 3],\n",
       "       [4, 5, 6],\n",
       "       [7, 8, 9]])"
      ]
     },
     "execution_count": 72,
     "metadata": {},
     "output_type": "execute_result"
    }
   ],
   "source": [
    "x_2d"
   ]
  },
  {
   "cell_type": "code",
   "execution_count": 73,
   "id": "38080016",
   "metadata": {},
   "outputs": [
    {
     "data": {
      "text/plain": [
       "(3, 3)"
      ]
     },
     "execution_count": 73,
     "metadata": {},
     "output_type": "execute_result"
    }
   ],
   "source": [
    "x_2d.shape"
   ]
  },
  {
   "cell_type": "code",
   "execution_count": 75,
   "id": "660959f3",
   "metadata": {},
   "outputs": [
    {
     "data": {
      "text/plain": [
       "5"
      ]
     },
     "execution_count": 75,
     "metadata": {},
     "output_type": "execute_result"
    }
   ],
   "source": [
    "x_2d[1,1]"
   ]
  },
  {
   "cell_type": "code",
   "execution_count": 76,
   "id": "979b7d71",
   "metadata": {},
   "outputs": [
    {
     "data": {
      "text/plain": [
       "array([4, 5, 6])"
      ]
     },
     "execution_count": 76,
     "metadata": {},
     "output_type": "execute_result"
    }
   ],
   "source": [
    "x_2d[1,:] # second row"
   ]
  },
  {
   "cell_type": "code",
   "execution_count": 77,
   "id": "ed93ef6f",
   "metadata": {},
   "outputs": [
    {
     "data": {
      "text/plain": [
       "array([3, 6, 9])"
      ]
     },
     "execution_count": 77,
     "metadata": {},
     "output_type": "execute_result"
    }
   ],
   "source": [
    "x_2d[:,2] # third column"
   ]
  },
  {
   "cell_type": "markdown",
   "id": "c933de2c",
   "metadata": {},
   "source": [
    "## Exercise\n",
    "\n",
    "Find the 2nd and 3rd elements in the second row"
   ]
  },
  {
   "cell_type": "code",
   "execution_count": 79,
   "id": "ac18b676",
   "metadata": {},
   "outputs": [
    {
     "data": {
      "text/plain": [
       "array([5, 6])"
      ]
     },
     "execution_count": 79,
     "metadata": {},
     "output_type": "execute_result"
    }
   ],
   "source": [
    "x_2d[1,1:]"
   ]
  },
  {
   "cell_type": "markdown",
   "id": "7c481850",
   "metadata": {},
   "source": [
    "### The shape matters"
   ]
  },
  {
   "cell_type": "code",
   "execution_count": 80,
   "id": "9351d02c",
   "metadata": {},
   "outputs": [
    {
     "data": {
      "text/plain": [
       "(3, 3)"
      ]
     },
     "execution_count": 80,
     "metadata": {},
     "output_type": "execute_result"
    }
   ],
   "source": [
    "x_2d.shape"
   ]
  },
  {
   "cell_type": "code",
   "execution_count": 81,
   "id": "62e917f5",
   "metadata": {},
   "outputs": [
    {
     "data": {
      "text/plain": [
       "array([[1, 2, 3, 4, 5, 6, 7, 8, 9]])"
      ]
     },
     "execution_count": 81,
     "metadata": {},
     "output_type": "execute_result"
    }
   ],
   "source": [
    "x_2d.reshape((1,9)) # Note again: this does not change x_2d. It just shows what happens if you reshape it. "
   ]
  },
  {
   "cell_type": "code",
   "execution_count": 82,
   "id": "694ea1d6",
   "metadata": {},
   "outputs": [
    {
     "data": {
      "text/plain": [
       "array([[1],\n",
       "       [2],\n",
       "       [3],\n",
       "       [4],\n",
       "       [5],\n",
       "       [6],\n",
       "       [7],\n",
       "       [8],\n",
       "       [9]])"
      ]
     },
     "execution_count": 82,
     "metadata": {},
     "output_type": "execute_result"
    }
   ],
   "source": [
    "x_2d.reshape((9,1))"
   ]
  },
  {
   "cell_type": "code",
   "execution_count": 84,
   "id": "3e64f5ee",
   "metadata": {},
   "outputs": [],
   "source": [
    "x_2d = x_2d.reshape((9,1)) # This does change x_2d"
   ]
  },
  {
   "cell_type": "code",
   "execution_count": 85,
   "id": "4dff9896",
   "metadata": {},
   "outputs": [
    {
     "data": {
      "text/plain": [
       "array([[1],\n",
       "       [2],\n",
       "       [3],\n",
       "       [4],\n",
       "       [5],\n",
       "       [6],\n",
       "       [7],\n",
       "       [8],\n",
       "       [9]])"
      ]
     },
     "execution_count": 85,
     "metadata": {},
     "output_type": "execute_result"
    }
   ],
   "source": [
    "x_2d"
   ]
  },
  {
   "cell_type": "code",
   "execution_count": 86,
   "id": "b4ab12be",
   "metadata": {},
   "outputs": [],
   "source": [
    "x_2d.shape = (3,3) # Another way to reshape and change x_2d"
   ]
  },
  {
   "cell_type": "code",
   "execution_count": 87,
   "id": "4e5162d7",
   "metadata": {},
   "outputs": [
    {
     "data": {
      "text/plain": [
       "array([[1, 2, 3],\n",
       "       [4, 5, 6],\n",
       "       [7, 8, 9]])"
      ]
     },
     "execution_count": 87,
     "metadata": {},
     "output_type": "execute_result"
    }
   ],
   "source": [
    "x_2d"
   ]
  },
  {
   "cell_type": "code",
   "execution_count": 88,
   "id": "d84ebf7b",
   "metadata": {},
   "outputs": [
    {
     "data": {
      "text/plain": [
       "(3, 3)"
      ]
     },
     "execution_count": 88,
     "metadata": {},
     "output_type": "execute_result"
    }
   ],
   "source": [
    "x_2d.shape"
   ]
  },
  {
   "cell_type": "code",
   "execution_count": 89,
   "id": "3db7f6cd",
   "metadata": {},
   "outputs": [],
   "source": [
    "rows, columns = x_2d.shape # This is a handy way to unpack the numbers of rows and columns of a matrix"
   ]
  },
  {
   "cell_type": "code",
   "execution_count": 90,
   "id": "cbaada05",
   "metadata": {},
   "outputs": [
    {
     "data": {
      "text/plain": [
       "3"
      ]
     },
     "execution_count": 90,
     "metadata": {},
     "output_type": "execute_result"
    }
   ],
   "source": [
    "rows"
   ]
  },
  {
   "cell_type": "code",
   "execution_count": 91,
   "id": "96260acf",
   "metadata": {},
   "outputs": [
    {
     "data": {
      "text/plain": [
       "3"
      ]
     },
     "execution_count": 91,
     "metadata": {},
     "output_type": "execute_result"
    }
   ],
   "source": [
    "columns"
   ]
  },
  {
   "cell_type": "markdown",
   "id": "b1c02270",
   "metadata": {},
   "source": [
    "## Matrix operations"
   ]
  },
  {
   "cell_type": "code",
   "execution_count": 2,
   "id": "3502098f",
   "metadata": {},
   "outputs": [],
   "source": [
    "z = np.empty((3,3))"
   ]
  },
  {
   "cell_type": "code",
   "execution_count": 3,
   "id": "251a4078",
   "metadata": {},
   "outputs": [
    {
     "data": {
      "text/plain": [
       "array([[ 3.45126646e-31, -6.90253292e-31,  1.72563323e-31],\n",
       "       [-6.90253292e-31,  1.50130091e-30, -4.65920972e-31],\n",
       "       [ 1.72563323e-31, -4.65920972e-31,  2.67473151e-31]])"
      ]
     },
     "execution_count": 3,
     "metadata": {},
     "output_type": "execute_result"
    }
   ],
   "source": [
    "z"
   ]
  },
  {
   "cell_type": "code",
   "execution_count": 4,
   "id": "896349a8",
   "metadata": {},
   "outputs": [
    {
     "data": {
      "text/plain": [
       "3.451266460341962e-31"
      ]
     },
     "execution_count": 4,
     "metadata": {},
     "output_type": "execute_result"
    }
   ],
   "source": [
    "z[0,0]"
   ]
  },
  {
   "cell_type": "code",
   "execution_count": 5,
   "id": "fdd12dcb",
   "metadata": {},
   "outputs": [],
   "source": [
    "x = np.array([])"
   ]
  },
  {
   "cell_type": "code",
   "execution_count": 6,
   "id": "5f16de3b",
   "metadata": {},
   "outputs": [
    {
     "data": {
      "text/plain": [
       "array([], dtype=float64)"
      ]
     },
     "execution_count": 6,
     "metadata": {},
     "output_type": "execute_result"
    }
   ],
   "source": [
    "x"
   ]
  },
  {
   "cell_type": "code",
   "execution_count": 7,
   "id": "50332b51",
   "metadata": {},
   "outputs": [
    {
     "data": {
      "text/plain": [
       "(0,)"
      ]
     },
     "execution_count": 7,
     "metadata": {},
     "output_type": "execute_result"
    }
   ],
   "source": [
    "x.shape"
   ]
  },
  {
   "cell_type": "code",
   "execution_count": 8,
   "id": "4760d707",
   "metadata": {},
   "outputs": [],
   "source": [
    "z[:] = 3"
   ]
  },
  {
   "cell_type": "code",
   "execution_count": 9,
   "id": "5b21256a",
   "metadata": {},
   "outputs": [
    {
     "data": {
      "text/plain": [
       "array([[3., 3., 3.],\n",
       "       [3., 3., 3.],\n",
       "       [3., 3., 3.]])"
      ]
     },
     "execution_count": 9,
     "metadata": {},
     "output_type": "execute_result"
    }
   ],
   "source": [
    "z"
   ]
  },
  {
   "cell_type": "code",
   "execution_count": 10,
   "id": "7a7bb18f",
   "metadata": {},
   "outputs": [
    {
     "data": {
      "text/plain": [
       "array([3., 3., 3.])"
      ]
     },
     "execution_count": 10,
     "metadata": {},
     "output_type": "execute_result"
    }
   ],
   "source": [
    "z[:,1]"
   ]
  },
  {
   "cell_type": "code",
   "execution_count": 11,
   "id": "75554242",
   "metadata": {},
   "outputs": [],
   "source": [
    "z = np.zeros((4,3))"
   ]
  },
  {
   "cell_type": "code",
   "execution_count": 12,
   "id": "eb3bcc08",
   "metadata": {},
   "outputs": [
    {
     "data": {
      "text/plain": [
       "array([[0., 0., 0.],\n",
       "       [0., 0., 0.],\n",
       "       [0., 0., 0.],\n",
       "       [0., 0., 0.]])"
      ]
     },
     "execution_count": 12,
     "metadata": {},
     "output_type": "execute_result"
    }
   ],
   "source": [
    "z"
   ]
  },
  {
   "cell_type": "code",
   "execution_count": 13,
   "id": "f5151eed",
   "metadata": {},
   "outputs": [
    {
     "data": {
      "text/plain": [
       "array([[1., 1., 1., 1.],\n",
       "       [1., 1., 1., 1.]])"
      ]
     },
     "execution_count": 13,
     "metadata": {},
     "output_type": "execute_result"
    }
   ],
   "source": [
    "np.ones((2,4))"
   ]
  },
  {
   "cell_type": "code",
   "execution_count": 14,
   "id": "e0f908b3",
   "metadata": {},
   "outputs": [
    {
     "data": {
      "text/plain": [
       "array([[1., 0., 0.],\n",
       "       [0., 1., 0.],\n",
       "       [0., 0., 1.]])"
      ]
     },
     "execution_count": 14,
     "metadata": {},
     "output_type": "execute_result"
    }
   ],
   "source": [
    "np.identity(3)"
   ]
  },
  {
   "cell_type": "code",
   "execution_count": 15,
   "id": "f720726f",
   "metadata": {},
   "outputs": [
    {
     "data": {
      "text/plain": [
       "array([[1., 0., 0.],\n",
       "       [0., 1., 0.],\n",
       "       [0., 0., 1.]])"
      ]
     },
     "execution_count": 15,
     "metadata": {},
     "output_type": "execute_result"
    }
   ],
   "source": [
    "np.eye(3)"
   ]
  },
  {
   "cell_type": "code",
   "execution_count": 16,
   "id": "b9758daa",
   "metadata": {},
   "outputs": [],
   "source": [
    "A = np.array([[2,4,6],[3,4,7]])"
   ]
  },
  {
   "cell_type": "code",
   "execution_count": 17,
   "id": "eaf5a5be",
   "metadata": {},
   "outputs": [
    {
     "data": {
      "text/plain": [
       "array([[2, 4, 6],\n",
       "       [3, 4, 7]])"
      ]
     },
     "execution_count": 17,
     "metadata": {},
     "output_type": "execute_result"
    }
   ],
   "source": [
    "A"
   ]
  },
  {
   "cell_type": "code",
   "execution_count": 18,
   "id": "be41ef3f",
   "metadata": {},
   "outputs": [
    {
     "data": {
      "text/plain": [
       "array([[2, 3],\n",
       "       [4, 4],\n",
       "       [6, 7]])"
      ]
     },
     "execution_count": 18,
     "metadata": {},
     "output_type": "execute_result"
    }
   ],
   "source": [
    "A.T"
   ]
  },
  {
   "cell_type": "code",
   "execution_count": 19,
   "id": "190ba9a0",
   "metadata": {},
   "outputs": [
    {
     "data": {
      "text/plain": [
       "array([[2, 4, 6],\n",
       "       [3, 4, 7]])"
      ]
     },
     "execution_count": 19,
     "metadata": {},
     "output_type": "execute_result"
    }
   ],
   "source": [
    "A"
   ]
  },
  {
   "cell_type": "code",
   "execution_count": 20,
   "id": "f23f7368",
   "metadata": {},
   "outputs": [],
   "source": [
    "B = np.array([3.5, 5, 19]).reshape((3,1))"
   ]
  },
  {
   "cell_type": "code",
   "execution_count": 21,
   "id": "bd5de9fc",
   "metadata": {},
   "outputs": [
    {
     "data": {
      "text/plain": [
       "array([[ 3.5],\n",
       "       [ 5. ],\n",
       "       [19. ]])"
      ]
     },
     "execution_count": 21,
     "metadata": {},
     "output_type": "execute_result"
    }
   ],
   "source": [
    "B"
   ]
  },
  {
   "cell_type": "code",
   "execution_count": 22,
   "id": "d147730f",
   "metadata": {},
   "outputs": [
    {
     "data": {
      "text/plain": [
       "array([[141. ],\n",
       "       [163.5]])"
      ]
     },
     "execution_count": 22,
     "metadata": {},
     "output_type": "execute_result"
    }
   ],
   "source": [
    "A@B"
   ]
  },
  {
   "cell_type": "markdown",
   "id": "41ad5dd9",
   "metadata": {},
   "source": [
    "## Exercise\n",
    "\n",
    "Create a matrix, and a vector. Try the product of them. "
   ]
  },
  {
   "cell_type": "code",
   "execution_count": 23,
   "id": "7b6187eb",
   "metadata": {},
   "outputs": [],
   "source": [
    "A = np.array([[2,1],[1,1]])"
   ]
  },
  {
   "cell_type": "code",
   "execution_count": 24,
   "id": "891f2c60",
   "metadata": {},
   "outputs": [],
   "source": [
    "B = np.array([[1,-1],[0,2]])"
   ]
  },
  {
   "cell_type": "code",
   "execution_count": 25,
   "id": "caa4018b",
   "metadata": {},
   "outputs": [
    {
     "data": {
      "text/plain": [
       "array([[2, 1],\n",
       "       [1, 1]])"
      ]
     },
     "execution_count": 25,
     "metadata": {},
     "output_type": "execute_result"
    }
   ],
   "source": [
    "A"
   ]
  },
  {
   "cell_type": "code",
   "execution_count": 26,
   "id": "2b8f84e3",
   "metadata": {},
   "outputs": [
    {
     "data": {
      "text/plain": [
       "array([[ 1, -1],\n",
       "       [ 0,  2]])"
      ]
     },
     "execution_count": 26,
     "metadata": {},
     "output_type": "execute_result"
    }
   ],
   "source": [
    "B"
   ]
  },
  {
   "cell_type": "code",
   "execution_count": 27,
   "id": "714720b7",
   "metadata": {},
   "outputs": [
    {
     "data": {
      "text/plain": [
       "array([[2, 0],\n",
       "       [1, 1]])"
      ]
     },
     "execution_count": 27,
     "metadata": {},
     "output_type": "execute_result"
    }
   ],
   "source": [
    "A@B"
   ]
  },
  {
   "cell_type": "code",
   "execution_count": 28,
   "id": "eb78dd97",
   "metadata": {},
   "outputs": [
    {
     "data": {
      "text/plain": [
       "array([[1, 0],\n",
       "       [2, 2]])"
      ]
     },
     "execution_count": 28,
     "metadata": {},
     "output_type": "execute_result"
    }
   ],
   "source": [
    "B@A"
   ]
  },
  {
   "cell_type": "code",
   "execution_count": 29,
   "id": "025eb0cb",
   "metadata": {},
   "outputs": [
    {
     "data": {
      "text/plain": [
       "array([[ 2, -1],\n",
       "       [ 0,  2]])"
      ]
     },
     "execution_count": 29,
     "metadata": {},
     "output_type": "execute_result"
    }
   ],
   "source": [
    "A*B # Don't do this!"
   ]
  },
  {
   "cell_type": "code",
   "execution_count": 30,
   "id": "5afa48d3",
   "metadata": {},
   "outputs": [
    {
     "data": {
      "text/plain": [
       "array([[2, 1],\n",
       "       [1, 1]])"
      ]
     },
     "execution_count": 30,
     "metadata": {},
     "output_type": "execute_result"
    }
   ],
   "source": [
    "A"
   ]
  },
  {
   "cell_type": "code",
   "execution_count": 31,
   "id": "95bef0a6",
   "metadata": {},
   "outputs": [
    {
     "data": {
      "text/plain": [
       "array([[2., 1.],\n",
       "       [1., 1.]])"
      ]
     },
     "execution_count": 31,
     "metadata": {},
     "output_type": "execute_result"
    }
   ],
   "source": [
    "A@np.eye(2)"
   ]
  },
  {
   "cell_type": "code",
   "execution_count": 32,
   "id": "e5b6beec",
   "metadata": {},
   "outputs": [
    {
     "data": {
      "text/plain": [
       "array([[ 1., -1.],\n",
       "       [ 0.,  2.]])"
      ]
     },
     "execution_count": 32,
     "metadata": {},
     "output_type": "execute_result"
    }
   ],
   "source": [
    "np.eye(2)@B"
   ]
  },
  {
   "cell_type": "code",
   "execution_count": 33,
   "id": "ca77bb62",
   "metadata": {},
   "outputs": [
    {
     "data": {
      "text/plain": [
       "array([[1., 0.],\n",
       "       [0., 1.]])"
      ]
     },
     "execution_count": 33,
     "metadata": {},
     "output_type": "execute_result"
    }
   ],
   "source": [
    "np.eye(2)"
   ]
  },
  {
   "cell_type": "code",
   "execution_count": 34,
   "id": "47444c8f",
   "metadata": {},
   "outputs": [
    {
     "data": {
      "text/plain": [
       "array([[2, 1],\n",
       "       [1, 1]])"
      ]
     },
     "execution_count": 34,
     "metadata": {},
     "output_type": "execute_result"
    }
   ],
   "source": [
    "A"
   ]
  },
  {
   "cell_type": "code",
   "execution_count": 35,
   "id": "62da3a4a",
   "metadata": {},
   "outputs": [],
   "source": [
    "A2 = 1/A # not the inverse!"
   ]
  },
  {
   "cell_type": "code",
   "execution_count": 36,
   "id": "848db25b",
   "metadata": {},
   "outputs": [
    {
     "data": {
      "text/plain": [
       "array([[0.5, 1. ],\n",
       "       [1. , 1. ]])"
      ]
     },
     "execution_count": 36,
     "metadata": {},
     "output_type": "execute_result"
    }
   ],
   "source": [
    "A2"
   ]
  },
  {
   "cell_type": "code",
   "execution_count": 37,
   "id": "b2eafb9f",
   "metadata": {},
   "outputs": [
    {
     "data": {
      "text/plain": [
       "array([[2. , 3. ],\n",
       "       [1.5, 2. ]])"
      ]
     },
     "execution_count": 37,
     "metadata": {},
     "output_type": "execute_result"
    }
   ],
   "source": [
    "A@A2"
   ]
  },
  {
   "cell_type": "code",
   "execution_count": 39,
   "id": "c1c4e13e",
   "metadata": {},
   "outputs": [],
   "source": [
    "A_inverse = np.linalg.inv(A)"
   ]
  },
  {
   "cell_type": "code",
   "execution_count": 40,
   "id": "fec0281a",
   "metadata": {},
   "outputs": [
    {
     "data": {
      "text/plain": [
       "array([[ 1., -1.],\n",
       "       [-1.,  2.]])"
      ]
     },
     "execution_count": 40,
     "metadata": {},
     "output_type": "execute_result"
    }
   ],
   "source": [
    "A_inverse"
   ]
  },
  {
   "cell_type": "code",
   "execution_count": 41,
   "id": "8caf876f",
   "metadata": {},
   "outputs": [
    {
     "data": {
      "text/plain": [
       "array([[1., 0.],\n",
       "       [0., 1.]])"
      ]
     },
     "execution_count": 41,
     "metadata": {},
     "output_type": "execute_result"
    }
   ],
   "source": [
    "A@A_inverse"
   ]
  },
  {
   "cell_type": "code",
   "execution_count": 43,
   "id": "c6cfb581",
   "metadata": {},
   "outputs": [],
   "source": [
    "from numpy.linalg import inv"
   ]
  },
  {
   "cell_type": "code",
   "execution_count": 44,
   "id": "ae78283d",
   "metadata": {},
   "outputs": [
    {
     "data": {
      "text/plain": [
       "array([[ 1., -1.],\n",
       "       [-1.,  2.]])"
      ]
     },
     "execution_count": 44,
     "metadata": {},
     "output_type": "execute_result"
    }
   ],
   "source": [
    "inv(A)"
   ]
  },
  {
   "cell_type": "code",
   "execution_count": 45,
   "id": "b1fe951f",
   "metadata": {},
   "outputs": [
    {
     "data": {
      "text/plain": [
       "1.0"
      ]
     },
     "execution_count": 45,
     "metadata": {},
     "output_type": "execute_result"
    }
   ],
   "source": [
    "np.linalg.det(A)"
   ]
  },
  {
   "cell_type": "code",
   "execution_count": 46,
   "id": "73cc77f6",
   "metadata": {},
   "outputs": [
    {
     "data": {
      "text/plain": [
       "2.0"
      ]
     },
     "execution_count": 46,
     "metadata": {},
     "output_type": "execute_result"
    }
   ],
   "source": [
    "np.linalg.det(B)"
   ]
  },
  {
   "cell_type": "code",
   "execution_count": 47,
   "id": "04fd6e0c",
   "metadata": {},
   "outputs": [],
   "source": [
    "C = np.array([[1,2],[2,4]])"
   ]
  },
  {
   "cell_type": "code",
   "execution_count": 48,
   "id": "9558dd63",
   "metadata": {},
   "outputs": [
    {
     "data": {
      "text/plain": [
       "array([[1, 2],\n",
       "       [2, 4]])"
      ]
     },
     "execution_count": 48,
     "metadata": {},
     "output_type": "execute_result"
    }
   ],
   "source": [
    "C"
   ]
  },
  {
   "cell_type": "code",
   "execution_count": 49,
   "id": "d3459f81",
   "metadata": {},
   "outputs": [
    {
     "data": {
      "text/plain": [
       "0.0"
      ]
     },
     "execution_count": 49,
     "metadata": {},
     "output_type": "execute_result"
    }
   ],
   "source": [
    "np.linalg.det(C)"
   ]
  },
  {
   "cell_type": "markdown",
   "id": "cee0396e",
   "metadata": {},
   "source": [
    "## Exercise\n",
    "Solve the following system of equations by hand. Then, solve it using linear algebra in Python.\n",
    "\n",
    "$ 3x + 8y = 5 $ \n",
    "\n",
    "$ 4x + 11y = 7 $\n"
   ]
  },
  {
   "cell_type": "markdown",
   "id": "fc991880",
   "metadata": {},
   "source": [
    "Write the system as\n",
    "\n",
    "$ A z = B $\n",
    "\n",
    "The solution is\n",
    "\n",
    "$ z = A^{-1} B $"
   ]
  },
  {
   "cell_type": "code",
   "execution_count": 51,
   "id": "ad0cdccf",
   "metadata": {},
   "outputs": [],
   "source": [
    "A = np.array([[3,8],[4,11]])"
   ]
  },
  {
   "cell_type": "code",
   "execution_count": 52,
   "id": "764fffbd",
   "metadata": {},
   "outputs": [],
   "source": [
    "B = np.array([[5],[7]])"
   ]
  },
  {
   "cell_type": "code",
   "execution_count": 53,
   "id": "8672c804",
   "metadata": {},
   "outputs": [
    {
     "data": {
      "text/plain": [
       "array([[5],\n",
       "       [7]])"
      ]
     },
     "execution_count": 53,
     "metadata": {},
     "output_type": "execute_result"
    }
   ],
   "source": [
    "B"
   ]
  },
  {
   "cell_type": "code",
   "execution_count": 54,
   "id": "00a538d8",
   "metadata": {},
   "outputs": [
    {
     "data": {
      "text/plain": [
       "array([[-1.],\n",
       "       [ 1.]])"
      ]
     },
     "execution_count": 54,
     "metadata": {},
     "output_type": "execute_result"
    }
   ],
   "source": [
    "inv(A)@B"
   ]
  },
  {
   "cell_type": "markdown",
   "id": "a5d194e8",
   "metadata": {},
   "source": [
    "## Eigenvalues"
   ]
  },
  {
   "cell_type": "code",
   "execution_count": 55,
   "id": "7afa4613",
   "metadata": {
    "scrolled": true
   },
   "outputs": [
    {
     "data": {
      "text/plain": [
       "array([[ 3,  8],\n",
       "       [ 4, 11]])"
      ]
     },
     "execution_count": 55,
     "metadata": {},
     "output_type": "execute_result"
    }
   ],
   "source": [
    "A"
   ]
  },
  {
   "cell_type": "code",
   "execution_count": 56,
   "id": "07eef5ca",
   "metadata": {},
   "outputs": [
    {
     "data": {
      "text/plain": [
       "array([[1., 8.],\n",
       "       [4., 9.]])"
      ]
     },
     "execution_count": 56,
     "metadata": {},
     "output_type": "execute_result"
    }
   ],
   "source": [
    "A-np.eye(2)*2"
   ]
  },
  {
   "cell_type": "code",
   "execution_count": 58,
   "id": "4208897b",
   "metadata": {},
   "outputs": [],
   "source": [
    "evals, evecs = np.linalg.eig(A)"
   ]
  },
  {
   "cell_type": "code",
   "execution_count": 59,
   "id": "65ddc118",
   "metadata": {},
   "outputs": [
    {
     "data": {
      "text/plain": [
       "array([ 0.07179677, 13.92820323])"
      ]
     },
     "execution_count": 59,
     "metadata": {},
     "output_type": "execute_result"
    }
   ],
   "source": [
    "evals"
   ]
  },
  {
   "cell_type": "code",
   "execution_count": 60,
   "id": "109701c5",
   "metadata": {},
   "outputs": [
    {
     "data": {
      "text/plain": [
       "array([[-0.9390708 , -0.59069049],\n",
       "       [ 0.34372377, -0.80689822]])"
      ]
     },
     "execution_count": 60,
     "metadata": {},
     "output_type": "execute_result"
    }
   ],
   "source": [
    "evecs"
   ]
  },
  {
   "cell_type": "markdown",
   "id": "1faadefa",
   "metadata": {},
   "source": [
    "## Universal functions"
   ]
  },
  {
   "cell_type": "code",
   "execution_count": 2,
   "id": "127f88be",
   "metadata": {},
   "outputs": [],
   "source": [
    "w = np.array([[1,3],[3,5]])"
   ]
  },
  {
   "cell_type": "code",
   "execution_count": 3,
   "id": "17f0de9b",
   "metadata": {},
   "outputs": [
    {
     "data": {
      "text/plain": [
       "array([[0.        , 1.09861229],\n",
       "       [1.09861229, 1.60943791]])"
      ]
     },
     "execution_count": 3,
     "metadata": {},
     "output_type": "execute_result"
    }
   ],
   "source": [
    "np.log(w)"
   ]
  },
  {
   "cell_type": "code",
   "execution_count": 4,
   "id": "62541b40",
   "metadata": {},
   "outputs": [
    {
     "data": {
      "text/plain": [
       "array([[ 0.84147098,  0.14112001],\n",
       "       [ 0.14112001, -0.95892427]])"
      ]
     },
     "execution_count": 4,
     "metadata": {},
     "output_type": "execute_result"
    }
   ],
   "source": [
    "np.sin(w)"
   ]
  },
  {
   "cell_type": "code",
   "execution_count": 5,
   "id": "d31c1c01",
   "metadata": {},
   "outputs": [
    {
     "data": {
      "text/plain": [
       "3.0"
      ]
     },
     "execution_count": 5,
     "metadata": {},
     "output_type": "execute_result"
    }
   ],
   "source": [
    "np.mean(w)"
   ]
  },
  {
   "cell_type": "code",
   "execution_count": 6,
   "id": "c78d883c",
   "metadata": {},
   "outputs": [
    {
     "data": {
      "text/plain": [
       "1.4142135623730951"
      ]
     },
     "execution_count": 6,
     "metadata": {},
     "output_type": "execute_result"
    }
   ],
   "source": [
    "np.std(w)"
   ]
  },
  {
   "cell_type": "code",
   "execution_count": 7,
   "id": "a105c202",
   "metadata": {},
   "outputs": [
    {
     "data": {
      "text/plain": [
       "5"
      ]
     },
     "execution_count": 7,
     "metadata": {},
     "output_type": "execute_result"
    }
   ],
   "source": [
    "np.max(w)"
   ]
  },
  {
   "cell_type": "code",
   "execution_count": 8,
   "id": "cb793cbe",
   "metadata": {},
   "outputs": [
    {
     "data": {
      "text/plain": [
       "1"
      ]
     },
     "execution_count": 8,
     "metadata": {},
     "output_type": "execute_result"
    }
   ],
   "source": [
    "np.min(w)"
   ]
  },
  {
   "cell_type": "code",
   "execution_count": 11,
   "id": "ce8e71ae",
   "metadata": {},
   "outputs": [],
   "source": [
    "w = np.array([[1,3],[8,2]])"
   ]
  },
  {
   "cell_type": "code",
   "execution_count": 15,
   "id": "ac9dd1cf",
   "metadata": {},
   "outputs": [
    {
     "data": {
      "text/plain": [
       "array([[1, 3],\n",
       "       [8, 2]])"
      ]
     },
     "execution_count": 15,
     "metadata": {},
     "output_type": "execute_result"
    }
   ],
   "source": [
    "w"
   ]
  },
  {
   "cell_type": "code",
   "execution_count": 12,
   "id": "331d7273",
   "metadata": {},
   "outputs": [
    {
     "data": {
      "text/plain": [
       "array([[ 7, -1]])"
      ]
     },
     "execution_count": 12,
     "metadata": {},
     "output_type": "execute_result"
    }
   ],
   "source": [
    "np.diff(w,axis=0)"
   ]
  },
  {
   "cell_type": "code",
   "execution_count": 14,
   "id": "c206ebdb",
   "metadata": {},
   "outputs": [
    {
     "data": {
      "text/plain": [
       "array([[ 2],\n",
       "       [-6]])"
      ]
     },
     "execution_count": 14,
     "metadata": {},
     "output_type": "execute_result"
    }
   ],
   "source": [
    "np.diff(w,axis=1)"
   ]
  },
  {
   "cell_type": "code",
   "execution_count": 16,
   "id": "5e20a2d4",
   "metadata": {},
   "outputs": [],
   "source": [
    "w.sort(axis=0)"
   ]
  },
  {
   "cell_type": "code",
   "execution_count": 17,
   "id": "05660e3b",
   "metadata": {},
   "outputs": [
    {
     "data": {
      "text/plain": [
       "array([[1, 2],\n",
       "       [8, 3]])"
      ]
     },
     "execution_count": 17,
     "metadata": {},
     "output_type": "execute_result"
    }
   ],
   "source": [
    "w"
   ]
  },
  {
   "cell_type": "code",
   "execution_count": 18,
   "id": "934dd0e5",
   "metadata": {},
   "outputs": [
    {
     "data": {
      "text/plain": [
       "array([[1, 2],\n",
       "       [3, 8]])"
      ]
     },
     "execution_count": 18,
     "metadata": {},
     "output_type": "execute_result"
    }
   ],
   "source": [
    "w.sort(axis=1)\n",
    "w"
   ]
  },
  {
   "cell_type": "markdown",
   "id": "1d5ceeb8",
   "metadata": {},
   "source": [
    "## `linspace` and `arange`"
   ]
  },
  {
   "cell_type": "code",
   "execution_count": 19,
   "id": "6dfc9112",
   "metadata": {},
   "outputs": [],
   "source": [
    "# create an array from 2 to 13, of 5 elements\n",
    "z = np.linspace(2,13,5)"
   ]
  },
  {
   "cell_type": "code",
   "execution_count": 20,
   "id": "ba2a05ea",
   "metadata": {},
   "outputs": [
    {
     "data": {
      "text/plain": [
       "array([ 2.  ,  4.75,  7.5 , 10.25, 13.  ])"
      ]
     },
     "execution_count": 20,
     "metadata": {},
     "output_type": "execute_result"
    }
   ],
   "source": [
    "z"
   ]
  },
  {
   "cell_type": "code",
   "execution_count": 21,
   "id": "01eb95fe",
   "metadata": {},
   "outputs": [
    {
     "data": {
      "text/plain": [
       "array([ 1.        ,  1.48275862,  1.96551724,  2.44827586,  2.93103448,\n",
       "        3.4137931 ,  3.89655172,  4.37931034,  4.86206897,  5.34482759,\n",
       "        5.82758621,  6.31034483,  6.79310345,  7.27586207,  7.75862069,\n",
       "        8.24137931,  8.72413793,  9.20689655,  9.68965517, 10.17241379,\n",
       "       10.65517241, 11.13793103, 11.62068966, 12.10344828, 12.5862069 ,\n",
       "       13.06896552, 13.55172414, 14.03448276, 14.51724138, 15.        ])"
      ]
     },
     "execution_count": 21,
     "metadata": {},
     "output_type": "execute_result"
    }
   ],
   "source": [
    "z = np.linspace(1,15,30)\n",
    "z"
   ]
  },
  {
   "cell_type": "code",
   "execution_count": 22,
   "id": "505da8fb",
   "metadata": {},
   "outputs": [
    {
     "data": {
      "text/plain": [
       "array([ 0,  2,  4,  6,  8, 10])"
      ]
     },
     "execution_count": 22,
     "metadata": {},
     "output_type": "execute_result"
    }
   ],
   "source": [
    "np.arange(0,12,2)"
   ]
  },
  {
   "cell_type": "code",
   "execution_count": 23,
   "id": "dd4f90a7",
   "metadata": {},
   "outputs": [
    {
     "name": "stdout",
     "output_type": "stream",
     "text": [
      "0\n",
      "1\n",
      "2\n",
      "3\n",
      "4\n",
      "5\n",
      "6\n",
      "7\n",
      "8\n",
      "9\n"
     ]
    }
   ],
   "source": [
    "for i in range(10):\n",
    "    print(i)"
   ]
  },
  {
   "cell_type": "code",
   "execution_count": 24,
   "id": "03a87fe9",
   "metadata": {},
   "outputs": [
    {
     "data": {
      "text/plain": [
       "array([0, 1, 2, 3, 4, 5, 6, 7, 8, 9])"
      ]
     },
     "execution_count": 24,
     "metadata": {},
     "output_type": "execute_result"
    }
   ],
   "source": [
    "np.arange(10)"
   ]
  },
  {
   "cell_type": "code",
   "execution_count": 25,
   "id": "07870e3f",
   "metadata": {},
   "outputs": [
    {
     "data": {
      "text/plain": [
       "range"
      ]
     },
     "execution_count": 25,
     "metadata": {},
     "output_type": "execute_result"
    }
   ],
   "source": [
    "type(range(10))"
   ]
  },
  {
   "cell_type": "code",
   "execution_count": 27,
   "id": "7268d945",
   "metadata": {},
   "outputs": [
    {
     "name": "stdout",
     "output_type": "stream",
     "text": [
      "[0, 1, 2, 3, 4, 5, 6, 7, 8, 9]\n"
     ]
    }
   ],
   "source": [
    "print(list(range(10)))"
   ]
  },
  {
   "cell_type": "code",
   "execution_count": 29,
   "id": "b512dd3f",
   "metadata": {},
   "outputs": [
    {
     "data": {
      "text/plain": [
       "0"
      ]
     },
     "execution_count": 29,
     "metadata": {},
     "output_type": "execute_result"
    }
   ],
   "source": [
    "range(10)[0]"
   ]
  },
  {
   "cell_type": "markdown",
   "id": "216c6092",
   "metadata": {},
   "source": [
    "## Mutability and array copying"
   ]
  },
  {
   "cell_type": "code",
   "execution_count": 30,
   "id": "9fb5db63",
   "metadata": {},
   "outputs": [],
   "source": [
    "w = 3\n",
    "v = w\n",
    "v = v+2"
   ]
  },
  {
   "cell_type": "code",
   "execution_count": 31,
   "id": "d6de5115",
   "metadata": {},
   "outputs": [
    {
     "data": {
      "text/plain": [
       "3"
      ]
     },
     "execution_count": 31,
     "metadata": {},
     "output_type": "execute_result"
    }
   ],
   "source": [
    "w"
   ]
  },
  {
   "cell_type": "code",
   "execution_count": 32,
   "id": "48ac74b3",
   "metadata": {},
   "outputs": [
    {
     "data": {
      "text/plain": [
       "[9, 2]"
      ]
     },
     "execution_count": 32,
     "metadata": {},
     "output_type": "execute_result"
    }
   ],
   "source": [
    "h = [1,2]\n",
    "c = h\n",
    "c[0] = 9\n",
    "c"
   ]
  },
  {
   "cell_type": "code",
   "execution_count": 33,
   "id": "cf7f1bd3",
   "metadata": {},
   "outputs": [
    {
     "data": {
      "text/plain": [
       "[9, 2]"
      ]
     },
     "execution_count": 33,
     "metadata": {},
     "output_type": "execute_result"
    }
   ],
   "source": [
    "h"
   ]
  },
  {
   "cell_type": "code",
   "execution_count": 34,
   "id": "a4d5e52f",
   "metadata": {},
   "outputs": [],
   "source": [
    "a = np.array([42,44])\n",
    "b = a\n",
    "b[0] = 2"
   ]
  },
  {
   "cell_type": "code",
   "execution_count": 35,
   "id": "743133de",
   "metadata": {},
   "outputs": [
    {
     "data": {
      "text/plain": [
       "array([ 2, 44])"
      ]
     },
     "execution_count": 35,
     "metadata": {},
     "output_type": "execute_result"
    }
   ],
   "source": [
    "b"
   ]
  },
  {
   "cell_type": "code",
   "execution_count": 36,
   "id": "f4f0b150",
   "metadata": {},
   "outputs": [
    {
     "data": {
      "text/plain": [
       "array([ 2, 44])"
      ]
     },
     "execution_count": 36,
     "metadata": {},
     "output_type": "execute_result"
    }
   ],
   "source": [
    "a"
   ]
  },
  {
   "cell_type": "code",
   "execution_count": 37,
   "id": "1220afd0",
   "metadata": {},
   "outputs": [
    {
     "data": {
      "text/plain": [
       "array([1, 1])"
      ]
     },
     "execution_count": 37,
     "metadata": {},
     "output_type": "execute_result"
    }
   ],
   "source": [
    "c = np.copy(a)\n",
    "c[:] =1\n",
    "c"
   ]
  },
  {
   "cell_type": "code",
   "execution_count": 38,
   "id": "72ec6957",
   "metadata": {},
   "outputs": [
    {
     "data": {
      "text/plain": [
       "array([ 2, 44])"
      ]
     },
     "execution_count": 38,
     "metadata": {},
     "output_type": "execute_result"
    }
   ],
   "source": [
    "a"
   ]
  },
  {
   "cell_type": "markdown",
   "id": "3bac39ea",
   "metadata": {},
   "source": [
    "## Extraction"
   ]
  },
  {
   "cell_type": "code",
   "execution_count": 39,
   "id": "06bb8c4e",
   "metadata": {},
   "outputs": [],
   "source": [
    "z = np.linspace(2,4,5)"
   ]
  },
  {
   "cell_type": "code",
   "execution_count": 40,
   "id": "6bad191a",
   "metadata": {},
   "outputs": [
    {
     "data": {
      "text/plain": [
       "array([2. , 2.5, 3. , 3.5, 4. ])"
      ]
     },
     "execution_count": 40,
     "metadata": {},
     "output_type": "execute_result"
    }
   ],
   "source": [
    "z"
   ]
  },
  {
   "cell_type": "code",
   "execution_count": 41,
   "id": "1127d74e",
   "metadata": {},
   "outputs": [],
   "source": [
    "index = np.array((0,2,3))"
   ]
  },
  {
   "cell_type": "code",
   "execution_count": 42,
   "id": "2a9e3770",
   "metadata": {},
   "outputs": [
    {
     "data": {
      "text/plain": [
       "array([0, 2, 3])"
      ]
     },
     "execution_count": 42,
     "metadata": {},
     "output_type": "execute_result"
    }
   ],
   "source": [
    "index"
   ]
  },
  {
   "cell_type": "code",
   "execution_count": 43,
   "id": "26bf9edb",
   "metadata": {},
   "outputs": [
    {
     "data": {
      "text/plain": [
       "array([2. , 3. , 3.5])"
      ]
     },
     "execution_count": 43,
     "metadata": {},
     "output_type": "execute_result"
    }
   ],
   "source": [
    "z[index]"
   ]
  },
  {
   "cell_type": "code",
   "execution_count": 44,
   "id": "b5d7cb80",
   "metadata": {},
   "outputs": [],
   "source": [
    "d = np.array([0,1,1,0,1], dtype=bool)"
   ]
  },
  {
   "cell_type": "code",
   "execution_count": 45,
   "id": "bfe1b4a7",
   "metadata": {},
   "outputs": [
    {
     "data": {
      "text/plain": [
       "array([False,  True,  True, False,  True])"
      ]
     },
     "execution_count": 45,
     "metadata": {},
     "output_type": "execute_result"
    }
   ],
   "source": [
    "d"
   ]
  },
  {
   "cell_type": "code",
   "execution_count": 46,
   "id": "6193c363",
   "metadata": {},
   "outputs": [
    {
     "data": {
      "text/plain": [
       "array([2.5, 3. , 4. ])"
      ]
     },
     "execution_count": 46,
     "metadata": {},
     "output_type": "execute_result"
    }
   ],
   "source": [
    "z[d]"
   ]
  },
  {
   "cell_type": "markdown",
   "id": "d94f58d1",
   "metadata": {},
   "source": [
    "## Vectorized functions"
   ]
  },
  {
   "cell_type": "code",
   "execution_count": 47,
   "id": "91abe45d",
   "metadata": {},
   "outputs": [],
   "source": [
    "a = np.array([0.5,2.3,4.6])"
   ]
  },
  {
   "cell_type": "code",
   "execution_count": 48,
   "id": "23897b40",
   "metadata": {},
   "outputs": [],
   "source": [
    "c = 0.5"
   ]
  },
  {
   "cell_type": "code",
   "execution_count": 49,
   "id": "53704814",
   "metadata": {},
   "outputs": [
    {
     "data": {
      "text/plain": [
       "0.8824969025845955"
      ]
     },
     "execution_count": 49,
     "metadata": {},
     "output_type": "execute_result"
    }
   ],
   "source": [
    "np.exp(-0.5*c**2)"
   ]
  },
  {
   "cell_type": "code",
   "execution_count": 50,
   "id": "6a46290a",
   "metadata": {},
   "outputs": [
    {
     "data": {
      "text/plain": [
       "array([8.82496903e-01, 7.10053537e-02, 2.54193465e-05])"
      ]
     },
     "execution_count": 50,
     "metadata": {},
     "output_type": "execute_result"
    }
   ],
   "source": [
    "np.exp(-0.5*a**2)"
   ]
  },
  {
   "cell_type": "code",
   "execution_count": 51,
   "id": "16eda677",
   "metadata": {},
   "outputs": [],
   "source": [
    "# This does not always work. As an example,\n",
    "def f(x):\n",
    "    return 1 if x>0 else 0"
   ]
  },
  {
   "cell_type": "code",
   "execution_count": 52,
   "id": "7e654868",
   "metadata": {},
   "outputs": [
    {
     "data": {
      "text/plain": [
       "1"
      ]
     },
     "execution_count": 52,
     "metadata": {},
     "output_type": "execute_result"
    }
   ],
   "source": [
    "f(c)"
   ]
  },
  {
   "cell_type": "code",
   "execution_count": 53,
   "id": "6c040161",
   "metadata": {},
   "outputs": [
    {
     "ename": "ValueError",
     "evalue": "The truth value of an array with more than one element is ambiguous. Use a.any() or a.all()",
     "output_type": "error",
     "traceback": [
      "\u001b[0;31m---------------------------------------------------------------------------\u001b[0m",
      "\u001b[0;31mValueError\u001b[0m                                Traceback (most recent call last)",
      "\u001b[0;32m/var/folders/zf/y8sy8tfs10x7msglglywkhw80000gn/T/ipykernel_53406/50782941.py\u001b[0m in \u001b[0;36m<module>\u001b[0;34m\u001b[0m\n\u001b[0;32m----> 1\u001b[0;31m \u001b[0mf\u001b[0m\u001b[0;34m(\u001b[0m\u001b[0ma\u001b[0m\u001b[0;34m)\u001b[0m\u001b[0;34m\u001b[0m\u001b[0;34m\u001b[0m\u001b[0m\n\u001b[0m",
      "\u001b[0;32m/var/folders/zf/y8sy8tfs10x7msglglywkhw80000gn/T/ipykernel_53406/1555490513.py\u001b[0m in \u001b[0;36mf\u001b[0;34m(x)\u001b[0m\n\u001b[1;32m      1\u001b[0m \u001b[0;31m# This does not always work\u001b[0m\u001b[0;34m\u001b[0m\u001b[0;34m\u001b[0m\u001b[0;34m\u001b[0m\u001b[0m\n\u001b[1;32m      2\u001b[0m \u001b[0;32mdef\u001b[0m \u001b[0mf\u001b[0m\u001b[0;34m(\u001b[0m\u001b[0mx\u001b[0m\u001b[0;34m)\u001b[0m\u001b[0;34m:\u001b[0m\u001b[0;34m\u001b[0m\u001b[0;34m\u001b[0m\u001b[0m\n\u001b[0;32m----> 3\u001b[0;31m     \u001b[0;32mreturn\u001b[0m \u001b[0;36m1\u001b[0m \u001b[0;32mif\u001b[0m \u001b[0mx\u001b[0m\u001b[0;34m>\u001b[0m\u001b[0;36m0\u001b[0m \u001b[0;32melse\u001b[0m \u001b[0;36m0\u001b[0m\u001b[0;34m\u001b[0m\u001b[0;34m\u001b[0m\u001b[0m\n\u001b[0m",
      "\u001b[0;31mValueError\u001b[0m: The truth value of an array with more than one element is ambiguous. Use a.any() or a.all()"
     ]
    }
   ],
   "source": [
    "f(a) # this does not work"
   ]
  },
  {
   "cell_type": "code",
   "execution_count": 54,
   "id": "71d5c8f0",
   "metadata": {},
   "outputs": [],
   "source": [
    "f = np.vectorize(f) # This makes the function work for an array"
   ]
  },
  {
   "cell_type": "code",
   "execution_count": 55,
   "id": "7944bf91",
   "metadata": {},
   "outputs": [
    {
     "data": {
      "text/plain": [
       "array([1, 1, 1])"
      ]
     },
     "execution_count": 55,
     "metadata": {},
     "output_type": "execute_result"
    }
   ],
   "source": [
    "f(a)"
   ]
  },
  {
   "cell_type": "markdown",
   "id": "3cb56c1d",
   "metadata": {},
   "source": [
    "## Comparisons are done element by element"
   ]
  },
  {
   "cell_type": "code",
   "execution_count": 56,
   "id": "f1c0deed",
   "metadata": {},
   "outputs": [
    {
     "data": {
      "text/plain": [
       "False"
      ]
     },
     "execution_count": 56,
     "metadata": {},
     "output_type": "execute_result"
    }
   ],
   "source": [
    "c < 0"
   ]
  },
  {
   "cell_type": "code",
   "execution_count": 57,
   "id": "b81e5425",
   "metadata": {},
   "outputs": [
    {
     "data": {
      "text/plain": [
       "0.5"
      ]
     },
     "execution_count": 57,
     "metadata": {},
     "output_type": "execute_result"
    }
   ],
   "source": [
    "c"
   ]
  },
  {
   "cell_type": "code",
   "execution_count": 58,
   "id": "77ba0742",
   "metadata": {},
   "outputs": [
    {
     "data": {
      "text/plain": [
       "array([0.5, 2.3, 4.6])"
      ]
     },
     "execution_count": 58,
     "metadata": {},
     "output_type": "execute_result"
    }
   ],
   "source": [
    "a"
   ]
  },
  {
   "cell_type": "code",
   "execution_count": 59,
   "id": "43b61d50",
   "metadata": {},
   "outputs": [
    {
     "data": {
      "text/plain": [
       "array([False,  True,  True])"
      ]
     },
     "execution_count": 59,
     "metadata": {},
     "output_type": "execute_result"
    }
   ],
   "source": [
    "a > 1"
   ]
  },
  {
   "cell_type": "code",
   "execution_count": 60,
   "id": "f7362257",
   "metadata": {},
   "outputs": [],
   "source": [
    "z = a[a>1]"
   ]
  },
  {
   "cell_type": "code",
   "execution_count": 61,
   "id": "7c63128d",
   "metadata": {},
   "outputs": [
    {
     "data": {
      "text/plain": [
       "array([2.3, 4.6])"
      ]
     },
     "execution_count": 61,
     "metadata": {},
     "output_type": "execute_result"
    }
   ],
   "source": [
    "z"
   ]
  },
  {
   "cell_type": "code",
   "execution_count": 62,
   "id": "9a4373cd",
   "metadata": {},
   "outputs": [
    {
     "data": {
      "text/plain": [
       "array([False, False])"
      ]
     },
     "execution_count": 62,
     "metadata": {},
     "output_type": "execute_result"
    }
   ],
   "source": [
    "z == a[0:2]"
   ]
  },
  {
   "cell_type": "code",
   "execution_count": 63,
   "id": "a6832db2",
   "metadata": {},
   "outputs": [
    {
     "data": {
      "text/plain": [
       "array([ True,  True])"
      ]
     },
     "execution_count": 63,
     "metadata": {},
     "output_type": "execute_result"
    }
   ],
   "source": [
    "z == a[1:]"
   ]
  },
  {
   "cell_type": "code",
   "execution_count": 64,
   "id": "519c4501",
   "metadata": {},
   "outputs": [
    {
     "data": {
      "text/plain": [
       "array([2.3, 4.6])"
      ]
     },
     "execution_count": 64,
     "metadata": {},
     "output_type": "execute_result"
    }
   ],
   "source": [
    "a[1:]"
   ]
  }
 ],
 "metadata": {
  "kernelspec": {
   "display_name": "Python 3 (ipykernel)",
   "language": "python",
   "name": "python3"
  },
  "language_info": {
   "codemirror_mode": {
    "name": "ipython",
    "version": 3
   },
   "file_extension": ".py",
   "mimetype": "text/x-python",
   "name": "python",
   "nbconvert_exporter": "python",
   "pygments_lexer": "ipython3",
   "version": "3.8.11"
  }
 },
 "nbformat": 4,
 "nbformat_minor": 5
}
