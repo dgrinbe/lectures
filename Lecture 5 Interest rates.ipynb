{
 "cells": [
  {
   "cell_type": "markdown",
   "id": "540a2985",
   "metadata": {},
   "source": [
    "# Interest rates"
   ]
  },
  {
   "cell_type": "markdown",
   "id": "bd184fe5",
   "metadata": {},
   "source": [
    "Suppose there is a fixed payment loan of \\\\$1000 that requires the borrower to repay \\\\$126 a year for 25 years, what is the yield to maturity?\n",
    "\n",
    "The formula is $ 1000=\\frac{126}{1+i}+\\frac{126}{(1+i)^{2}}+...+\\frac{126}{(1+i)^{25}}.$"
   ]
  },
  {
   "cell_type": "markdown",
   "id": "16ed08bd",
   "metadata": {},
   "source": [
    "task: write a function `get_PV()` to compute present values given FP, i, and n. "
   ]
  },
  {
   "cell_type": "code",
   "execution_count": 1,
   "id": "24d8bdc8",
   "metadata": {},
   "outputs": [],
   "source": [
    "def get_PV(FP, i, n):\n",
    "    \"\"\"\n",
    "    Calculuate the present value of future cashflows FP, given the interest\n",
    "    rate i and number of periods n. \n",
    "    \"\"\"    \n",
    "    total = 0\n",
    "    for j in range(n):\n",
    "        total = total + FP/(1+i)**(j+1)\n",
    "    return total"
   ]
  },
  {
   "cell_type": "code",
   "execution_count": 2,
   "id": "72a96e0a",
   "metadata": {},
   "outputs": [
    {
     "data": {
      "text/plain": [
       "1061.139827748029"
      ]
     },
     "execution_count": 2,
     "metadata": {},
     "output_type": "execute_result"
    }
   ],
   "source": [
    "get_PV(126, 0.11, 25)"
   ]
  },
  {
   "cell_type": "markdown",
   "id": "374724d3",
   "metadata": {},
   "source": [
    "Task: write one line of code to do the same thing. Call it `get_PV2`"
   ]
  },
  {
   "cell_type": "code",
   "execution_count": 3,
   "id": "c8504f95",
   "metadata": {},
   "outputs": [],
   "source": [
    "def get_PV2(FP,i):\n",
    "    \"\"\"\n",
    "    Calculuate the present value of future cashflows FP, given the interest\n",
    "    rate i and number of periods n. FP is a list. \n",
    "    \"\"\"\n",
    "    return sum(cf/(1+i)**(j+1) for j,cf in enumerate(FP))"
   ]
  },
  {
   "cell_type": "code",
   "execution_count": 4,
   "id": "d4dc81fa",
   "metadata": {},
   "outputs": [],
   "source": [
    "FP = [126]*25"
   ]
  },
  {
   "cell_type": "code",
   "execution_count": 8,
   "id": "c4fb721f",
   "metadata": {},
   "outputs": [
    {
     "data": {
      "text/plain": [
       "1061.139827748029"
      ]
     },
     "execution_count": 8,
     "metadata": {},
     "output_type": "execute_result"
    }
   ],
   "source": [
    "get_PV2(FP,0.11)"
   ]
  },
  {
   "cell_type": "markdown",
   "id": "ddf648b4",
   "metadata": {},
   "source": [
    "## Root finding\n",
    "* Define a function that equals 0, and the variable is the interest rate\n",
    "* solve it"
   ]
  },
  {
   "cell_type": "code",
   "execution_count": 9,
   "id": "a636ee84",
   "metadata": {},
   "outputs": [],
   "source": [
    "def g(i):\n",
    "    return get_PV2(FP,i) - 1000"
   ]
  },
  {
   "cell_type": "code",
   "execution_count": 10,
   "id": "a0dce4bf",
   "metadata": {},
   "outputs": [],
   "source": [
    "from scipy.optimize import newton"
   ]
  },
  {
   "cell_type": "code",
   "execution_count": 11,
   "id": "233e54f1",
   "metadata": {},
   "outputs": [
    {
     "data": {
      "text/plain": [
       "0.1183016767414266"
      ]
     },
     "execution_count": 11,
     "metadata": {},
     "output_type": "execute_result"
    }
   ],
   "source": [
    "newton(g, 0.05)"
   ]
  },
  {
   "cell_type": "code",
   "execution_count": 12,
   "id": "b7c8a854",
   "metadata": {},
   "outputs": [
    {
     "data": {
      "text/plain": [
       "1000.0117343284678"
      ]
     },
     "execution_count": 12,
     "metadata": {},
     "output_type": "execute_result"
    }
   ],
   "source": [
    "get_PV2(FP,0.1183)"
   ]
  },
  {
   "cell_type": "code",
   "execution_count": 17,
   "id": "2901f328",
   "metadata": {},
   "outputs": [],
   "source": [
    "def g(FP):\n",
    "    return get_PV(FP,i,n) - 100000"
   ]
  },
  {
   "cell_type": "code",
   "execution_count": 18,
   "id": "6bf94be0",
   "metadata": {},
   "outputs": [],
   "source": [
    "i = 0.07"
   ]
  },
  {
   "cell_type": "code",
   "execution_count": 19,
   "id": "aaf00c77",
   "metadata": {},
   "outputs": [],
   "source": [
    "n = 20"
   ]
  },
  {
   "cell_type": "code",
   "execution_count": 20,
   "id": "cb0c7a7e",
   "metadata": {},
   "outputs": [
    {
     "data": {
      "text/plain": [
       "9439.292574325575"
      ]
     },
     "execution_count": 20,
     "metadata": {},
     "output_type": "execute_result"
    }
   ],
   "source": [
    "newton(g,500)"
   ]
  },
  {
   "cell_type": "markdown",
   "id": "62763bac",
   "metadata": {},
   "source": [
    "A 10-year coupon bond with a \\\\$1000 face value, and a yearly coupon rate of 10\\%, purchased at \\\\$900, what is the interest rate?\n"
   ]
  },
  {
   "cell_type": "code",
   "execution_count": 21,
   "id": "c02ac677",
   "metadata": {},
   "outputs": [],
   "source": [
    "FP = [100]*10"
   ]
  },
  {
   "cell_type": "code",
   "execution_count": 22,
   "id": "38bb39ee",
   "metadata": {},
   "outputs": [
    {
     "data": {
      "text/plain": [
       "[100, 100, 100, 100, 100, 100, 100, 100, 100, 100]"
      ]
     },
     "execution_count": 22,
     "metadata": {},
     "output_type": "execute_result"
    }
   ],
   "source": [
    "FP"
   ]
  },
  {
   "cell_type": "code",
   "execution_count": 23,
   "id": "2516d77d",
   "metadata": {},
   "outputs": [],
   "source": [
    "def g(i):\n",
    "    return get_PV2(FP,i) + 1000/(1+i)**10 - 900"
   ]
  },
  {
   "cell_type": "code",
   "execution_count": 24,
   "id": "a89752e0",
   "metadata": {},
   "outputs": [
    {
     "data": {
      "text/plain": [
       "0.11751905703754088"
      ]
     },
     "execution_count": 24,
     "metadata": {},
     "output_type": "execute_result"
    }
   ],
   "source": [
    "newton(g,0.2)"
   ]
  },
  {
   "cell_type": "markdown",
   "id": "43f43d5b",
   "metadata": {},
   "source": [
    "There is a 10\\% coupon bond with a face value of \\\\$1000, a 12.25\\% yield to maturity, and 8 years to maturity. What is the price of this bond?"
   ]
  },
  {
   "cell_type": "code",
   "execution_count": 25,
   "id": "3d00fdf5",
   "metadata": {},
   "outputs": [],
   "source": [
    "FP = [100]*8"
   ]
  },
  {
   "cell_type": "code",
   "execution_count": 26,
   "id": "9bf3cfe8",
   "metadata": {},
   "outputs": [
    {
     "data": {
      "text/plain": [
       "889.1976820731027"
      ]
     },
     "execution_count": 26,
     "metadata": {},
     "output_type": "execute_result"
    }
   ],
   "source": [
    "get_PV2(FP,0.1225) + 1000/(1.1225)**8"
   ]
  },
  {
   "cell_type": "code",
   "execution_count": null,
   "id": "4e0c031f",
   "metadata": {},
   "outputs": [],
   "source": []
  }
 ],
 "metadata": {
  "kernelspec": {
   "display_name": "Python 3 (ipykernel)",
   "language": "python",
   "name": "python3"
  },
  "language_info": {
   "codemirror_mode": {
    "name": "ipython",
    "version": 3
   },
   "file_extension": ".py",
   "mimetype": "text/x-python",
   "name": "python",
   "nbconvert_exporter": "python",
   "pygments_lexer": "ipython3",
   "version": "3.8.11"
  }
 },
 "nbformat": 4,
 "nbformat_minor": 5
}
