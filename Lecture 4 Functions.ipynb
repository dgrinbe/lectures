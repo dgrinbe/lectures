{
 "cells": [
  {
   "cell_type": "markdown",
   "id": "ea62e063",
   "metadata": {},
   "source": [
    "# Functions"
   ]
  },
  {
   "cell_type": "markdown",
   "id": "8d002ebf",
   "metadata": {},
   "source": [
    "Let's calculate the mean of a list of numbers"
   ]
  },
  {
   "cell_type": "code",
   "execution_count": 1,
   "id": "7b934b04",
   "metadata": {},
   "outputs": [],
   "source": [
    "numbers = [ 2, 19, 34, 633, 999]"
   ]
  },
  {
   "cell_type": "code",
   "execution_count": 2,
   "id": "df9121ca",
   "metadata": {},
   "outputs": [
    {
     "name": "stdout",
     "output_type": "stream",
     "text": [
      "337.4\n"
     ]
    }
   ],
   "source": [
    "total = sum(numbers)\n",
    "N = len(numbers)\n",
    "answer = total/N\n",
    "print(answer)"
   ]
  },
  {
   "cell_type": "markdown",
   "id": "795ec53d",
   "metadata": {},
   "source": [
    "So what is a function?\n",
    "\n",
    "We like to think of a function as a production line in a manufacturing plant: we pass zero or more things to it, operations take place in a set linear sequence, and zero or more things come out.\n",
    "\n",
    "We use functions for the following purposes:\n",
    "\n",
    "* Re-usability: Writing code to do a specific task just once, and reuse the code by calling the function.\n",
    "* Organization: Keep the code for distinct operations separated and organized.\n",
    "* Sharing/collaboration: Sharing code across multiple projects or sharing pieces of code with collaborators.\n"
   ]
  },
  {
   "cell_type": "markdown",
   "id": "90de13b3",
   "metadata": {},
   "source": [
    "```python\n",
    "def function_name(inputs):\n",
    "    # step 1\n",
    "    # step 2\n",
    "    # ...\n",
    "    return outputs\n",
    "```"
   ]
  },
  {
   "cell_type": "code",
   "execution_count": 7,
   "id": "970e7a26",
   "metadata": {},
   "outputs": [],
   "source": [
    "def mean(numbers):\n",
    "    total = sum(numbers)\n",
    "    M = len(numbers)\n",
    "    answer = total / M\n",
    "    return answer"
   ]
  },
  {
   "cell_type": "code",
   "execution_count": 8,
   "id": "dec44753",
   "metadata": {},
   "outputs": [
    {
     "name": "stdout",
     "output_type": "stream",
     "text": [
      "337.4\n"
     ]
    }
   ],
   "source": [
    "y = mean(numbers)\n",
    "print(y)"
   ]
  },
  {
   "cell_type": "code",
   "execution_count": 9,
   "id": "be7a3a00",
   "metadata": {},
   "outputs": [
    {
     "ename": "NameError",
     "evalue": "name 'M' is not defined",
     "output_type": "error",
     "traceback": [
      "\u001b[0;31m---------------------------------------------------------------------------\u001b[0m",
      "\u001b[0;31mNameError\u001b[0m                                 Traceback (most recent call last)",
      "\u001b[0;32m/var/folders/zf/y8sy8tfs10x7msglglywkhw80000gn/T/ipykernel_18075/545986313.py\u001b[0m in \u001b[0;36m<module>\u001b[0;34m\u001b[0m\n\u001b[0;32m----> 1\u001b[0;31m \u001b[0mM\u001b[0m\u001b[0;34m\u001b[0m\u001b[0;34m\u001b[0m\u001b[0m\n\u001b[0m",
      "\u001b[0;31mNameError\u001b[0m: name 'M' is not defined"
     ]
    }
   ],
   "source": [
    "M"
   ]
  },
  {
   "cell_type": "markdown",
   "id": "8241a7ab",
   "metadata": {},
   "source": [
    "### Scope\n",
    "Scope is important for functions.\n",
    "\n",
    "Variables defined inside a function stay in the function.\n",
    "\n",
    "**Importantly, when Python looks for variables matching a particular name, it begins in the most local scope.**"
   ]
  },
  {
   "cell_type": "code",
   "execution_count": 10,
   "id": "a220e1b9",
   "metadata": {},
   "outputs": [],
   "source": [
    "M = 6"
   ]
  },
  {
   "cell_type": "code",
   "execution_count": 11,
   "id": "b090b3a2",
   "metadata": {},
   "outputs": [
    {
     "name": "stdout",
     "output_type": "stream",
     "text": [
      "337.4\n"
     ]
    }
   ],
   "source": [
    "y = mean(numbers)\n",
    "print(y)"
   ]
  },
  {
   "cell_type": "code",
   "execution_count": 12,
   "id": "7fc1d408",
   "metadata": {},
   "outputs": [],
   "source": [
    "def demo(x):\n",
    "    x = 3\n",
    "    print(x)"
   ]
  },
  {
   "cell_type": "code",
   "execution_count": 13,
   "id": "450811ed",
   "metadata": {},
   "outputs": [
    {
     "name": "stdout",
     "output_type": "stream",
     "text": [
      "3\n"
     ]
    }
   ],
   "source": [
    "x = 4\n",
    "demo(x)"
   ]
  },
  {
   "cell_type": "code",
   "execution_count": 14,
   "id": "9d155da5",
   "metadata": {},
   "outputs": [
    {
     "data": {
      "text/plain": [
       "4"
      ]
     },
     "execution_count": 14,
     "metadata": {},
     "output_type": "execute_result"
    }
   ],
   "source": [
    "x"
   ]
  },
  {
   "cell_type": "markdown",
   "id": "00da9a7f",
   "metadata": {},
   "source": [
    "### Multiple returns"
   ]
  },
  {
   "cell_type": "code",
   "execution_count": 15,
   "id": "b9a21867",
   "metadata": {},
   "outputs": [],
   "source": [
    "def get_upper_lower(x):\n",
    "    return x.upper(), x.lower()"
   ]
  },
  {
   "cell_type": "code",
   "execution_count": 16,
   "id": "647c12ca",
   "metadata": {},
   "outputs": [
    {
     "data": {
      "text/plain": [
       "'STAR'"
      ]
     },
     "execution_count": 16,
     "metadata": {},
     "output_type": "execute_result"
    }
   ],
   "source": [
    "'Star'.upper()"
   ]
  },
  {
   "cell_type": "code",
   "execution_count": 17,
   "id": "338e759c",
   "metadata": {},
   "outputs": [
    {
     "data": {
      "text/plain": [
       "('BLACK WIDOW', 'black widow')"
      ]
     },
     "execution_count": 17,
     "metadata": {},
     "output_type": "execute_result"
    }
   ],
   "source": [
    "get_upper_lower('Black Widow')"
   ]
  },
  {
   "cell_type": "code",
   "execution_count": 18,
   "id": "56ba26eb",
   "metadata": {},
   "outputs": [],
   "source": [
    "upper, lower = get_upper_lower('Wanda Vision')"
   ]
  },
  {
   "cell_type": "code",
   "execution_count": 19,
   "id": "baddd3dc",
   "metadata": {},
   "outputs": [
    {
     "data": {
      "text/plain": [
       "'WANDA VISION'"
      ]
     },
     "execution_count": 19,
     "metadata": {},
     "output_type": "execute_result"
    }
   ],
   "source": [
    "upper"
   ]
  },
  {
   "cell_type": "code",
   "execution_count": 20,
   "id": "af6aeb80",
   "metadata": {},
   "outputs": [
    {
     "data": {
      "text/plain": [
       "'wanda vision'"
      ]
     },
     "execution_count": 20,
     "metadata": {},
     "output_type": "execute_result"
    }
   ],
   "source": [
    "lower"
   ]
  },
  {
   "cell_type": "markdown",
   "id": "6fda37d9",
   "metadata": {},
   "source": [
    "### Documentation"
   ]
  },
  {
   "cell_type": "code",
   "execution_count": 21,
   "id": "1cbfc3e3",
   "metadata": {},
   "outputs": [
    {
     "name": "stdout",
     "output_type": "stream",
     "text": [
      "4\n"
     ]
    }
   ],
   "source": [
    "print(x)"
   ]
  },
  {
   "cell_type": "code",
   "execution_count": 22,
   "id": "6d162633",
   "metadata": {},
   "outputs": [],
   "source": [
    "print?"
   ]
  },
  {
   "cell_type": "code",
   "execution_count": 23,
   "id": "3b88905d",
   "metadata": {},
   "outputs": [],
   "source": [
    "get_upper_lower?"
   ]
  },
  {
   "cell_type": "code",
   "execution_count": 24,
   "id": "4ddcf398",
   "metadata": {},
   "outputs": [],
   "source": [
    "def get_upper_lower(x):\n",
    "    \"\"\"\n",
    "    This function returns the upper case and lower case versions of the string x.\n",
    "    \"\"\"\n",
    "    return x.upper(), x.lower()"
   ]
  },
  {
   "cell_type": "code",
   "execution_count": 25,
   "id": "4ff860b7",
   "metadata": {},
   "outputs": [],
   "source": [
    "get_upper_lower?"
   ]
  },
  {
   "cell_type": "markdown",
   "id": "65b71082",
   "metadata": {},
   "source": [
    "### One line functions"
   ]
  },
  {
   "cell_type": "code",
   "execution_count": 27,
   "id": "5de1df3c",
   "metadata": {},
   "outputs": [],
   "source": [
    "def f(x):\n",
    "    return x**3"
   ]
  },
  {
   "cell_type": "code",
   "execution_count": 28,
   "id": "c20a15b4",
   "metadata": {},
   "outputs": [
    {
     "data": {
      "text/plain": [
       "64"
      ]
     },
     "execution_count": 28,
     "metadata": {},
     "output_type": "execute_result"
    }
   ],
   "source": [
    "f(4)"
   ]
  },
  {
   "cell_type": "code",
   "execution_count": 29,
   "id": "b65a6460",
   "metadata": {},
   "outputs": [],
   "source": [
    "g = lambda x: x**3"
   ]
  },
  {
   "cell_type": "code",
   "execution_count": 30,
   "id": "b1afbbce",
   "metadata": {},
   "outputs": [
    {
     "data": {
      "text/plain": [
       "64"
      ]
     },
     "execution_count": 30,
     "metadata": {},
     "output_type": "execute_result"
    }
   ],
   "source": [
    "g(4)"
   ]
  },
  {
   "cell_type": "code",
   "execution_count": 31,
   "id": "e3fd5de2",
   "metadata": {},
   "outputs": [],
   "source": [
    "a = (lambda x:x**3) (4)"
   ]
  },
  {
   "cell_type": "code",
   "execution_count": 32,
   "id": "31a90057",
   "metadata": {},
   "outputs": [
    {
     "data": {
      "text/plain": [
       "64"
      ]
     },
     "execution_count": 32,
     "metadata": {},
     "output_type": "execute_result"
    }
   ],
   "source": [
    "a"
   ]
  },
  {
   "cell_type": "markdown",
   "id": "0c46e8e3",
   "metadata": {},
   "source": [
    "### Keywords arguments"
   ]
  },
  {
   "cell_type": "code",
   "execution_count": 33,
   "id": "c9059989",
   "metadata": {},
   "outputs": [],
   "source": [
    "def f(x, a):\n",
    "    return a+x**2"
   ]
  },
  {
   "cell_type": "code",
   "execution_count": 34,
   "id": "b83cd20d",
   "metadata": {},
   "outputs": [
    {
     "data": {
      "text/plain": [
       "24.25"
      ]
     },
     "execution_count": 34,
     "metadata": {},
     "output_type": "execute_result"
    }
   ],
   "source": [
    "f(4.5, 4)"
   ]
  },
  {
   "cell_type": "code",
   "execution_count": 35,
   "id": "07e73859",
   "metadata": {},
   "outputs": [],
   "source": [
    "def f(x, a = 2):\n",
    "    return a + x**2"
   ]
  },
  {
   "cell_type": "code",
   "execution_count": 36,
   "id": "b4602005",
   "metadata": {},
   "outputs": [
    {
     "data": {
      "text/plain": [
       "11"
      ]
     },
     "execution_count": 36,
     "metadata": {},
     "output_type": "execute_result"
    }
   ],
   "source": [
    "f(3)"
   ]
  },
  {
   "cell_type": "code",
   "execution_count": 37,
   "id": "4c0530f0",
   "metadata": {},
   "outputs": [
    {
     "data": {
      "text/plain": [
       "12"
      ]
     },
     "execution_count": 37,
     "metadata": {},
     "output_type": "execute_result"
    }
   ],
   "source": [
    "f(3,a=3)"
   ]
  },
  {
   "cell_type": "code",
   "execution_count": 38,
   "id": "b8c5c62f",
   "metadata": {},
   "outputs": [
    {
     "data": {
      "text/plain": [
       "12"
      ]
     },
     "execution_count": 38,
     "metadata": {},
     "output_type": "execute_result"
    }
   ],
   "source": [
    "f(3,3)"
   ]
  },
  {
   "cell_type": "markdown",
   "id": "948dd9f9",
   "metadata": {},
   "source": [
    "## Exercise\n",
    "\n",
    "The Cobb-Douglas production is defined as \n",
    "\n",
    "$ Y = F(A, K, L) = A K^\\alpha L ^{1-\\alpha} $.\n",
    "\n",
    "Define a function called Cobb_Douglas, with A, K, L as inputs, and Y as output. $\\alpha$ is an optional argument with a default value of 0.3."
   ]
  },
  {
   "cell_type": "code",
   "execution_count": 39,
   "id": "2096eb81",
   "metadata": {},
   "outputs": [],
   "source": [
    "def Cobb_Douglas(A,K,L,α=0.3):\n",
    "    return A*K**α*L**(1-α)"
   ]
  },
  {
   "cell_type": "code",
   "execution_count": 40,
   "id": "f28cf059",
   "metadata": {},
   "outputs": [
    {
     "data": {
      "text/plain": [
       "4.026353246083528"
      ]
     },
     "execution_count": 40,
     "metadata": {},
     "output_type": "execute_result"
    }
   ],
   "source": [
    "Cobb_Douglas(1,8,3)"
   ]
  }
 ],
 "metadata": {
  "kernelspec": {
   "display_name": "Python 3 (ipykernel)",
   "language": "python",
   "name": "python3"
  },
  "language_info": {
   "codemirror_mode": {
    "name": "ipython",
    "version": 3
   },
   "file_extension": ".py",
   "mimetype": "text/x-python",
   "name": "python",
   "nbconvert_exporter": "python",
   "pygments_lexer": "ipython3",
   "version": "3.8.11"
  }
 },
 "nbformat": 4,
 "nbformat_minor": 5
}
