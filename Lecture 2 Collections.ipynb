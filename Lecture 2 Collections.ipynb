{
 "cells": [
  {
   "cell_type": "markdown",
   "id": "e63c19fd",
   "metadata": {},
   "source": [
    "Collections\n",
    "========="
   ]
  },
  {
   "cell_type": "markdown",
   "id": "625c5861",
   "metadata": {},
   "source": [
    "## List\n",
    "A list is an ordered collection of items"
   ]
  },
  {
   "cell_type": "code",
   "execution_count": 9,
   "id": "8c94649b",
   "metadata": {},
   "outputs": [],
   "source": [
    "x = [1.5, 3.4, 4.5]"
   ]
  },
  {
   "cell_type": "code",
   "execution_count": 2,
   "id": "3e0c4806",
   "metadata": {},
   "outputs": [
    {
     "data": {
      "text/plain": [
       "[1.5, 3.4, 4.5]"
      ]
     },
     "execution_count": 2,
     "metadata": {},
     "output_type": "execute_result"
    }
   ],
   "source": [
    "x"
   ]
  },
  {
   "cell_type": "code",
   "execution_count": 3,
   "id": "c3e4278c",
   "metadata": {},
   "outputs": [
    {
     "data": {
      "text/plain": [
       "list"
      ]
     },
     "execution_count": 3,
     "metadata": {},
     "output_type": "execute_result"
    }
   ],
   "source": [
    "type(x)"
   ]
  },
  {
   "cell_type": "code",
   "execution_count": 4,
   "id": "5b28e1c5",
   "metadata": {},
   "outputs": [
    {
     "data": {
      "text/plain": [
       "4.5"
      ]
     },
     "execution_count": 4,
     "metadata": {},
     "output_type": "execute_result"
    }
   ],
   "source": [
    "x[2] # Python indexing starts at 0"
   ]
  },
  {
   "cell_type": "code",
   "execution_count": 5,
   "id": "942b57f3",
   "metadata": {},
   "outputs": [
    {
     "data": {
      "text/plain": [
       "3.4"
      ]
     },
     "execution_count": 5,
     "metadata": {},
     "output_type": "execute_result"
    }
   ],
   "source": [
    "x[1]"
   ]
  },
  {
   "cell_type": "code",
   "execution_count": 6,
   "id": "89bae837",
   "metadata": {},
   "outputs": [
    {
     "data": {
      "text/plain": [
       "4.9"
      ]
     },
     "execution_count": 6,
     "metadata": {},
     "output_type": "execute_result"
    }
   ],
   "source": [
    "x[0] + x[1]"
   ]
  },
  {
   "cell_type": "code",
   "execution_count": 7,
   "id": "ae78242e",
   "metadata": {},
   "outputs": [
    {
     "name": "stdout",
     "output_type": "stream",
     "text": [
      "[1.5, 3.4, 4.5]\n"
     ]
    }
   ],
   "source": [
    "print(x)"
   ]
  },
  {
   "cell_type": "code",
   "execution_count": 8,
   "id": "ff6d4d3a",
   "metadata": {},
   "outputs": [
    {
     "name": "stdout",
     "output_type": "stream",
     "text": [
      "3.4\n"
     ]
    }
   ],
   "source": [
    "print(x[1])"
   ]
  },
  {
   "cell_type": "markdown",
   "id": "1d3c6607",
   "metadata": {},
   "source": [
    "### Useful functions and methods"
   ]
  },
  {
   "cell_type": "code",
   "execution_count": 10,
   "id": "7706faeb",
   "metadata": {},
   "outputs": [
    {
     "data": {
      "text/plain": [
       "3"
      ]
     },
     "execution_count": 10,
     "metadata": {},
     "output_type": "execute_result"
    }
   ],
   "source": [
    "len(x)"
   ]
  },
  {
   "cell_type": "code",
   "execution_count": 11,
   "id": "e26968f4",
   "metadata": {},
   "outputs": [],
   "source": [
    "x.reverse()"
   ]
  },
  {
   "cell_type": "code",
   "execution_count": 12,
   "id": "3ae5e549",
   "metadata": {},
   "outputs": [
    {
     "data": {
      "text/plain": [
       "[4.5, 3.4, 1.5]"
      ]
     },
     "execution_count": 12,
     "metadata": {},
     "output_type": "execute_result"
    }
   ],
   "source": [
    "x"
   ]
  },
  {
   "cell_type": "code",
   "execution_count": 13,
   "id": "9b189959",
   "metadata": {},
   "outputs": [],
   "source": [
    "x.sort()"
   ]
  },
  {
   "cell_type": "code",
   "execution_count": 14,
   "id": "5d981107",
   "metadata": {},
   "outputs": [
    {
     "data": {
      "text/plain": [
       "[1.5, 3.4, 4.5]"
      ]
     },
     "execution_count": 14,
     "metadata": {},
     "output_type": "execute_result"
    }
   ],
   "source": [
    "x"
   ]
  },
  {
   "cell_type": "code",
   "execution_count": 15,
   "id": "25136a86",
   "metadata": {},
   "outputs": [],
   "source": [
    "y = ['hello','world','Welcome','Class']"
   ]
  },
  {
   "cell_type": "code",
   "execution_count": 16,
   "id": "3b6cd522",
   "metadata": {},
   "outputs": [
    {
     "data": {
      "text/plain": [
       "['hello', 'world', 'Welcome', 'Class']"
      ]
     },
     "execution_count": 16,
     "metadata": {},
     "output_type": "execute_result"
    }
   ],
   "source": [
    "y"
   ]
  },
  {
   "cell_type": "code",
   "execution_count": 17,
   "id": "5d2264bf",
   "metadata": {},
   "outputs": [],
   "source": [
    "y.sort()"
   ]
  },
  {
   "cell_type": "code",
   "execution_count": 18,
   "id": "2cbcdd75",
   "metadata": {},
   "outputs": [
    {
     "data": {
      "text/plain": [
       "['Class', 'Welcome', 'hello', 'world']"
      ]
     },
     "execution_count": 18,
     "metadata": {},
     "output_type": "execute_result"
    }
   ],
   "source": [
    "y"
   ]
  },
  {
   "cell_type": "code",
   "execution_count": 19,
   "id": "c8fa0ee8",
   "metadata": {},
   "outputs": [],
   "source": [
    "z = [1.5, 'foo','eggs', True]"
   ]
  },
  {
   "cell_type": "code",
   "execution_count": 20,
   "id": "af6ca2c9",
   "metadata": {},
   "outputs": [],
   "source": [
    "z = [True, False, 1.5]"
   ]
  },
  {
   "cell_type": "code",
   "execution_count": 21,
   "id": "fd705c03",
   "metadata": {},
   "outputs": [],
   "source": [
    "z.sort()"
   ]
  },
  {
   "cell_type": "code",
   "execution_count": 22,
   "id": "705c1eb0",
   "metadata": {},
   "outputs": [
    {
     "data": {
      "text/plain": [
       "[False, True, 1.5]"
      ]
     },
     "execution_count": 22,
     "metadata": {},
     "output_type": "execute_result"
    }
   ],
   "source": [
    "z"
   ]
  },
  {
   "cell_type": "code",
   "execution_count": 23,
   "id": "95cbdd8d",
   "metadata": {},
   "outputs": [
    {
     "data": {
      "text/plain": [
       "False"
      ]
     },
     "execution_count": 23,
     "metadata": {},
     "output_type": "execute_result"
    }
   ],
   "source": [
    "'foo' in z"
   ]
  },
  {
   "cell_type": "code",
   "execution_count": 24,
   "id": "cc9c3339",
   "metadata": {},
   "outputs": [
    {
     "data": {
      "text/plain": [
       "True"
      ]
     },
     "execution_count": 24,
     "metadata": {},
     "output_type": "execute_result"
    }
   ],
   "source": [
    "1.5 in z"
   ]
  },
  {
   "cell_type": "code",
   "execution_count": 25,
   "id": "9a18688e",
   "metadata": {},
   "outputs": [],
   "source": [
    "z.append(2.5)"
   ]
  },
  {
   "cell_type": "code",
   "execution_count": 26,
   "id": "fb59a602",
   "metadata": {},
   "outputs": [
    {
     "data": {
      "text/plain": [
       "[False, True, 1.5, 2.5]"
      ]
     },
     "execution_count": 26,
     "metadata": {},
     "output_type": "execute_result"
    }
   ],
   "source": [
    "z"
   ]
  },
  {
   "cell_type": "code",
   "execution_count": 27,
   "id": "e1f68d4b",
   "metadata": {},
   "outputs": [],
   "source": [
    "z.extend([3,5])"
   ]
  },
  {
   "cell_type": "code",
   "execution_count": 28,
   "id": "ee326f74",
   "metadata": {},
   "outputs": [
    {
     "data": {
      "text/plain": [
       "[False, True, 1.5, 2.5, 3, 5]"
      ]
     },
     "execution_count": 28,
     "metadata": {},
     "output_type": "execute_result"
    }
   ],
   "source": [
    "z"
   ]
  },
  {
   "cell_type": "code",
   "execution_count": 29,
   "id": "48a1b583",
   "metadata": {},
   "outputs": [
    {
     "data": {
      "text/plain": [
       "5"
      ]
     },
     "execution_count": 29,
     "metadata": {},
     "output_type": "execute_result"
    }
   ],
   "source": [
    "z.pop()"
   ]
  },
  {
   "cell_type": "code",
   "execution_count": 30,
   "id": "f138ed62",
   "metadata": {},
   "outputs": [
    {
     "data": {
      "text/plain": [
       "[False, True, 1.5, 2.5, 3]"
      ]
     },
     "execution_count": 30,
     "metadata": {},
     "output_type": "execute_result"
    }
   ],
   "source": [
    "z"
   ]
  },
  {
   "cell_type": "code",
   "execution_count": 31,
   "id": "5a0d899a",
   "metadata": {},
   "outputs": [],
   "source": [
    "z.insert(2,'ha')"
   ]
  },
  {
   "cell_type": "code",
   "execution_count": 32,
   "id": "ba4e3c36",
   "metadata": {},
   "outputs": [
    {
     "data": {
      "text/plain": [
       "[False, True, 'ha', 1.5, 2.5, 3]"
      ]
     },
     "execution_count": 32,
     "metadata": {},
     "output_type": "execute_result"
    }
   ],
   "source": [
    "z"
   ]
  },
  {
   "cell_type": "code",
   "execution_count": 33,
   "id": "e7dcd3f6",
   "metadata": {},
   "outputs": [
    {
     "data": {
      "text/plain": [
       "2"
      ]
     },
     "execution_count": 33,
     "metadata": {},
     "output_type": "execute_result"
    }
   ],
   "source": [
    "z.index('ha')"
   ]
  },
  {
   "cell_type": "code",
   "execution_count": 34,
   "id": "e319e04d",
   "metadata": {},
   "outputs": [],
   "source": [
    "x = ['spam','eggs','ham']"
   ]
  },
  {
   "cell_type": "code",
   "execution_count": 35,
   "id": "846c5394",
   "metadata": {},
   "outputs": [],
   "source": [
    "y = '.'.join(x)"
   ]
  },
  {
   "cell_type": "code",
   "execution_count": 36,
   "id": "28d96a80",
   "metadata": {},
   "outputs": [
    {
     "data": {
      "text/plain": [
       "'spam.eggs.ham'"
      ]
     },
     "execution_count": 36,
     "metadata": {},
     "output_type": "execute_result"
    }
   ],
   "source": [
    "y"
   ]
  },
  {
   "cell_type": "code",
   "execution_count": 37,
   "id": "68969cbf",
   "metadata": {},
   "outputs": [],
   "source": [
    "u = y.split('.')"
   ]
  },
  {
   "cell_type": "code",
   "execution_count": 38,
   "id": "6c8bab7b",
   "metadata": {},
   "outputs": [
    {
     "data": {
      "text/plain": [
       "['spam', 'eggs', 'ham']"
      ]
     },
     "execution_count": 38,
     "metadata": {},
     "output_type": "execute_result"
    }
   ],
   "source": [
    "u"
   ]
  },
  {
   "cell_type": "code",
   "execution_count": 39,
   "id": "cd6fea50",
   "metadata": {},
   "outputs": [],
   "source": [
    "x.extend?"
   ]
  },
  {
   "cell_type": "markdown",
   "id": "19b0eb7a",
   "metadata": {},
   "source": [
    "### Indexing"
   ]
  },
  {
   "cell_type": "markdown",
   "id": "92b3bffb",
   "metadata": {},
   "source": [
    "the letter $\\alpha$"
   ]
  },
  {
   "cell_type": "code",
   "execution_count": 40,
   "id": "d1d0462a",
   "metadata": {},
   "outputs": [],
   "source": [
    "x = ['α','foo','ha',False, 2.5, 3]"
   ]
  },
  {
   "cell_type": "code",
   "execution_count": 41,
   "id": "224d6fb5",
   "metadata": {},
   "outputs": [
    {
     "data": {
      "text/plain": [
       "'α'"
      ]
     },
     "execution_count": 41,
     "metadata": {},
     "output_type": "execute_result"
    }
   ],
   "source": [
    "x[0]"
   ]
  },
  {
   "cell_type": "code",
   "execution_count": 42,
   "id": "b11c730c",
   "metadata": {},
   "outputs": [
    {
     "data": {
      "text/plain": [
       "['α', 'foo']"
      ]
     },
     "execution_count": 42,
     "metadata": {},
     "output_type": "execute_result"
    }
   ],
   "source": [
    "x[0:2] # start at the beginning, select 2 elements"
   ]
  },
  {
   "cell_type": "code",
   "execution_count": 43,
   "id": "5e53935f",
   "metadata": {},
   "outputs": [
    {
     "data": {
      "text/plain": [
       "['α', 'foo']"
      ]
     },
     "execution_count": 43,
     "metadata": {},
     "output_type": "execute_result"
    }
   ],
   "source": [
    "x[:2]"
   ]
  },
  {
   "cell_type": "markdown",
   "id": "91152023",
   "metadata": {},
   "source": [
    "This is how indexing works:\n",
    "\n",
    "* `x[m:n]` returns `n - m` elements, starting at `x[m]`. **`n` represents the first value that is not in the selected slice.**\n",
    "* `x[m:n]`: you can also think of this as: get n elements from position 0, but start at position m (drop items before it). \n",
    "\n",
    "Negative indexing (elements are indexed from the end of the list towards the beginning). From the end of the list, elements are indexed as -1, -2, -3, ... You can also think of this in two ways:\n",
    "\n",
    "* `x[-m:-n]`: starting at `x[-m]`, count to `x[-n]`, but do not include it. This is consistent with rule 1 above. \n",
    "* `x[-m:-n]`: get m elements from the end, but do not include position `-n` and everything after. \n",
    "\n",
    "General rule: in `x[m:n]`, `m` is always included, and `n` is always not included. "
   ]
  },
  {
   "cell_type": "code",
   "execution_count": 44,
   "id": "573cb08b",
   "metadata": {},
   "outputs": [
    {
     "data": {
      "text/plain": [
       "['foo']"
      ]
     },
     "execution_count": 44,
     "metadata": {},
     "output_type": "execute_result"
    }
   ],
   "source": [
    "x[1:2]"
   ]
  },
  {
   "cell_type": "code",
   "execution_count": 45,
   "id": "7efca555",
   "metadata": {},
   "outputs": [
    {
     "data": {
      "text/plain": [
       "['α', 'foo', 'ha', False, 2.5, 3]"
      ]
     },
     "execution_count": 45,
     "metadata": {},
     "output_type": "execute_result"
    }
   ],
   "source": [
    "x"
   ]
  },
  {
   "cell_type": "code",
   "execution_count": 46,
   "id": "f022432b",
   "metadata": {},
   "outputs": [
    {
     "data": {
      "text/plain": [
       "['foo', 'ha', False]"
      ]
     },
     "execution_count": 46,
     "metadata": {},
     "output_type": "execute_result"
    }
   ],
   "source": [
    "x[1:4]"
   ]
  },
  {
   "cell_type": "code",
   "execution_count": 47,
   "id": "6602b1a4",
   "metadata": {},
   "outputs": [
    {
     "data": {
      "text/plain": [
       "['ha', False, 2.5]"
      ]
     },
     "execution_count": 47,
     "metadata": {},
     "output_type": "execute_result"
    }
   ],
   "source": [
    "x[2:5]"
   ]
  },
  {
   "cell_type": "code",
   "execution_count": 48,
   "id": "92301470",
   "metadata": {},
   "outputs": [
    {
     "data": {
      "text/plain": [
       "[2.5, 3]"
      ]
     },
     "execution_count": 48,
     "metadata": {},
     "output_type": "execute_result"
    }
   ],
   "source": [
    "x[-2:] # the last two elements"
   ]
  },
  {
   "cell_type": "code",
   "execution_count": 49,
   "id": "45ad810a",
   "metadata": {},
   "outputs": [
    {
     "data": {
      "text/plain": [
       "['α', 'foo', 'ha', False, 2.5, 3]"
      ]
     },
     "execution_count": 49,
     "metadata": {},
     "output_type": "execute_result"
    }
   ],
   "source": [
    "x"
   ]
  },
  {
   "cell_type": "code",
   "execution_count": 50,
   "id": "e3033d27",
   "metadata": {},
   "outputs": [
    {
     "data": {
      "text/plain": [
       "[3]"
      ]
     },
     "execution_count": 50,
     "metadata": {},
     "output_type": "execute_result"
    }
   ],
   "source": [
    "x[-1:]"
   ]
  },
  {
   "cell_type": "code",
   "execution_count": 51,
   "id": "2c5fbc54",
   "metadata": {},
   "outputs": [
    {
     "data": {
      "text/plain": [
       "[False, 2.5, 3]"
      ]
     },
     "execution_count": 51,
     "metadata": {},
     "output_type": "execute_result"
    }
   ],
   "source": [
    "x[-3:] # "
   ]
  },
  {
   "cell_type": "code",
   "execution_count": 52,
   "id": "54ecda37",
   "metadata": {},
   "outputs": [
    {
     "data": {
      "text/plain": [
       "[False, 2.5]"
      ]
     },
     "execution_count": 52,
     "metadata": {},
     "output_type": "execute_result"
    }
   ],
   "source": [
    "x[-3:-1] # get 3 elements from the end, but start at position -1"
   ]
  },
  {
   "cell_type": "code",
   "execution_count": 53,
   "id": "47c614f7",
   "metadata": {},
   "outputs": [
    {
     "data": {
      "text/plain": [
       "[]"
      ]
     },
     "execution_count": 53,
     "metadata": {},
     "output_type": "execute_result"
    }
   ],
   "source": [
    "x[-3:0] # you will get an empty list"
   ]
  },
  {
   "cell_type": "markdown",
   "id": "a5045578",
   "metadata": {},
   "source": [
    "### Unpacking"
   ]
  },
  {
   "cell_type": "code",
   "execution_count": 54,
   "id": "c7959eb3",
   "metadata": {},
   "outputs": [],
   "source": [
    "x = [1,2]"
   ]
  },
  {
   "cell_type": "code",
   "execution_count": 55,
   "id": "5002758e",
   "metadata": {},
   "outputs": [],
   "source": [
    "z = x[0]"
   ]
  },
  {
   "cell_type": "code",
   "execution_count": 56,
   "id": "d9866a23",
   "metadata": {},
   "outputs": [
    {
     "data": {
      "text/plain": [
       "1"
      ]
     },
     "execution_count": 56,
     "metadata": {},
     "output_type": "execute_result"
    }
   ],
   "source": [
    "z"
   ]
  },
  {
   "cell_type": "code",
   "execution_count": 57,
   "id": "917cbf53",
   "metadata": {},
   "outputs": [],
   "source": [
    "w = x[1]"
   ]
  },
  {
   "cell_type": "code",
   "execution_count": 58,
   "id": "132b447f",
   "metadata": {},
   "outputs": [
    {
     "data": {
      "text/plain": [
       "2"
      ]
     },
     "execution_count": 58,
     "metadata": {},
     "output_type": "execute_result"
    }
   ],
   "source": [
    "w"
   ]
  },
  {
   "cell_type": "code",
   "execution_count": 59,
   "id": "33facb91",
   "metadata": {},
   "outputs": [],
   "source": [
    "z, w = x"
   ]
  },
  {
   "cell_type": "code",
   "execution_count": 60,
   "id": "f573251e",
   "metadata": {},
   "outputs": [
    {
     "data": {
      "text/plain": [
       "1"
      ]
     },
     "execution_count": 60,
     "metadata": {},
     "output_type": "execute_result"
    }
   ],
   "source": [
    "z"
   ]
  },
  {
   "cell_type": "code",
   "execution_count": 61,
   "id": "1ee4944b",
   "metadata": {},
   "outputs": [
    {
     "data": {
      "text/plain": [
       "2"
      ]
     },
     "execution_count": 61,
     "metadata": {},
     "output_type": "execute_result"
    }
   ],
   "source": [
    "w"
   ]
  },
  {
   "cell_type": "code",
   "execution_count": 63,
   "id": "de6c7439",
   "metadata": {},
   "outputs": [
    {
     "ename": "ValueError",
     "evalue": "not enough values to unpack (expected 3, got 2)",
     "output_type": "error",
     "traceback": [
      "\u001b[0;31m---------------------------------------------------------------------------\u001b[0m",
      "\u001b[0;31mValueError\u001b[0m                                Traceback (most recent call last)",
      "\u001b[0;32m/var/folders/zf/y8sy8tfs10x7msglglywkhw80000gn/T/ipykernel_6828/1363996944.py\u001b[0m in \u001b[0;36m<module>\u001b[0;34m\u001b[0m\n\u001b[0;32m----> 1\u001b[0;31m \u001b[0mz\u001b[0m\u001b[0;34m,\u001b[0m\u001b[0mw\u001b[0m\u001b[0;34m,\u001b[0m\u001b[0my\u001b[0m \u001b[0;34m=\u001b[0m \u001b[0mx\u001b[0m \u001b[0;31m# number of elements = number of variables on the LHS\u001b[0m\u001b[0;34m\u001b[0m\u001b[0;34m\u001b[0m\u001b[0m\n\u001b[0m",
      "\u001b[0;31mValueError\u001b[0m: not enough values to unpack (expected 3, got 2)"
     ]
    }
   ],
   "source": [
    "z,w,y = x # number of elements = number of variables on the LHS"
   ]
  },
  {
   "cell_type": "markdown",
   "id": "4855df21",
   "metadata": {},
   "source": [
    "### the `range` function"
   ]
  },
  {
   "cell_type": "code",
   "execution_count": 64,
   "id": "ad615af7",
   "metadata": {},
   "outputs": [],
   "source": [
    "x = range(3)"
   ]
  },
  {
   "cell_type": "code",
   "execution_count": 65,
   "id": "3f17333f",
   "metadata": {},
   "outputs": [
    {
     "data": {
      "text/plain": [
       "range(0, 3)"
      ]
     },
     "execution_count": 65,
     "metadata": {},
     "output_type": "execute_result"
    }
   ],
   "source": [
    "x"
   ]
  },
  {
   "cell_type": "code",
   "execution_count": 66,
   "id": "c2620fce",
   "metadata": {},
   "outputs": [
    {
     "data": {
      "text/plain": [
       "3"
      ]
     },
     "execution_count": 66,
     "metadata": {},
     "output_type": "execute_result"
    }
   ],
   "source": [
    "len(x)"
   ]
  },
  {
   "cell_type": "code",
   "execution_count": 67,
   "id": "eb9443c2",
   "metadata": {},
   "outputs": [
    {
     "data": {
      "text/plain": [
       "0"
      ]
     },
     "execution_count": 67,
     "metadata": {},
     "output_type": "execute_result"
    }
   ],
   "source": [
    "x[0]"
   ]
  },
  {
   "cell_type": "code",
   "execution_count": 68,
   "id": "84013d5c",
   "metadata": {},
   "outputs": [
    {
     "data": {
      "text/plain": [
       "1"
      ]
     },
     "execution_count": 68,
     "metadata": {},
     "output_type": "execute_result"
    }
   ],
   "source": [
    "x[1]"
   ]
  },
  {
   "cell_type": "code",
   "execution_count": 69,
   "id": "2ec3ed71",
   "metadata": {},
   "outputs": [
    {
     "data": {
      "text/plain": [
       "2"
      ]
     },
     "execution_count": 69,
     "metadata": {},
     "output_type": "execute_result"
    }
   ],
   "source": [
    "x[2]"
   ]
  },
  {
   "cell_type": "code",
   "execution_count": 70,
   "id": "87fc4d7b",
   "metadata": {},
   "outputs": [
    {
     "ename": "IndexError",
     "evalue": "range object index out of range",
     "output_type": "error",
     "traceback": [
      "\u001b[0;31m---------------------------------------------------------------------------\u001b[0m",
      "\u001b[0;31mIndexError\u001b[0m                                Traceback (most recent call last)",
      "\u001b[0;32m/var/folders/zf/y8sy8tfs10x7msglglywkhw80000gn/T/ipykernel_6828/2145826956.py\u001b[0m in \u001b[0;36m<module>\u001b[0;34m\u001b[0m\n\u001b[0;32m----> 1\u001b[0;31m \u001b[0mx\u001b[0m\u001b[0;34m[\u001b[0m\u001b[0;36m3\u001b[0m\u001b[0;34m]\u001b[0m\u001b[0;34m\u001b[0m\u001b[0;34m\u001b[0m\u001b[0m\n\u001b[0m",
      "\u001b[0;31mIndexError\u001b[0m: range object index out of range"
     ]
    }
   ],
   "source": [
    "x[3]"
   ]
  },
  {
   "cell_type": "code",
   "execution_count": 71,
   "id": "0744596e",
   "metadata": {},
   "outputs": [
    {
     "data": {
      "text/plain": [
       "[0, 1, 2]"
      ]
     },
     "execution_count": 71,
     "metadata": {},
     "output_type": "execute_result"
    }
   ],
   "source": [
    "list(x)"
   ]
  },
  {
   "cell_type": "code",
   "execution_count": 72,
   "id": "6be00a91",
   "metadata": {},
   "outputs": [],
   "source": [
    "y = range(1,3)"
   ]
  },
  {
   "cell_type": "code",
   "execution_count": 73,
   "id": "cd67f050",
   "metadata": {},
   "outputs": [
    {
     "data": {
      "text/plain": [
       "[1, 2]"
      ]
     },
     "execution_count": 73,
     "metadata": {},
     "output_type": "execute_result"
    }
   ],
   "source": [
    "list(y)"
   ]
  },
  {
   "cell_type": "code",
   "execution_count": 75,
   "id": "a3aea836",
   "metadata": {},
   "outputs": [],
   "source": [
    "z = range(2,9)"
   ]
  },
  {
   "cell_type": "code",
   "execution_count": 76,
   "id": "cd473625",
   "metadata": {},
   "outputs": [
    {
     "data": {
      "text/plain": [
       "[2, 3, 4, 5, 6, 7, 8]"
      ]
     },
     "execution_count": 76,
     "metadata": {},
     "output_type": "execute_result"
    }
   ],
   "source": [
    "list(z)"
   ]
  },
  {
   "cell_type": "code",
   "execution_count": 77,
   "id": "c0583e38",
   "metadata": {},
   "outputs": [],
   "source": [
    "w = range(2,9,2)"
   ]
  },
  {
   "cell_type": "code",
   "execution_count": 79,
   "id": "1b06ea5a",
   "metadata": {},
   "outputs": [
    {
     "data": {
      "text/plain": [
       "[2, 4, 6, 8]"
      ]
     },
     "execution_count": 79,
     "metadata": {},
     "output_type": "execute_result"
    }
   ],
   "source": [
    "list(w)"
   ]
  },
  {
   "cell_type": "code",
   "execution_count": 80,
   "id": "776b609a",
   "metadata": {},
   "outputs": [],
   "source": [
    "z = range(2,10)"
   ]
  },
  {
   "cell_type": "code",
   "execution_count": 81,
   "id": "ac136e55",
   "metadata": {},
   "outputs": [
    {
     "data": {
      "text/plain": [
       "[2, 3, 4, 5, 6, 7, 8, 9]"
      ]
     },
     "execution_count": 81,
     "metadata": {},
     "output_type": "execute_result"
    }
   ],
   "source": [
    "list(z)"
   ]
  },
  {
   "cell_type": "code",
   "execution_count": 82,
   "id": "8f092dcf",
   "metadata": {},
   "outputs": [],
   "source": [
    "w = range(2,10,2)"
   ]
  },
  {
   "cell_type": "code",
   "execution_count": 83,
   "id": "594afb5c",
   "metadata": {},
   "outputs": [
    {
     "data": {
      "text/plain": [
       "[2, 4, 6, 8]"
      ]
     },
     "execution_count": 83,
     "metadata": {},
     "output_type": "execute_result"
    }
   ],
   "source": [
    "list(w)"
   ]
  },
  {
   "cell_type": "markdown",
   "id": "87ad4ea7",
   "metadata": {},
   "source": [
    "### Exercise 1\n",
    "\n",
    "Define a list with five elements. \n",
    "\n",
    "Practice list indexing:\n",
    "* print the first 3 elements\n",
    "* print the 2nd to the 4th elements\n",
    "* print the last 3 elements\n",
    "\n",
    "Practice unpacking: unpack the first 3 elements of the list into three variables\n",
    "\n",
    "Practice using the range function:\n",
    "* write one line of code to show what numbers are in range(1,3)\n",
    "* write one line of code to show what numbers are in range(2,9,2)"
   ]
  },
  {
   "cell_type": "code",
   "execution_count": 84,
   "id": "ab51d3c9",
   "metadata": {},
   "outputs": [],
   "source": [
    "x = ['USA','Germany','Mexico','Canada','Argentina']"
   ]
  },
  {
   "cell_type": "code",
   "execution_count": 85,
   "id": "c0ee0475",
   "metadata": {},
   "outputs": [
    {
     "data": {
      "text/plain": [
       "['USA', 'Germany', 'Mexico']"
      ]
     },
     "execution_count": 85,
     "metadata": {},
     "output_type": "execute_result"
    }
   ],
   "source": [
    "x[:3]"
   ]
  },
  {
   "cell_type": "code",
   "execution_count": 86,
   "id": "0139b94b",
   "metadata": {},
   "outputs": [
    {
     "data": {
      "text/plain": [
       "['Germany', 'Mexico', 'Canada']"
      ]
     },
     "execution_count": 86,
     "metadata": {},
     "output_type": "execute_result"
    }
   ],
   "source": [
    "x[1:4]"
   ]
  },
  {
   "cell_type": "code",
   "execution_count": 88,
   "id": "dc071578",
   "metadata": {},
   "outputs": [
    {
     "data": {
      "text/plain": [
       "['Mexico', 'Canada', 'Argentina']"
      ]
     },
     "execution_count": 88,
     "metadata": {},
     "output_type": "execute_result"
    }
   ],
   "source": [
    "x[2:]"
   ]
  },
  {
   "cell_type": "code",
   "execution_count": 89,
   "id": "00ef2a24",
   "metadata": {},
   "outputs": [],
   "source": [
    "m, n, i = x[:3]"
   ]
  },
  {
   "cell_type": "code",
   "execution_count": 90,
   "id": "86529935",
   "metadata": {},
   "outputs": [
    {
     "data": {
      "text/plain": [
       "'USA'"
      ]
     },
     "execution_count": 90,
     "metadata": {},
     "output_type": "execute_result"
    }
   ],
   "source": [
    "m"
   ]
  },
  {
   "cell_type": "code",
   "execution_count": 91,
   "id": "c38e9cc0",
   "metadata": {},
   "outputs": [
    {
     "data": {
      "text/plain": [
       "'Germany'"
      ]
     },
     "execution_count": 91,
     "metadata": {},
     "output_type": "execute_result"
    }
   ],
   "source": [
    "n"
   ]
  },
  {
   "cell_type": "code",
   "execution_count": 92,
   "id": "a07967aa",
   "metadata": {},
   "outputs": [
    {
     "data": {
      "text/plain": [
       "'Mexico'"
      ]
     },
     "execution_count": 92,
     "metadata": {},
     "output_type": "execute_result"
    }
   ],
   "source": [
    "i"
   ]
  },
  {
   "cell_type": "code",
   "execution_count": 94,
   "id": "dd2c97cb",
   "metadata": {},
   "outputs": [
    {
     "data": {
      "text/plain": [
       "[1, 2]"
      ]
     },
     "execution_count": 94,
     "metadata": {},
     "output_type": "execute_result"
    }
   ],
   "source": [
    "x = range(1,3)\n",
    "list(x)"
   ]
  },
  {
   "cell_type": "code",
   "execution_count": 95,
   "id": "0e6dac27",
   "metadata": {},
   "outputs": [
    {
     "data": {
      "text/plain": [
       "[1, 2]"
      ]
     },
     "execution_count": 95,
     "metadata": {},
     "output_type": "execute_result"
    }
   ],
   "source": [
    "list(range(1,3))"
   ]
  },
  {
   "cell_type": "code",
   "execution_count": 96,
   "id": "7ef75440",
   "metadata": {},
   "outputs": [
    {
     "data": {
      "text/plain": [
       "[2, 4, 6, 8]"
      ]
     },
     "execution_count": 96,
     "metadata": {},
     "output_type": "execute_result"
    }
   ],
   "source": [
    "list(range(2,9,2))"
   ]
  },
  {
   "cell_type": "markdown",
   "id": "75c1c03c",
   "metadata": {},
   "source": [
    "### Tuples\n",
    "Tuples are very similar to lists and hold ordered collections of items.\n",
    "\n",
    "However, tuples and lists have three main differences:\n",
    "\n",
    "+ Tuples are created using parenthesis — ( and ) — instead of square brackets — [ and ].\n",
    "+ Tuples are immutable, which is a fancy computer science word meaning that they can’t be changed or altered after they are created.\n",
    "+ Tuples and multiple return values from functions are tightly connected, as we will see in functions.\n",
    "\n",
    "**Tuples can be unpacked**"
   ]
  },
  {
   "cell_type": "code",
   "execution_count": 98,
   "id": "a999183c",
   "metadata": {},
   "outputs": [],
   "source": [
    "x = ['USA','Germany','Mexico','Canada','Argentina']"
   ]
  },
  {
   "cell_type": "code",
   "execution_count": 99,
   "id": "3cddff7e",
   "metadata": {},
   "outputs": [],
   "source": [
    "x[0] = 'UK'"
   ]
  },
  {
   "cell_type": "code",
   "execution_count": 100,
   "id": "34c31df4",
   "metadata": {},
   "outputs": [
    {
     "data": {
      "text/plain": [
       "['UK', 'Germany', 'Mexico', 'Canada', 'Argentina']"
      ]
     },
     "execution_count": 100,
     "metadata": {},
     "output_type": "execute_result"
    }
   ],
   "source": [
    "x"
   ]
  },
  {
   "cell_type": "code",
   "execution_count": 101,
   "id": "12059735",
   "metadata": {},
   "outputs": [],
   "source": [
    "y = ('USA','Germany','Mexico','Canada','Argentina')"
   ]
  },
  {
   "cell_type": "code",
   "execution_count": 102,
   "id": "35b78cec",
   "metadata": {},
   "outputs": [
    {
     "data": {
      "text/plain": [
       "'USA'"
      ]
     },
     "execution_count": 102,
     "metadata": {},
     "output_type": "execute_result"
    }
   ],
   "source": [
    "y[0]"
   ]
  },
  {
   "cell_type": "code",
   "execution_count": 103,
   "id": "10f1ad93",
   "metadata": {},
   "outputs": [
    {
     "ename": "TypeError",
     "evalue": "'tuple' object does not support item assignment",
     "output_type": "error",
     "traceback": [
      "\u001b[0;31m---------------------------------------------------------------------------\u001b[0m",
      "\u001b[0;31mTypeError\u001b[0m                                 Traceback (most recent call last)",
      "\u001b[0;32m/var/folders/zf/y8sy8tfs10x7msglglywkhw80000gn/T/ipykernel_6828/3869052156.py\u001b[0m in \u001b[0;36m<module>\u001b[0;34m\u001b[0m\n\u001b[0;32m----> 1\u001b[0;31m \u001b[0my\u001b[0m\u001b[0;34m[\u001b[0m\u001b[0;36m0\u001b[0m\u001b[0;34m]\u001b[0m \u001b[0;34m=\u001b[0m \u001b[0;34m'UK'\u001b[0m\u001b[0;34m\u001b[0m\u001b[0;34m\u001b[0m\u001b[0m\n\u001b[0m",
      "\u001b[0;31mTypeError\u001b[0m: 'tuple' object does not support item assignment"
     ]
    }
   ],
   "source": [
    "y[0] = 'UK' # tuples are immutable"
   ]
  },
  {
   "cell_type": "code",
   "execution_count": 104,
   "id": "fe55f17c",
   "metadata": {},
   "outputs": [],
   "source": [
    "x = ('a','b')"
   ]
  },
  {
   "cell_type": "code",
   "execution_count": 105,
   "id": "79700119",
   "metadata": {},
   "outputs": [
    {
     "data": {
      "text/plain": [
       "tuple"
      ]
     },
     "execution_count": 105,
     "metadata": {},
     "output_type": "execute_result"
    }
   ],
   "source": [
    "type(x)"
   ]
  },
  {
   "cell_type": "code",
   "execution_count": 106,
   "id": "fac62430",
   "metadata": {},
   "outputs": [],
   "source": [
    "y = 'a','b'"
   ]
  },
  {
   "cell_type": "code",
   "execution_count": 107,
   "id": "20c714e1",
   "metadata": {},
   "outputs": [
    {
     "data": {
      "text/plain": [
       "tuple"
      ]
     },
     "execution_count": 107,
     "metadata": {},
     "output_type": "execute_result"
    }
   ],
   "source": [
    "type(y)"
   ]
  },
  {
   "cell_type": "code",
   "execution_count": 108,
   "id": "f7bab952",
   "metadata": {},
   "outputs": [
    {
     "data": {
      "text/plain": [
       "('a', 'b')"
      ]
     },
     "execution_count": 108,
     "metadata": {},
     "output_type": "execute_result"
    }
   ],
   "source": [
    "y"
   ]
  },
  {
   "cell_type": "code",
   "execution_count": 109,
   "id": "adb3a220",
   "metadata": {},
   "outputs": [],
   "source": [
    "words = ('a','b','c')"
   ]
  },
  {
   "cell_type": "code",
   "execution_count": 112,
   "id": "e569d934",
   "metadata": {},
   "outputs": [],
   "source": [
    "# unpack this tuple into 3 variables\n",
    "d, e, f = words"
   ]
  },
  {
   "cell_type": "code",
   "execution_count": 113,
   "id": "af8ee1c4",
   "metadata": {},
   "outputs": [
    {
     "name": "stdout",
     "output_type": "stream",
     "text": [
      "a b c\n"
     ]
    }
   ],
   "source": [
    "print(d,e,f)"
   ]
  },
  {
   "cell_type": "code",
   "execution_count": 114,
   "id": "cb65125f",
   "metadata": {},
   "outputs": [
    {
     "data": {
      "text/plain": [
       "str"
      ]
     },
     "execution_count": 114,
     "metadata": {},
     "output_type": "execute_result"
    }
   ],
   "source": [
    "type(d)"
   ]
  },
  {
   "cell_type": "code",
   "execution_count": 115,
   "id": "9e6b77ad",
   "metadata": {},
   "outputs": [
    {
     "data": {
      "text/plain": [
       "['a', 'b', 'c']"
      ]
     },
     "execution_count": 115,
     "metadata": {},
     "output_type": "execute_result"
    }
   ],
   "source": [
    "list(words)"
   ]
  },
  {
   "cell_type": "code",
   "execution_count": 116,
   "id": "4042affe",
   "metadata": {},
   "outputs": [],
   "source": [
    "z = list(words)"
   ]
  },
  {
   "cell_type": "code",
   "execution_count": 117,
   "id": "7959af88",
   "metadata": {},
   "outputs": [
    {
     "data": {
      "text/plain": [
       "['a', 'b', 'c']"
      ]
     },
     "execution_count": 117,
     "metadata": {},
     "output_type": "execute_result"
    }
   ],
   "source": [
    "z"
   ]
  },
  {
   "cell_type": "code",
   "execution_count": 118,
   "id": "e0b3fd83",
   "metadata": {},
   "outputs": [
    {
     "data": {
      "text/plain": [
       "('a', 'b', 'c')"
      ]
     },
     "execution_count": 118,
     "metadata": {},
     "output_type": "execute_result"
    }
   ],
   "source": [
    "words"
   ]
  },
  {
   "cell_type": "code",
   "execution_count": 119,
   "id": "232d35f7",
   "metadata": {},
   "outputs": [],
   "source": [
    "w = tuple(z)"
   ]
  },
  {
   "cell_type": "code",
   "execution_count": 120,
   "id": "c31412c8",
   "metadata": {},
   "outputs": [
    {
     "data": {
      "text/plain": [
       "('a', 'b', 'c')"
      ]
     },
     "execution_count": 120,
     "metadata": {},
     "output_type": "execute_result"
    }
   ],
   "source": [
    "w"
   ]
  },
  {
   "cell_type": "code",
   "execution_count": 121,
   "id": "6e4438f4",
   "metadata": {},
   "outputs": [
    {
     "data": {
      "text/plain": [
       "['a', 'b', 'c']"
      ]
     },
     "execution_count": 121,
     "metadata": {},
     "output_type": "execute_result"
    }
   ],
   "source": [
    "z"
   ]
  },
  {
   "cell_type": "code",
   "execution_count": 122,
   "id": "ba9db54a",
   "metadata": {},
   "outputs": [],
   "source": [
    "z = tuple(z)"
   ]
  },
  {
   "cell_type": "code",
   "execution_count": 123,
   "id": "8382eac7",
   "metadata": {},
   "outputs": [
    {
     "data": {
      "text/plain": [
       "('a', 'b', 'c')"
      ]
     },
     "execution_count": 123,
     "metadata": {},
     "output_type": "execute_result"
    }
   ],
   "source": [
    "z"
   ]
  },
  {
   "cell_type": "markdown",
   "id": "67453f4f",
   "metadata": {},
   "source": [
    "## Dictionaries\n",
    "\n",
    "A dictionary (or dict) associates keys with values.\n",
    "\n",
    "It will feel similar to a dictionary for words, where the keys are words and the values are the associated definitions.\n",
    "__Only immutable objects can be used as keys__."
   ]
  },
  {
   "cell_type": "code",
   "execution_count": 124,
   "id": "54eba690",
   "metadata": {},
   "outputs": [],
   "source": [
    "d = {'name':'Frodo','age':33}"
   ]
  },
  {
   "cell_type": "code",
   "execution_count": 125,
   "id": "7c9c29cd",
   "metadata": {},
   "outputs": [
    {
     "data": {
      "text/plain": [
       "dict"
      ]
     },
     "execution_count": 125,
     "metadata": {},
     "output_type": "execute_result"
    }
   ],
   "source": [
    "type(d)"
   ]
  },
  {
   "cell_type": "code",
   "execution_count": 126,
   "id": "1aedd119",
   "metadata": {},
   "outputs": [
    {
     "data": {
      "text/plain": [
       "{'name': 'Frodo', 'age': 33}"
      ]
     },
     "execution_count": 126,
     "metadata": {},
     "output_type": "execute_result"
    }
   ],
   "source": [
    "d"
   ]
  },
  {
   "cell_type": "code",
   "execution_count": 127,
   "id": "5b51a259",
   "metadata": {},
   "outputs": [
    {
     "data": {
      "text/plain": [
       "'Frodo'"
      ]
     },
     "execution_count": 127,
     "metadata": {},
     "output_type": "execute_result"
    }
   ],
   "source": [
    "d['name']"
   ]
  },
  {
   "cell_type": "code",
   "execution_count": 128,
   "id": "75eb083e",
   "metadata": {},
   "outputs": [
    {
     "data": {
      "text/plain": [
       "33"
      ]
     },
     "execution_count": 128,
     "metadata": {},
     "output_type": "execute_result"
    }
   ],
   "source": [
    "d['age']"
   ]
  },
  {
   "cell_type": "code",
   "execution_count": 129,
   "id": "d5c9c14f",
   "metadata": {},
   "outputs": [
    {
     "data": {
      "text/plain": [
       "33"
      ]
     },
     "execution_count": 129,
     "metadata": {},
     "output_type": "execute_result"
    }
   ],
   "source": [
    "d.get('age')"
   ]
  },
  {
   "cell_type": "code",
   "execution_count": 130,
   "id": "b28880a4",
   "metadata": {},
   "outputs": [
    {
     "data": {
      "text/plain": [
       "dict_values(['Frodo', 33])"
      ]
     },
     "execution_count": 130,
     "metadata": {},
     "output_type": "execute_result"
    }
   ],
   "source": [
    "d.values()"
   ]
  },
  {
   "cell_type": "code",
   "execution_count": 131,
   "id": "1e9c35e4",
   "metadata": {},
   "outputs": [
    {
     "data": {
      "text/plain": [
       "['Frodo', 33]"
      ]
     },
     "execution_count": 131,
     "metadata": {},
     "output_type": "execute_result"
    }
   ],
   "source": [
    "list(d.values())"
   ]
  },
  {
   "cell_type": "code",
   "execution_count": 132,
   "id": "a67585db",
   "metadata": {},
   "outputs": [
    {
     "data": {
      "text/plain": [
       "dict_keys(['name', 'age'])"
      ]
     },
     "execution_count": 132,
     "metadata": {},
     "output_type": "execute_result"
    }
   ],
   "source": [
    "d.keys()"
   ]
  },
  {
   "cell_type": "code",
   "execution_count": 133,
   "id": "6b24e3ed",
   "metadata": {},
   "outputs": [
    {
     "data": {
      "text/plain": [
       "['name', 'age']"
      ]
     },
     "execution_count": 133,
     "metadata": {},
     "output_type": "execute_result"
    }
   ],
   "source": [
    "list(d.keys())"
   ]
  },
  {
   "cell_type": "code",
   "execution_count": 134,
   "id": "15947529",
   "metadata": {},
   "outputs": [],
   "source": [
    "d.update({'Nickname':'ring bearer'})"
   ]
  },
  {
   "cell_type": "code",
   "execution_count": 135,
   "id": "c18fb7c1",
   "metadata": {},
   "outputs": [
    {
     "data": {
      "text/plain": [
       "{'name': 'Frodo', 'age': 33, 'Nickname': 'ring bearer'}"
      ]
     },
     "execution_count": 135,
     "metadata": {},
     "output_type": "execute_result"
    }
   ],
   "source": [
    "d"
   ]
  },
  {
   "cell_type": "code",
   "execution_count": 136,
   "id": "ae654941",
   "metadata": {},
   "outputs": [],
   "source": [
    "d['Task'] = 'Reach Mount Doom'"
   ]
  },
  {
   "cell_type": "code",
   "execution_count": 137,
   "id": "6193612c",
   "metadata": {},
   "outputs": [
    {
     "data": {
      "text/plain": [
       "{'name': 'Frodo',\n",
       " 'age': 33,\n",
       " 'Nickname': 'ring bearer',\n",
       " 'Task': 'Reach Mount Doom'}"
      ]
     },
     "execution_count": 137,
     "metadata": {},
     "output_type": "execute_result"
    }
   ],
   "source": [
    "d"
   ]
  },
  {
   "cell_type": "code",
   "execution_count": 138,
   "id": "60995059",
   "metadata": {},
   "outputs": [
    {
     "data": {
      "text/plain": [
       "'Reach Mount Doom'"
      ]
     },
     "execution_count": 138,
     "metadata": {},
     "output_type": "execute_result"
    }
   ],
   "source": [
    "d.pop('Task')"
   ]
  },
  {
   "cell_type": "code",
   "execution_count": 139,
   "id": "09fd1dbd",
   "metadata": {},
   "outputs": [
    {
     "data": {
      "text/plain": [
       "{'name': 'Frodo', 'age': 33, 'Nickname': 'ring bearer'}"
      ]
     },
     "execution_count": 139,
     "metadata": {},
     "output_type": "execute_result"
    }
   ],
   "source": [
    "d"
   ]
  },
  {
   "cell_type": "code",
   "execution_count": 140,
   "id": "82b44c52",
   "metadata": {},
   "outputs": [
    {
     "data": {
      "text/plain": [
       "33"
      ]
     },
     "execution_count": 140,
     "metadata": {},
     "output_type": "execute_result"
    }
   ],
   "source": [
    "d.pop('age')"
   ]
  },
  {
   "cell_type": "code",
   "execution_count": 141,
   "id": "524bfe03",
   "metadata": {},
   "outputs": [
    {
     "data": {
      "text/plain": [
       "{'name': 'Frodo', 'Nickname': 'ring bearer'}"
      ]
     },
     "execution_count": 141,
     "metadata": {},
     "output_type": "execute_result"
    }
   ],
   "source": [
    "d"
   ]
  },
  {
   "cell_type": "markdown",
   "id": "fe1edd95",
   "metadata": {},
   "source": [
    "## `zip` and `enumerate`"
   ]
  },
  {
   "cell_type": "code",
   "execution_count": 142,
   "id": "1a19d2b6",
   "metadata": {},
   "outputs": [],
   "source": [
    "countries = ('Japan', 'Korea', 'China')\n",
    "cities = ('Tokyo', 'Seoul', 'Beijing')"
   ]
  },
  {
   "cell_type": "code",
   "execution_count": 158,
   "id": "f49e5174",
   "metadata": {},
   "outputs": [],
   "source": [
    "zipped = zip(countries,cities)"
   ]
  },
  {
   "cell_type": "code",
   "execution_count": 159,
   "id": "ccc0f152",
   "metadata": {},
   "outputs": [
    {
     "data": {
      "text/plain": [
       "zip"
      ]
     },
     "execution_count": 159,
     "metadata": {},
     "output_type": "execute_result"
    }
   ],
   "source": [
    "type(zipped)"
   ]
  },
  {
   "cell_type": "code",
   "execution_count": 160,
   "id": "f5f43f73",
   "metadata": {},
   "outputs": [],
   "source": [
    "w = list(zipped)"
   ]
  },
  {
   "cell_type": "code",
   "execution_count": 161,
   "id": "c011453a",
   "metadata": {},
   "outputs": [
    {
     "data": {
      "text/plain": [
       "[('Japan', 'Tokyo'), ('Korea', 'Seoul'), ('China', 'Beijing')]"
      ]
     },
     "execution_count": 161,
     "metadata": {},
     "output_type": "execute_result"
    }
   ],
   "source": [
    "w"
   ]
  },
  {
   "cell_type": "code",
   "execution_count": 162,
   "id": "96fc8d79",
   "metadata": {},
   "outputs": [
    {
     "data": {
      "text/plain": [
       "('Japan', 'Tokyo')"
      ]
     },
     "execution_count": 162,
     "metadata": {},
     "output_type": "execute_result"
    }
   ],
   "source": [
    "w[0]"
   ]
  },
  {
   "cell_type": "code",
   "execution_count": 163,
   "id": "5daea90e",
   "metadata": {},
   "outputs": [],
   "source": [
    "country, city = w[0]"
   ]
  },
  {
   "cell_type": "code",
   "execution_count": 164,
   "id": "043a7025",
   "metadata": {},
   "outputs": [
    {
     "data": {
      "text/plain": [
       "'Japan'"
      ]
     },
     "execution_count": 164,
     "metadata": {},
     "output_type": "execute_result"
    }
   ],
   "source": [
    "country"
   ]
  },
  {
   "cell_type": "code",
   "execution_count": 165,
   "id": "2c8f7e9f",
   "metadata": {},
   "outputs": [
    {
     "data": {
      "text/plain": [
       "'Tokyo'"
      ]
     },
     "execution_count": 165,
     "metadata": {},
     "output_type": "execute_result"
    }
   ],
   "source": [
    "city"
   ]
  },
  {
   "cell_type": "code",
   "execution_count": 166,
   "id": "c040effe",
   "metadata": {},
   "outputs": [
    {
     "data": {
      "text/plain": [
       "('Tokyo', 'Seoul', 'Beijing')"
      ]
     },
     "execution_count": 166,
     "metadata": {},
     "output_type": "execute_result"
    }
   ],
   "source": [
    "cities"
   ]
  },
  {
   "cell_type": "code",
   "execution_count": 167,
   "id": "ea1db4e8",
   "metadata": {},
   "outputs": [],
   "source": [
    "ed = enumerate(cities)"
   ]
  },
  {
   "cell_type": "code",
   "execution_count": 168,
   "id": "c80eaf5d",
   "metadata": {},
   "outputs": [
    {
     "data": {
      "text/plain": [
       "[(0, 'Tokyo'), (1, 'Seoul'), (2, 'Beijing')]"
      ]
     },
     "execution_count": 168,
     "metadata": {},
     "output_type": "execute_result"
    }
   ],
   "source": [
    "list(ed)"
   ]
  },
  {
   "cell_type": "code",
   "execution_count": 169,
   "id": "8051d51e",
   "metadata": {},
   "outputs": [
    {
     "data": {
      "text/plain": [
       "enumerate"
      ]
     },
     "execution_count": 169,
     "metadata": {},
     "output_type": "execute_result"
    }
   ],
   "source": [
    "type(ed)"
   ]
  },
  {
   "cell_type": "code",
   "execution_count": null,
   "id": "6d4d9e90",
   "metadata": {},
   "outputs": [],
   "source": []
  }
 ],
 "metadata": {
  "kernelspec": {
   "display_name": "Python 3",
   "language": "python",
   "name": "python3"
  },
  "language_info": {
   "codemirror_mode": {
    "name": "ipython",
    "version": 3
   },
   "file_extension": ".py",
   "mimetype": "text/x-python",
   "name": "python",
   "nbconvert_exporter": "python",
   "pygments_lexer": "ipython3",
   "version": "3.8.8"
  }
 },
 "nbformat": 4,
 "nbformat_minor": 5
}
