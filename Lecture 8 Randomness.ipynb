{
 "cells": [
  {
   "cell_type": "markdown",
   "id": "4db1d648",
   "metadata": {},
   "source": [
    "# Randomness"
   ]
  },
  {
   "cell_type": "code",
   "execution_count": 2,
   "id": "54fb68f9",
   "metadata": {},
   "outputs": [],
   "source": [
    "import numpy as np\n",
    "import matplotlib.pyplot as plt"
   ]
  },
  {
   "cell_type": "markdown",
   "id": "3e846993",
   "metadata": {},
   "source": [
    "We refer to random variables with countable event spaces as discrete random variables and random variables with uncountable event spaces as continuous random variables.\n",
    "\n",
    "Examples:\n",
    "\n",
    "* A person's work status is either employed, unemployed, or not in the labor force. Discrete.\n",
    "* The change in a stock price can be any real number between opening price and infinity. Continuous. "
   ]
  },
  {
   "cell_type": "markdown",
   "id": "9f8e6389",
   "metadata": {},
   "source": [
    "## Using numpy"
   ]
  },
  {
   "cell_type": "code",
   "execution_count": 2,
   "id": "c70bb656",
   "metadata": {},
   "outputs": [],
   "source": [
    "rng = np.random.default_rng() # Obtain a random number generator object"
   ]
  },
  {
   "cell_type": "code",
   "execution_count": 3,
   "id": "bde2d877",
   "metadata": {},
   "outputs": [
    {
     "data": {
      "text/plain": [
       "array([0.17110428, 0.35297286, 0.80536445, 0.07179993, 0.8335875 ,\n",
       "       0.03158778, 0.18233784, 0.60059566, 0.33124584, 0.00708361])"
      ]
     },
     "execution_count": 3,
     "metadata": {},
     "output_type": "execute_result"
    }
   ],
   "source": [
    "rng.random(size=10) # uniform distribution in the internal [0,1]"
   ]
  },
  {
   "cell_type": "code",
   "execution_count": 4,
   "id": "272ef709",
   "metadata": {},
   "outputs": [
    {
     "data": {
      "text/plain": [
       "array([4, 2, 6, 1, 5, 5, 6, 4, 3, 4])"
      ]
     },
     "execution_count": 4,
     "metadata": {},
     "output_type": "execute_result"
    }
   ],
   "source": [
    "rng.integers(1,7,size=10) # discrete uniform distribution in the interval [1,6]"
   ]
  },
  {
   "cell_type": "code",
   "execution_count": 5,
   "id": "b2e613d5",
   "metadata": {},
   "outputs": [
    {
     "data": {
      "text/plain": [
       "array([-0.06071779,  1.24198136,  0.54225956, -0.44895588,  1.26103978,\n",
       "       -0.80903196,  0.4150141 ,  0.69164398, -1.44821621,  2.21045277])"
      ]
     },
     "execution_count": 5,
     "metadata": {},
     "output_type": "execute_result"
    }
   ],
   "source": [
    "rng.normal(size=10) # standard normal "
   ]
  },
  {
   "cell_type": "code",
   "execution_count": 6,
   "id": "49ae90de",
   "metadata": {},
   "outputs": [
    {
     "data": {
      "text/plain": [
       "array([ 1.70938468,  2.73573244,  0.11593426,  8.03954262, -3.22401735,\n",
       "       -5.75211066, -1.69430527, -0.89574898,  3.85505174, 11.23986953])"
      ]
     },
     "execution_count": 6,
     "metadata": {},
     "output_type": "execute_result"
    }
   ],
   "source": [
    "rng.normal(loc=1,scale=4, size=10) # normal with mean 1, and std 4"
   ]
  },
  {
   "cell_type": "code",
   "execution_count": 7,
   "id": "a9cd6b67",
   "metadata": {},
   "outputs": [
    {
     "data": {
      "text/plain": [
       "0.943054141739816"
      ]
     },
     "execution_count": 7,
     "metadata": {},
     "output_type": "execute_result"
    }
   ],
   "source": [
    "np.mean(rng.normal(loc=1,scale=4, size=10000)) # compute sample mean"
   ]
  },
  {
   "cell_type": "code",
   "execution_count": 8,
   "id": "af364417",
   "metadata": {},
   "outputs": [
    {
     "data": {
      "text/plain": [
       "4.016364121064437"
      ]
     },
     "execution_count": 8,
     "metadata": {},
     "output_type": "execute_result"
    }
   ],
   "source": [
    "np.std(rng.normal(loc=1,scale=4, size=10000)) # sample standard deviation"
   ]
  },
  {
   "cell_type": "code",
   "execution_count": 9,
   "id": "de2fbff2",
   "metadata": {},
   "outputs": [],
   "source": [
    "# randomize the order of numbers\n",
    "# generate an arrange of numbers first\n",
    "sample = np.arange(19)"
   ]
  },
  {
   "cell_type": "code",
   "execution_count": 10,
   "id": "c95e64b0",
   "metadata": {},
   "outputs": [
    {
     "data": {
      "text/plain": [
       "array([ 0,  1,  2,  3,  4,  5,  6,  7,  8,  9, 10, 11, 12, 13, 14, 15, 16,\n",
       "       17, 18])"
      ]
     },
     "execution_count": 10,
     "metadata": {},
     "output_type": "execute_result"
    }
   ],
   "source": [
    "sample"
   ]
  },
  {
   "cell_type": "code",
   "execution_count": 11,
   "id": "1e2a63a3",
   "metadata": {},
   "outputs": [],
   "source": [
    "rng.shuffle(sample)"
   ]
  },
  {
   "cell_type": "code",
   "execution_count": 12,
   "id": "4ab2a806",
   "metadata": {},
   "outputs": [
    {
     "data": {
      "text/plain": [
       "array([ 5, 14, 11, 15, 17, 18,  2,  9,  1,  7, 16, 12,  6, 13,  8,  0,  4,\n",
       "       10,  3])"
      ]
     },
     "execution_count": 12,
     "metadata": {},
     "output_type": "execute_result"
    }
   ],
   "source": [
    "sample"
   ]
  },
  {
   "cell_type": "markdown",
   "id": "1e1d14ab",
   "metadata": {},
   "source": [
    "## Using Scipy"
   ]
  },
  {
   "cell_type": "markdown",
   "id": "4f1bc6ec",
   "metadata": {},
   "source": [
    "### Binomial distribution\n",
    "\n",
    "* There are two potential outcomes per trial\n",
    "* the probability of success (p) is the same across all trials\n",
    "* the number of trials is fixed\n",
    "* each trial is independent\n",
    "\n",
    "The probability that an adult man in the labor force who is unemployed is about 5\\%. A random sample of 10 men is taken.\n",
    "\n",
    "Find the probability that\n",
    "\n",
    "* all 10 men are unemployed\n",
    "* no men are unemployed\n",
    "* exactly 2 men are unemployed\n",
    "* at least 2 men are unemployed"
   ]
  },
  {
   "cell_type": "code",
   "execution_count": 14,
   "id": "2b2de3f0",
   "metadata": {},
   "outputs": [],
   "source": [
    "answer = 0.05**10"
   ]
  },
  {
   "cell_type": "code",
   "execution_count": 19,
   "id": "d3a7041c",
   "metadata": {},
   "outputs": [
    {
     "data": {
      "text/plain": [
       "'0.000000000000098'"
      ]
     },
     "execution_count": 19,
     "metadata": {},
     "output_type": "execute_result"
    }
   ],
   "source": [
    "f'{answer:.15f}'"
   ]
  },
  {
   "cell_type": "code",
   "execution_count": 20,
   "id": "e70ce761",
   "metadata": {},
   "outputs": [
    {
     "data": {
      "text/plain": [
       "0.5987369392383787"
      ]
     },
     "execution_count": 20,
     "metadata": {},
     "output_type": "execute_result"
    }
   ],
   "source": [
    "0.95**10"
   ]
  },
  {
   "cell_type": "code",
   "execution_count": 22,
   "id": "a55ffa90",
   "metadata": {},
   "outputs": [],
   "source": [
    "import math"
   ]
  },
  {
   "cell_type": "code",
   "execution_count": 23,
   "id": "42410ef7",
   "metadata": {},
   "outputs": [
    {
     "data": {
      "text/plain": [
       "0.07463479852001952"
      ]
     },
     "execution_count": 23,
     "metadata": {},
     "output_type": "execute_result"
    }
   ],
   "source": [
    "math.comb(10,2)*0.05**2*0.95**8"
   ]
  },
  {
   "cell_type": "code",
   "execution_count": 24,
   "id": "2a846458",
   "metadata": {},
   "outputs": [
    {
     "data": {
      "text/plain": [
       "0.08613835589931679"
      ]
     },
     "execution_count": 24,
     "metadata": {},
     "output_type": "execute_result"
    }
   ],
   "source": [
    "1-0.95**10-math.comb(10,1)*0.05*0.95**9"
   ]
  },
  {
   "cell_type": "markdown",
   "id": "1deb0e14",
   "metadata": {},
   "source": [
    "Now answer with `scipy.stats`"
   ]
  },
  {
   "cell_type": "code",
   "execution_count": 4,
   "id": "4f40e209",
   "metadata": {},
   "outputs": [],
   "source": [
    "from scipy.stats import binom"
   ]
  },
  {
   "cell_type": "code",
   "execution_count": 26,
   "id": "73f8008a",
   "metadata": {},
   "outputs": [
    {
     "data": {
      "text/plain": [
       "9.765625000000005e-14"
      ]
     },
     "execution_count": 26,
     "metadata": {},
     "output_type": "execute_result"
    }
   ],
   "source": [
    "# pmf: probability mass function\n",
    "binom.pmf(10,10,0.05) "
   ]
  },
  {
   "cell_type": "code",
   "execution_count": 27,
   "id": "5aead460",
   "metadata": {},
   "outputs": [
    {
     "data": {
      "text/plain": [
       "0.5987369392383787"
      ]
     },
     "execution_count": 27,
     "metadata": {},
     "output_type": "execute_result"
    }
   ],
   "source": [
    "binom.pmf(0,10,0.05)"
   ]
  },
  {
   "cell_type": "code",
   "execution_count": 29,
   "id": "50cddf75",
   "metadata": {},
   "outputs": [
    {
     "data": {
      "text/plain": [
       "0.07463479852001963"
      ]
     },
     "execution_count": 29,
     "metadata": {},
     "output_type": "execute_result"
    }
   ],
   "source": [
    "binom.pmf(2,10,0.05)"
   ]
  },
  {
   "cell_type": "code",
   "execution_count": 30,
   "id": "b729bf2e",
   "metadata": {},
   "outputs": [
    {
     "data": {
      "text/plain": [
       "0.0861383558993164"
      ]
     },
     "execution_count": 30,
     "metadata": {},
     "output_type": "execute_result"
    }
   ],
   "source": [
    "1-binom.cdf(1,10,.05) #cdf: cumulative distribution function\n",
    "# binom.cdf(1,10,.05): probability that the number of unemployed is less or equal to 1 "
   ]
  },
  {
   "cell_type": "markdown",
   "id": "8862b61a",
   "metadata": {},
   "source": [
    "Visualisation"
   ]
  },
  {
   "cell_type": "code",
   "execution_count": 5,
   "id": "53b71bfc",
   "metadata": {},
   "outputs": [
    {
     "data": {
      "image/png": "[encoded data removed]",
      "text/plain": [
       "<Figure size 432x288 with 1 Axes>"
      ]
     },
     "metadata": {
      "needs_background": "light"
     },
     "output_type": "display_data"
    }
   ],
   "source": [
    "x = np.arange(10)\n",
    "fig, ax = plt.subplots()\n",
    "ax.bar(x,binom.pmf(x,10,.05))\n",
    "ax.set_title('Probability mass function')\n",
    "plt.show()"
   ]
  },
  {
   "cell_type": "code",
   "execution_count": 6,
   "id": "d8fc1bcf",
   "metadata": {},
   "outputs": [
    {
     "data": {
      "image/png": "[encoded data removed]",
      "text/plain": [
       "<Figure size 432x288 with 1 Axes>"
      ]
     },
     "metadata": {
      "needs_background": "light"
     },
     "output_type": "display_data"
    }
   ],
   "source": [
    "x = np.arange(10)\n",
    "fig, ax = plt.subplots()\n",
    "ax.bar(x,binom.cdf(x,10,.05))\n",
    "ax.set_title('Cumulative distribution function')\n",
    "plt.show()"
   ]
  },
  {
   "cell_type": "markdown",
   "id": "477a8395",
   "metadata": {},
   "source": [
    "Simulate many draws from the distribution, and show the distribution of the sample mean - the mean number of unemployed people."
   ]
  },
  {
   "cell_type": "code",
   "execution_count": 33,
   "id": "1191a0d2",
   "metadata": {},
   "outputs": [
    {
     "data": {
      "text/plain": [
       "array([0, 1, 0, 0, 1, 2, 0, 1, 0, 0])"
      ]
     },
     "execution_count": 33,
     "metadata": {},
     "output_type": "execute_result"
    }
   ],
   "source": [
    "binom.rvs(10,.05,size=10) # rvs: generate random variables"
   ]
  },
  {
   "cell_type": "code",
   "execution_count": 34,
   "id": "1f9962ba",
   "metadata": {},
   "outputs": [
    {
     "data": {
      "text/plain": [
       "0.7"
      ]
     },
     "execution_count": 34,
     "metadata": {},
     "output_type": "execute_result"
    }
   ],
   "source": [
    "np.mean(binom.rvs(10,.05,size=10))"
   ]
  },
  {
   "cell_type": "code",
   "execution_count": 35,
   "id": "8e23e0d8",
   "metadata": {},
   "outputs": [],
   "source": [
    "size = 10000\n",
    "means = np.zeros(size)\n",
    "for j in np.arange(size):\n",
    "    means[j] = np.mean(binom.rvs(10,.05,size=10))"
   ]
  },
  {
   "cell_type": "code",
   "execution_count": 36,
   "id": "04794ae9",
   "metadata": {},
   "outputs": [
    {
     "data": {
      "image/png": "[encoded data removed]",
      "text/plain": [
       "<Figure size 432x288 with 1 Axes>"
      ]
     },
     "metadata": {
      "needs_background": "light"
     },
     "output_type": "display_data"
    }
   ],
   "source": [
    "fig, ax = plt.subplots()\n",
    "ax.hist(means)\n",
    "plt.show()"
   ]
  },
  {
   "cell_type": "code",
   "execution_count": 37,
   "id": "a1137d62",
   "metadata": {},
   "outputs": [
    {
     "data": {
      "text/plain": [
       "0.5"
      ]
     },
     "execution_count": 37,
     "metadata": {},
     "output_type": "execute_result"
    }
   ],
   "source": [
    "binom.mean(10,.05)"
   ]
  },
  {
   "cell_type": "markdown",
   "id": "b1c562d0",
   "metadata": {},
   "source": [
    "### Poisson Distribution\n",
    "\n",
    "Describes the number of events occurring in a fixed time interval\n",
    "* The rate at which events occur is constant\n",
    "* events are independent\n",
    "- Requires only one parameter $\\lambda$ (mean)\n",
    "- Bounded by 0 and $\\infty$\n",
    "- $E(x)=\\lambda$ and $var(x)=\\lambda$\n",
    "\n",
    "On average, 12 students visit Henry during his office hours per week.\n",
    "\n",
    "* What is the probability that 10 students go to Henry's office hours next week?\n",
    "* What is the probability that at least 10 students go to Henry's office hours next week?\n",
    "* What is the probability that more than 1 student go to Henry's office hours on Monday?"
   ]
  },
  {
   "cell_type": "code",
   "execution_count": 10,
   "id": "c0b66fcb",
   "metadata": {},
   "outputs": [],
   "source": [
    "from scipy.stats import poisson"
   ]
  },
  {
   "cell_type": "code",
   "execution_count": 49,
   "id": "704515f7",
   "metadata": {},
   "outputs": [
    {
     "data": {
      "image/png": "[encoded data removed]",
      "text/plain": [
       "<Figure size 432x288 with 1 Axes>"
      ]
     },
     "metadata": {
      "needs_background": "light"
     },
     "output_type": "display_data"
    }
   ],
   "source": [
    "x = np.arange(20)\n",
    "fig, ax = plt.subplots()\n",
    "ax.bar(x,poisson.pmf(x,12))\n",
    "ax.set_xticks(range(20))\n",
    "plt.show()"
   ]
  },
  {
   "cell_type": "code",
   "execution_count": 51,
   "id": "d22e6c97",
   "metadata": {},
   "outputs": [
    {
     "data": {
      "text/plain": [
       "0.10483725588365922"
      ]
     },
     "execution_count": 51,
     "metadata": {},
     "output_type": "execute_result"
    }
   ],
   "source": [
    "poisson.pmf(10,12)"
   ]
  },
  {
   "cell_type": "code",
   "execution_count": 50,
   "id": "cddd3e89",
   "metadata": {},
   "outputs": [
    {
     "data": {
      "text/plain": [
       "0.7576078383294875"
      ]
     },
     "execution_count": 50,
     "metadata": {},
     "output_type": "execute_result"
    }
   ],
   "source": [
    "1-poisson.cdf(9,12) \n",
    "# poisson.cdf(9,12) the probability that 9 or less students visit Henry"
   ]
  },
  {
   "cell_type": "code",
   "execution_count": 52,
   "id": "8b2cc4f8",
   "metadata": {},
   "outputs": [
    {
     "data": {
      "text/plain": [
       "0.9826487347633355"
      ]
     },
     "execution_count": 52,
     "metadata": {},
     "output_type": "execute_result"
    }
   ],
   "source": [
    "1-poisson.cdf(1,6)"
   ]
  },
  {
   "cell_type": "markdown",
   "id": "b0d73945",
   "metadata": {},
   "source": [
    "Simulate, plot the distribution of the sample mean"
   ]
  },
  {
   "cell_type": "code",
   "execution_count": 53,
   "id": "414383c5",
   "metadata": {},
   "outputs": [],
   "source": [
    "means = np.zeros(size)\n",
    "for j in np.arange(size):\n",
    "    means[j] = np.mean(poisson.rvs(12,size=10))"
   ]
  },
  {
   "cell_type": "code",
   "execution_count": 54,
   "id": "e567f5e3",
   "metadata": {},
   "outputs": [
    {
     "data": {
      "image/png": "[encoded data removed]",
      "text/plain": [
       "<Figure size 432x288 with 1 Axes>"
      ]
     },
     "metadata": {
      "needs_background": "light"
     },
     "output_type": "display_data"
    }
   ],
   "source": [
    "fig, ax = plt.subplots()\n",
    "ax.hist(means)\n",
    "plt.show()"
   ]
  },
  {
   "cell_type": "markdown",
   "id": "cd89185c",
   "metadata": {},
   "source": [
    "### Exponential distribution\n",
    "\n",
    "The inverse of Poisson:\n",
    "\n",
    "* Poisson: the number of events per unit of time\n",
    "* Exponential: time it takes until an event first occurs\n",
    "* Is a continuous distribution\n",
    "\n",
    "Examples:\n",
    "\n",
    "* Poission: the number of soldiers killed by horsekicks per year in the Prussian army (mean = 0.61)\n",
    "* Exponential: years until the next soldier gets killed by horsekicks"
   ]
  },
  {
   "cell_type": "code",
   "execution_count": 8,
   "id": "81cba9ec",
   "metadata": {},
   "outputs": [],
   "source": [
    "from scipy.stats import expon"
   ]
  },
  {
   "cell_type": "code",
   "execution_count": 16,
   "id": "10db0c9e",
   "metadata": {},
   "outputs": [
    {
     "data": {
      "image/png": "[encoded data removed]",
      "text/plain": [
       "<Figure size 864x360 with 2 Axes>"
      ]
     },
     "metadata": {
      "needs_background": "light"
     },
     "output_type": "display_data"
    }
   ],
   "source": [
    "# look up for what .ppf() does on your own\n",
    "# for continuous random variables, the proper terminology is probability density functions (pdf)\n",
    "# instead of pmf.\n",
    "fig, ax = plt.subplots(1,2,figsize=(12,5))\n",
    "x2 = np.linspace(expon.ppf(0.01,scale=1/0.61), expon.ppf(0.99,scale=1/.61), 100)\n",
    "x1 = np.linspace(poisson.ppf(0.01,0.61), poisson.ppf(0.99,0.61), 100)\n",
    "ax[0].bar(x1, poisson.pmf(x1,0.61),alpha=0.6, label='poisson pdf')\n",
    "ax[0].set_xticks(range(6))\n",
    "ax[0].legend()\n",
    "ax[1].plot(x2, expon.pdf(x2,scale=1/0.61),'r-', lw=5, alpha=0.6, label='expon pdf')\n",
    "ax[1].legend()\n",
    "plt.show()"
   ]
  },
  {
   "cell_type": "markdown",
   "id": "d20dca1b",
   "metadata": {},
   "source": [
    "What was the probability that the next horsekick death happened in less than 2 years?"
   ]
  },
  {
   "cell_type": "code",
   "execution_count": 57,
   "id": "6fb3bf1e",
   "metadata": {},
   "outputs": [
    {
     "data": {
      "text/plain": [
       "0.7047698330759857"
      ]
     },
     "execution_count": 57,
     "metadata": {},
     "output_type": "execute_result"
    }
   ],
   "source": [
    "expon.cdf(2,scale=1/.61)"
   ]
  },
  {
   "cell_type": "markdown",
   "id": "ac765ec1",
   "metadata": {},
   "source": [
    "Exercise\n",
    "\n",
    "Simulate many draws from the exponential distribution, and plot the histogram of the mean value of x.\n",
    "\n",
    "Central Limite Theorem\n",
    "\n",
    "As n increases, the distribution of the sample mean approaches a normal distribution."
   ]
  },
  {
   "cell_type": "markdown",
   "id": "8ff3fc4f",
   "metadata": {},
   "source": [
    "### Gamma distribution\n",
    "\n",
    "Similar to the Exponential distribution. Difference:\n",
    "\n",
    "* exponential: the time until the first event occurs\n",
    "* gamma: the time until the kth event occurs\n",
    "\n",
    "Parameters:\n",
    "\n",
    "a: the number of events. If a=1, it becomes the exponential distribution.\n",
    "If a is an integer, it becomes the Erlang distribution\n",
    "\n",
    "β: the rate of events (average number of events per unit of time), same as the mean in Poisson. \n",
    "Scale=1/β (mean wait time)."
   ]
  },
  {
   "cell_type": "code",
   "execution_count": 58,
   "id": "dee63ad7",
   "metadata": {},
   "outputs": [],
   "source": [
    "from scipy.stats import gamma"
   ]
  },
  {
   "cell_type": "code",
   "execution_count": 59,
   "id": "a5684075",
   "metadata": {},
   "outputs": [
    {
     "data": {
      "image/png": "[encoded data removed]",
      "text/plain": [
       "<Figure size 720x432 with 1 Axes>"
      ]
     },
     "metadata": {
      "needs_background": "light"
     },
     "output_type": "display_data"
    }
   ],
   "source": [
    "def plot_gamma(a, β, x, ax=None):\n",
    "    if ax is None:\n",
    "        _, ax = plt.subplots()\n",
    "\n",
    "    # scipy refers to the rate parameter beta as a scale parameter\n",
    "    pdf_x = gamma(a, scale=β).pdf(x)\n",
    "    ax.plot(x, pdf_x, label=f\"a = {a}  β = {β}\")\n",
    "\n",
    "    return ax\n",
    "\n",
    "fig, ax = plt.subplots(figsize=(10, 6))\n",
    "x = np.linspace(0.1, 20, 130)\n",
    "plot_gamma(2.0, 1.0, x, ax)\n",
    "plot_gamma(3.0, 1.0, x, ax)\n",
    "plot_gamma(3.0, 2.0, x, ax)\n",
    "plot_gamma(3.0, 0.5, x, ax)\n",
    "ax.set_ylim((0, 0.6))\n",
    "ax.set_xlim((0, 20))\n",
    "ax.legend();"
   ]
  },
  {
   "cell_type": "code",
   "execution_count": null,
   "id": "7e6f6bc3",
   "metadata": {},
   "outputs": [],
   "source": []
  }
 ],
 "metadata": {
  "kernelspec": {
   "display_name": "Python 3",
   "language": "python",
   "name": "python3"
  },
  "language_info": {
   "codemirror_mode": {
    "name": "ipython",
    "version": 3
   },
   "file_extension": ".py",
   "mimetype": "text/x-python",
   "name": "python",
   "nbconvert_exporter": "python",
   "pygments_lexer": "ipython3",
   "version": "3.8.8"
  }
 },
 "nbformat": 4,
 "nbformat_minor": 5
}
